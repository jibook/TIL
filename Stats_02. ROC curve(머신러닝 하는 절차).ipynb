{
 "cells": [
  {
   "cell_type": "code",
   "execution_count": 54,
   "id": "6b962bf3",
   "metadata": {},
   "outputs": [],
   "source": [
    "# ROC curve\n",
    "\n",
    "import numpy as np\n",
    "import pandas as pd\n",
    "import matplotlib.pyplot as plt\n",
    "import seaborn as sns  "
   ]
  },
  {
   "cell_type": "code",
   "execution_count": 55,
   "id": "3466780c",
   "metadata": {},
   "outputs": [],
   "source": [
    "from sklearn.datasets import make_classification \n",
    "from sklearn.neighbors import KNeighborsClassifier # k 근접 이웃 \n",
    "from sklearn.ensemble import RandomForestClassifier # 앙상블_랜덤 포레스트 \n",
    "from sklearn.model_selection import train_test_split \n",
    "from sklearn.metrics import roc_curve\n",
    "from sklearn.metrics import roc_auc_score "
   ]
  },
  {
   "cell_type": "code",
   "execution_count": 56,
   "id": "e72f11a5",
   "metadata": {},
   "outputs": [],
   "source": [
    "# roc curve 함수 정의\n",
    "\n",
    "def plot_roc_curve(fpr, tpr): \n",
    "    plt.plot(fpr,tpr,color='purple',label='ROC')\n",
    "    plt.plot([0,1],[0,1], color='red',linestyle=\"--\")\n",
    "    plt.xlable(\"false positive rate\")\n",
    "    plt.ylable(\"true positive rate\")\n",
    "    plt.title(\"Receiver Operating Characteristics(ROC) Curve\")\n",
    "    plt.legend  # 범례\n",
    "    plt.show()\n",
    "    \n",
    "   "
   ]
  },
  {
   "cell_type": "code",
   "execution_count": 57,
   "id": "9dfe61b4",
   "metadata": {},
   "outputs": [],
   "source": [
    "# fpr(false positive rate) : 특이도(틀리도ㅋ)\n",
    "# tpr(true positive rate) : 민감도, 재현율"
   ]
  },
  {
   "cell_type": "code",
   "execution_count": 58,
   "id": "213027a0",
   "metadata": {},
   "outputs": [],
   "source": [
    "data_X, class_label = make_classification(n_samples=1000, n_classes=2, weights=[1,1], random_state=1)"
   ]
  },
  {
   "cell_type": "code",
   "execution_count": 59,
   "id": "4c03e8e2",
   "metadata": {},
   "outputs": [],
   "source": [
    "# Train, Test 분리\n",
    "train_X, test_X, train_y, test_y = train_test_split(data_X, class_label, test_size=0.3, random_state=1)"
   ]
  },
  {
   "cell_type": "code",
   "execution_count": 60,
   "id": "057efe30",
   "metadata": {},
   "outputs": [
    {
     "data": {
      "text/plain": [
       "RandomForestClassifier()"
      ]
     },
     "execution_count": 60,
     "metadata": {},
     "output_type": "execute_result"
    }
   ],
   "source": [
    "# random forest model 적용\n",
    "\n",
    "model = RandomForestClassifier()\n",
    "model.fit(train_X, train_y)  # fit 은 반드시 train data로"
   ]
  },
  {
   "cell_type": "code",
   "execution_count": 61,
   "id": "37bff57a",
   "metadata": {},
   "outputs": [
    {
     "name": "stdout",
     "output_type": "stream",
     "text": [
      "[0 1 0 0 1 1 1 1 1 0 1 1 0 1 1 0 1 0 1 0 0 0 1 1 1 1 0 1 1 1 0 0 1 1 1 0 0\n",
      " 0 1 0 0 1 0 0 1 0 1 1 1 0 0 1 0 0 0 0 1 1 0 0 0 0 1 0 0 0 0 1 1 0 1 0 1 0\n",
      " 0 1 0 1 1 1 0 0 1 1 0 1 0 0 1 1 1 1 0 0 1 0 1 1 0 0 1 0 1 0 0 1 0 1 1 1 1\n",
      " 0 1 1 1 1 1 0 1 0 0 0 0 1 1 0 1 1 1 1 1 0 1 1 0 1 0 1 1 1 1 1 0 0 1 0 1 0\n",
      " 0 1 0 0 1 1 1 0 1 1 0 0 1 1 0 1 0 0 1 0 1 0 1 1 0 0 1 1 1 1 1 1 0 0 0 0 0\n",
      " 0 0 0 1 1 0 1 1 1 0 0 0 1 1 0 0 0 0 1 1 0 0 1 1 0 1 1 0 0 1 1 0 1 0 0 1 0\n",
      " 0 1 1 1 1 0 0 1 0 1 1 0 1 1 1 0 1 1 0 1 1 0 1 1 1 1 0 0 0 1 1 1 1 1 0 1 1\n",
      " 0 1 0 1 1 1 1 1 1 0 1 1 1 0 0 1 1 1 1 1 1 0 1 0 1 1 1 1 0 1 1 0 0 0 0 0 0\n",
      " 1 1 1 0]\n"
     ]
    }
   ],
   "source": [
    "# 테스트 데이터 셋으로 예측(확률 예측)\n",
    "\n",
    "print(model.predict(test_X))  # 모델 예측 결과 값\n"
   ]
  },
  {
   "cell_type": "code",
   "execution_count": 62,
   "id": "84060a7f",
   "metadata": {},
   "outputs": [
    {
     "data": {
      "text/plain": [
       "array([[0.98, 0.02],\n",
       "       [0.04, 0.96],\n",
       "       [0.97, 0.03],\n",
       "       [0.97, 0.03],\n",
       "       [0.05, 0.95],\n",
       "       [0.19, 0.81],\n",
       "       [0.21, 0.79],\n",
       "       [0.05, 0.95],\n",
       "       [0.28, 0.72],\n",
       "       [0.89, 0.11],\n",
       "       [0.23, 0.77],\n",
       "       [0.02, 0.98],\n",
       "       [0.95, 0.05],\n",
       "       [0.2 , 0.8 ],\n",
       "       [0.18, 0.82],\n",
       "       [0.98, 0.02],\n",
       "       [0.14, 0.86],\n",
       "       [0.9 , 0.1 ],\n",
       "       [0.13, 0.87],\n",
       "       [0.97, 0.03],\n",
       "       [0.95, 0.05],\n",
       "       [0.82, 0.18],\n",
       "       [0.11, 0.89],\n",
       "       [0.18, 0.82],\n",
       "       [0.15, 0.85],\n",
       "       [0.18, 0.82],\n",
       "       [0.95, 0.05],\n",
       "       [0.17, 0.83],\n",
       "       [0.13, 0.87],\n",
       "       [0.13, 0.87],\n",
       "       [0.98, 0.02],\n",
       "       [0.96, 0.04],\n",
       "       [0.19, 0.81],\n",
       "       [0.34, 0.66],\n",
       "       [0.29, 0.71],\n",
       "       [0.89, 0.11],\n",
       "       [0.99, 0.01],\n",
       "       [0.72, 0.28],\n",
       "       [0.07, 0.93],\n",
       "       [0.96, 0.04],\n",
       "       [0.99, 0.01],\n",
       "       [0.29, 0.71],\n",
       "       [0.95, 0.05],\n",
       "       [0.82, 0.18],\n",
       "       [0.27, 0.73],\n",
       "       [0.96, 0.04],\n",
       "       [0.19, 0.81],\n",
       "       [0.2 , 0.8 ],\n",
       "       [0.19, 0.81],\n",
       "       [0.91, 0.09],\n",
       "       [0.99, 0.01],\n",
       "       [0.25, 0.75],\n",
       "       [0.96, 0.04],\n",
       "       [0.93, 0.07],\n",
       "       [0.92, 0.08],\n",
       "       [0.93, 0.07],\n",
       "       [0.23, 0.77],\n",
       "       [0.2 , 0.8 ],\n",
       "       [0.89, 0.11],\n",
       "       [0.93, 0.07],\n",
       "       [0.52, 0.48],\n",
       "       [0.99, 0.01],\n",
       "       [0.04, 0.96],\n",
       "       [0.92, 0.08],\n",
       "       [0.81, 0.19],\n",
       "       [0.65, 0.35],\n",
       "       [0.96, 0.04],\n",
       "       [0.35, 0.65],\n",
       "       [0.08, 0.92],\n",
       "       [0.5 , 0.5 ],\n",
       "       [0.13, 0.87],\n",
       "       [1.  , 0.  ],\n",
       "       [0.09, 0.91],\n",
       "       [0.99, 0.01],\n",
       "       [0.95, 0.05],\n",
       "       [0.07, 0.93],\n",
       "       [0.97, 0.03],\n",
       "       [0.02, 0.98],\n",
       "       [0.08, 0.92],\n",
       "       [0.15, 0.85],\n",
       "       [0.94, 0.06],\n",
       "       [0.92, 0.08],\n",
       "       [0.29, 0.71],\n",
       "       [0.09, 0.91],\n",
       "       [0.77, 0.23],\n",
       "       [0.23, 0.77],\n",
       "       [1.  , 0.  ],\n",
       "       [0.95, 0.05],\n",
       "       [0.49, 0.51],\n",
       "       [0.3 , 0.7 ],\n",
       "       [0.14, 0.86],\n",
       "       [0.14, 0.86],\n",
       "       [0.54, 0.46],\n",
       "       [0.98, 0.02],\n",
       "       [0.06, 0.94],\n",
       "       [0.76, 0.24],\n",
       "       [0.12, 0.88],\n",
       "       [0.23, 0.77],\n",
       "       [0.97, 0.03],\n",
       "       [0.98, 0.02],\n",
       "       [0.13, 0.87],\n",
       "       [0.96, 0.04],\n",
       "       [0.27, 0.73],\n",
       "       [0.92, 0.08],\n",
       "       [0.96, 0.04],\n",
       "       [0.06, 0.94],\n",
       "       [0.85, 0.15],\n",
       "       [0.28, 0.72],\n",
       "       [0.45, 0.55],\n",
       "       [0.32, 0.68],\n",
       "       [0.13, 0.87],\n",
       "       [0.99, 0.01],\n",
       "       [0.15, 0.85],\n",
       "       [0.09, 0.91],\n",
       "       [0.03, 0.97],\n",
       "       [0.06, 0.94],\n",
       "       [0.13, 0.87],\n",
       "       [0.95, 0.05],\n",
       "       [0.08, 0.92],\n",
       "       [1.  , 0.  ],\n",
       "       [0.98, 0.02],\n",
       "       [0.96, 0.04],\n",
       "       [0.98, 0.02],\n",
       "       [0.14, 0.86],\n",
       "       [0.17, 0.83],\n",
       "       [0.93, 0.07],\n",
       "       [0.19, 0.81],\n",
       "       [0.06, 0.94],\n",
       "       [0.14, 0.86],\n",
       "       [0.11, 0.89],\n",
       "       [0.15, 0.85],\n",
       "       [0.99, 0.01],\n",
       "       [0.08, 0.92],\n",
       "       [0.15, 0.85],\n",
       "       [0.72, 0.28],\n",
       "       [0.21, 0.79],\n",
       "       [0.94, 0.06],\n",
       "       [0.14, 0.86],\n",
       "       [0.06, 0.94],\n",
       "       [0.25, 0.75],\n",
       "       [0.13, 0.87],\n",
       "       [0.25, 0.75],\n",
       "       [0.96, 0.04],\n",
       "       [0.98, 0.02],\n",
       "       [0.1 , 0.9 ],\n",
       "       [0.89, 0.11],\n",
       "       [0.2 , 0.8 ],\n",
       "       [0.78, 0.22],\n",
       "       [0.88, 0.12],\n",
       "       [0.22, 0.78],\n",
       "       [0.97, 0.03],\n",
       "       [0.95, 0.05],\n",
       "       [0.05, 0.95],\n",
       "       [0.12, 0.88],\n",
       "       [0.4 , 0.6 ],\n",
       "       [0.98, 0.02],\n",
       "       [0.4 , 0.6 ],\n",
       "       [0.32, 0.68],\n",
       "       [0.98, 0.02],\n",
       "       [0.94, 0.06],\n",
       "       [0.16, 0.84],\n",
       "       [0.28, 0.72],\n",
       "       [1.  , 0.  ],\n",
       "       [0.29, 0.71],\n",
       "       [0.79, 0.21],\n",
       "       [0.89, 0.11],\n",
       "       [0.13, 0.87],\n",
       "       [0.95, 0.05],\n",
       "       [0.24, 0.76],\n",
       "       [0.96, 0.04],\n",
       "       [0.37, 0.63],\n",
       "       [0.25, 0.75],\n",
       "       [0.94, 0.06],\n",
       "       [0.99, 0.01],\n",
       "       [0.17, 0.83],\n",
       "       [0.14, 0.86],\n",
       "       [0.13, 0.87],\n",
       "       [0.11, 0.89],\n",
       "       [0.06, 0.94],\n",
       "       [0.16, 0.84],\n",
       "       [0.96, 0.04],\n",
       "       [0.93, 0.07],\n",
       "       [0.59, 0.41],\n",
       "       [0.8 , 0.2 ],\n",
       "       [0.51, 0.49],\n",
       "       [0.51, 0.49],\n",
       "       [0.98, 0.02],\n",
       "       [0.77, 0.23],\n",
       "       [0.41, 0.59],\n",
       "       [0.13, 0.87],\n",
       "       [0.97, 0.03],\n",
       "       [0.12, 0.88],\n",
       "       [0.11, 0.89],\n",
       "       [0.2 , 0.8 ],\n",
       "       [0.75, 0.25],\n",
       "       [0.68, 0.32],\n",
       "       [0.95, 0.05],\n",
       "       [0.07, 0.93],\n",
       "       [0.22, 0.78],\n",
       "       [0.98, 0.02],\n",
       "       [0.97, 0.03],\n",
       "       [0.95, 0.05],\n",
       "       [0.72, 0.28],\n",
       "       [0.11, 0.89],\n",
       "       [0.2 , 0.8 ],\n",
       "       [0.8 , 0.2 ],\n",
       "       [0.98, 0.02],\n",
       "       [0.22, 0.78],\n",
       "       [0.18, 0.82],\n",
       "       [0.91, 0.09],\n",
       "       [0.08, 0.92],\n",
       "       [0.12, 0.88],\n",
       "       [0.99, 0.01],\n",
       "       [0.96, 0.04],\n",
       "       [0.21, 0.79],\n",
       "       [0.05, 0.95],\n",
       "       [0.98, 0.02],\n",
       "       [0.12, 0.88],\n",
       "       [0.95, 0.05],\n",
       "       [0.98, 0.02],\n",
       "       [0.38, 0.62],\n",
       "       [0.97, 0.03],\n",
       "       [0.87, 0.13],\n",
       "       [0.05, 0.95],\n",
       "       [0.16, 0.84],\n",
       "       [0.19, 0.81],\n",
       "       [0.09, 0.91],\n",
       "       [0.97, 0.03],\n",
       "       [0.78, 0.22],\n",
       "       [0.06, 0.94],\n",
       "       [0.53, 0.47],\n",
       "       [0.2 , 0.8 ],\n",
       "       [0.06, 0.94],\n",
       "       [0.86, 0.14],\n",
       "       [0.12, 0.88],\n",
       "       [0.07, 0.93],\n",
       "       [0.14, 0.86],\n",
       "       [0.89, 0.11],\n",
       "       [0.15, 0.85],\n",
       "       [0.05, 0.95],\n",
       "       [1.  , 0.  ],\n",
       "       [0.1 , 0.9 ],\n",
       "       [0.1 , 0.9 ],\n",
       "       [0.95, 0.05],\n",
       "       [0.08, 0.92],\n",
       "       [0.39, 0.61],\n",
       "       [0.48, 0.52],\n",
       "       [0.13, 0.87],\n",
       "       [0.68, 0.32],\n",
       "       [0.73, 0.27],\n",
       "       [0.96, 0.04],\n",
       "       [0.06, 0.94],\n",
       "       [0.07, 0.93],\n",
       "       [0.25, 0.75],\n",
       "       [0.15, 0.85],\n",
       "       [0.1 , 0.9 ],\n",
       "       [0.94, 0.06],\n",
       "       [0.17, 0.83],\n",
       "       [0.37, 0.63],\n",
       "       [0.99, 0.01],\n",
       "       [0.09, 0.91],\n",
       "       [0.83, 0.17],\n",
       "       [0.04, 0.96],\n",
       "       [0.05, 0.95],\n",
       "       [0.38, 0.62],\n",
       "       [0.07, 0.93],\n",
       "       [0.31, 0.69],\n",
       "       [0.08, 0.92],\n",
       "       [0.87, 0.13],\n",
       "       [0.17, 0.83],\n",
       "       [0.18, 0.82],\n",
       "       [0.05, 0.95],\n",
       "       [0.53, 0.47],\n",
       "       [0.88, 0.12],\n",
       "       [0.08, 0.92],\n",
       "       [0.09, 0.91],\n",
       "       [0.42, 0.58],\n",
       "       [0.31, 0.69],\n",
       "       [0.16, 0.84],\n",
       "       [0.02, 0.98],\n",
       "       [0.96, 0.04],\n",
       "       [0.21, 0.79],\n",
       "       [0.79, 0.21],\n",
       "       [0.06, 0.94],\n",
       "       [0.31, 0.69],\n",
       "       [0.22, 0.78],\n",
       "       [0.12, 0.88],\n",
       "       [0.95, 0.05],\n",
       "       [0.12, 0.88],\n",
       "       [0.09, 0.91],\n",
       "       [0.99, 0.01],\n",
       "       [0.97, 0.03],\n",
       "       [0.96, 0.04],\n",
       "       [0.92, 0.08],\n",
       "       [0.99, 0.01],\n",
       "       [0.87, 0.13],\n",
       "       [0.15, 0.85],\n",
       "       [0.21, 0.79],\n",
       "       [0.22, 0.78],\n",
       "       [0.99, 0.01]])"
      ]
     },
     "execution_count": 62,
     "metadata": {},
     "output_type": "execute_result"
    }
   ],
   "source": [
    "model.predict_proba(test_X)   # 모델 예측 결과 값이 나올 확률 "
   ]
  },
  {
   "cell_type": "code",
   "execution_count": 63,
   "id": "30cde9a2",
   "metadata": {},
   "outputs": [],
   "source": [
    "probs = model.predict_proba(test_X)"
   ]
  },
  {
   "cell_type": "code",
   "execution_count": 64,
   "id": "708d49de",
   "metadata": {},
   "outputs": [
    {
     "data": {
      "text/plain": [
       "array([0.02, 0.96, 0.03, 0.03, 0.95, 0.81, 0.79, 0.95, 0.72, 0.11, 0.77,\n",
       "       0.98, 0.05, 0.8 , 0.82, 0.02, 0.86, 0.1 , 0.87, 0.03, 0.05, 0.18,\n",
       "       0.89, 0.82, 0.85, 0.82, 0.05, 0.83, 0.87, 0.87, 0.02, 0.04, 0.81,\n",
       "       0.66, 0.71, 0.11, 0.01, 0.28, 0.93, 0.04, 0.01, 0.71, 0.05, 0.18,\n",
       "       0.73, 0.04, 0.81, 0.8 , 0.81, 0.09, 0.01, 0.75, 0.04, 0.07, 0.08,\n",
       "       0.07, 0.77, 0.8 , 0.11, 0.07, 0.48, 0.01, 0.96, 0.08, 0.19, 0.35,\n",
       "       0.04, 0.65, 0.92, 0.5 , 0.87, 0.  , 0.91, 0.01, 0.05, 0.93, 0.03,\n",
       "       0.98, 0.92, 0.85, 0.06, 0.08, 0.71, 0.91, 0.23, 0.77, 0.  , 0.05,\n",
       "       0.51, 0.7 , 0.86, 0.86, 0.46, 0.02, 0.94, 0.24, 0.88, 0.77, 0.03,\n",
       "       0.02, 0.87, 0.04, 0.73, 0.08, 0.04, 0.94, 0.15, 0.72, 0.55, 0.68,\n",
       "       0.87, 0.01, 0.85, 0.91, 0.97, 0.94, 0.87, 0.05, 0.92, 0.  , 0.02,\n",
       "       0.04, 0.02, 0.86, 0.83, 0.07, 0.81, 0.94, 0.86, 0.89, 0.85, 0.01,\n",
       "       0.92, 0.85, 0.28, 0.79, 0.06, 0.86, 0.94, 0.75, 0.87, 0.75, 0.04,\n",
       "       0.02, 0.9 , 0.11, 0.8 , 0.22, 0.12, 0.78, 0.03, 0.05, 0.95, 0.88,\n",
       "       0.6 , 0.02, 0.6 , 0.68, 0.02, 0.06, 0.84, 0.72, 0.  , 0.71, 0.21,\n",
       "       0.11, 0.87, 0.05, 0.76, 0.04, 0.63, 0.75, 0.06, 0.01, 0.83, 0.86,\n",
       "       0.87, 0.89, 0.94, 0.84, 0.04, 0.07, 0.41, 0.2 , 0.49, 0.49, 0.02,\n",
       "       0.23, 0.59, 0.87, 0.03, 0.88, 0.89, 0.8 , 0.25, 0.32, 0.05, 0.93,\n",
       "       0.78, 0.02, 0.03, 0.05, 0.28, 0.89, 0.8 , 0.2 , 0.02, 0.78, 0.82,\n",
       "       0.09, 0.92, 0.88, 0.01, 0.04, 0.79, 0.95, 0.02, 0.88, 0.05, 0.02,\n",
       "       0.62, 0.03, 0.13, 0.95, 0.84, 0.81, 0.91, 0.03, 0.22, 0.94, 0.47,\n",
       "       0.8 , 0.94, 0.14, 0.88, 0.93, 0.86, 0.11, 0.85, 0.95, 0.  , 0.9 ,\n",
       "       0.9 , 0.05, 0.92, 0.61, 0.52, 0.87, 0.32, 0.27, 0.04, 0.94, 0.93,\n",
       "       0.75, 0.85, 0.9 , 0.06, 0.83, 0.63, 0.01, 0.91, 0.17, 0.96, 0.95,\n",
       "       0.62, 0.93, 0.69, 0.92, 0.13, 0.83, 0.82, 0.95, 0.47, 0.12, 0.92,\n",
       "       0.91, 0.58, 0.69, 0.84, 0.98, 0.04, 0.79, 0.21, 0.94, 0.69, 0.78,\n",
       "       0.88, 0.05, 0.88, 0.91, 0.01, 0.03, 0.04, 0.08, 0.01, 0.13, 0.85,\n",
       "       0.79, 0.78, 0.01])"
      ]
     },
     "execution_count": 64,
     "metadata": {},
     "output_type": "execute_result"
    }
   ],
   "source": [
    "# 성능 평가\n",
    "\n",
    "# positive class만 유지 \n",
    "probs[:,1]"
   ]
  },
  {
   "cell_type": "code",
   "execution_count": 65,
   "id": "e0205cbb",
   "metadata": {},
   "outputs": [],
   "source": [
    "probs = probs[:,1]"
   ]
  },
  {
   "cell_type": "code",
   "execution_count": 66,
   "id": "cabad5cc",
   "metadata": {},
   "outputs": [
    {
     "data": {
      "text/plain": [
       "0.9568773399893029"
      ]
     },
     "execution_count": 66,
     "metadata": {},
     "output_type": "execute_result"
    }
   ],
   "source": [
    "# auc 구하기\n",
    "\n",
    "roc_auc_score(test_y, probs)  # test data 실제값, 예측값\n",
    "\n",
    "# 재현율, 특이값 ROC 그래프에서 1이 가까운게 좋은건데 0.95 나온거지 "
   ]
  },
  {
   "cell_type": "code",
   "execution_count": 67,
   "id": "d41a4265",
   "metadata": {
    "scrolled": true
   },
   "outputs": [
    {
     "ename": "AttributeError",
     "evalue": "module 'matplotlib.pyplot' has no attribute 'xlable'",
     "output_type": "error",
     "traceback": [
      "\u001b[1;31m---------------------------------------------------------------------------\u001b[0m",
      "\u001b[1;31mAttributeError\u001b[0m                            Traceback (most recent call last)",
      "\u001b[1;32mC:\\Users\\Public\\Documents\\ESTsoft\\CreatorTemp/ipykernel_26776/1490817510.py\u001b[0m in \u001b[0;36m<module>\u001b[1;34m\u001b[0m\n\u001b[0;32m      3\u001b[0m \u001b[1;31m# roc curve 곡선 그리기\u001b[0m\u001b[1;33m\u001b[0m\u001b[1;33m\u001b[0m\u001b[0m\n\u001b[0;32m      4\u001b[0m \u001b[0mfpr\u001b[0m\u001b[1;33m,\u001b[0m \u001b[0mtpr\u001b[0m\u001b[1;33m,\u001b[0m \u001b[0mthresholds\u001b[0m\u001b[1;33m=\u001b[0m \u001b[0mroc_curve\u001b[0m\u001b[1;33m(\u001b[0m\u001b[0mtest_y\u001b[0m\u001b[1;33m,\u001b[0m \u001b[0mprobs\u001b[0m\u001b[1;33m)\u001b[0m\u001b[1;33m\u001b[0m\u001b[1;33m\u001b[0m\u001b[0m\n\u001b[1;32m----> 5\u001b[1;33m \u001b[0mplot_roc_curve\u001b[0m\u001b[1;33m(\u001b[0m\u001b[0mfpr\u001b[0m\u001b[1;33m,\u001b[0m \u001b[0mtpr\u001b[0m\u001b[1;33m)\u001b[0m\u001b[1;33m\u001b[0m\u001b[1;33m\u001b[0m\u001b[0m\n\u001b[0m",
      "\u001b[1;32mC:\\Users\\Public\\Documents\\ESTsoft\\CreatorTemp/ipykernel_26776/209677800.py\u001b[0m in \u001b[0;36mplot_roc_curve\u001b[1;34m(fpr, tpr)\u001b[0m\n\u001b[0;32m      4\u001b[0m     \u001b[0mplt\u001b[0m\u001b[1;33m.\u001b[0m\u001b[0mplot\u001b[0m\u001b[1;33m(\u001b[0m\u001b[0mfpr\u001b[0m\u001b[1;33m,\u001b[0m\u001b[0mtpr\u001b[0m\u001b[1;33m,\u001b[0m\u001b[0mcolor\u001b[0m\u001b[1;33m=\u001b[0m\u001b[1;34m'purple'\u001b[0m\u001b[1;33m,\u001b[0m\u001b[0mlabel\u001b[0m\u001b[1;33m=\u001b[0m\u001b[1;34m'ROC'\u001b[0m\u001b[1;33m)\u001b[0m\u001b[1;33m\u001b[0m\u001b[1;33m\u001b[0m\u001b[0m\n\u001b[0;32m      5\u001b[0m     \u001b[0mplt\u001b[0m\u001b[1;33m.\u001b[0m\u001b[0mplot\u001b[0m\u001b[1;33m(\u001b[0m\u001b[1;33m[\u001b[0m\u001b[1;36m0\u001b[0m\u001b[1;33m,\u001b[0m\u001b[1;36m1\u001b[0m\u001b[1;33m]\u001b[0m\u001b[1;33m,\u001b[0m\u001b[1;33m[\u001b[0m\u001b[1;36m0\u001b[0m\u001b[1;33m,\u001b[0m\u001b[1;36m1\u001b[0m\u001b[1;33m]\u001b[0m\u001b[1;33m,\u001b[0m \u001b[0mcolor\u001b[0m\u001b[1;33m=\u001b[0m\u001b[1;34m'red'\u001b[0m\u001b[1;33m,\u001b[0m\u001b[0mlinestyle\u001b[0m\u001b[1;33m=\u001b[0m\u001b[1;34m\"--\"\u001b[0m\u001b[1;33m)\u001b[0m\u001b[1;33m\u001b[0m\u001b[1;33m\u001b[0m\u001b[0m\n\u001b[1;32m----> 6\u001b[1;33m     \u001b[0mplt\u001b[0m\u001b[1;33m.\u001b[0m\u001b[0mxlable\u001b[0m\u001b[1;33m(\u001b[0m\u001b[1;34m\"false positive rate\"\u001b[0m\u001b[1;33m)\u001b[0m\u001b[1;33m\u001b[0m\u001b[1;33m\u001b[0m\u001b[0m\n\u001b[0m\u001b[0;32m      7\u001b[0m     \u001b[0mplt\u001b[0m\u001b[1;33m.\u001b[0m\u001b[0mylable\u001b[0m\u001b[1;33m(\u001b[0m\u001b[1;34m\"true positive rate\"\u001b[0m\u001b[1;33m)\u001b[0m\u001b[1;33m\u001b[0m\u001b[1;33m\u001b[0m\u001b[0m\n\u001b[0;32m      8\u001b[0m     \u001b[0mplt\u001b[0m\u001b[1;33m.\u001b[0m\u001b[0mtitle\u001b[0m\u001b[1;33m(\u001b[0m\u001b[1;34m\"Receiver Operating Characteristics(ROC) Curve\"\u001b[0m\u001b[1;33m)\u001b[0m\u001b[1;33m\u001b[0m\u001b[1;33m\u001b[0m\u001b[0m\n",
      "\u001b[1;31mAttributeError\u001b[0m: module 'matplotlib.pyplot' has no attribute 'xlable'"
     ]
    },
    {
     "data": {
      "image/png": "[encoded data removed]",
      "text/plain": [
       "<Figure size 432x288 with 1 Axes>"
      ]
     },
     "metadata": {
      "needs_background": "light"
     },
     "output_type": "display_data"
    }
   ],
   "source": [
    "auc = roc_auc_score(test_y, probs)\n",
    "\n",
    "# roc curve 곡선 그리기 \n",
    "fpr, tpr, thresholds= roc_curve(test_y, probs)\n",
    "plot_roc_curve(fpr, tpr)"
   ]
  },
  {
   "cell_type": "code",
   "execution_count": null,
   "id": "79fe8336",
   "metadata": {},
   "outputs": [],
   "source": []
  },
  {
   "cell_type": "code",
   "execution_count": null,
   "id": "8940ebb7",
   "metadata": {},
   "outputs": [],
   "source": []
  }
 ],
 "metadata": {
  "kernelspec": {
   "display_name": "Python 3 (ipykernel)",
   "language": "python",
   "name": "python3"
  },
  "language_info": {
   "codemirror_mode": {
    "name": "ipython",
    "version": 3
   },
   "file_extension": ".py",
   "mimetype": "text/x-python",
   "name": "python",
   "nbconvert_exporter": "python",
   "pygments_lexer": "ipython3",
   "version": "3.9.7"
  }
 },
 "nbformat": 4,
 "nbformat_minor": 5
}
