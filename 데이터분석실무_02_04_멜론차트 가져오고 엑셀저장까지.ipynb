{
 "cells": [
  {
   "cell_type": "code",
   "execution_count": 3,
   "id": "6472a24a",
   "metadata": {},
   "outputs": [],
   "source": [
    "# ! pip install selenium\n",
    "from selenium import webdriver\n",
    "from selenium.webdriver.chrome.service import Service\n",
    "from bs4 import BeautifulSoup\n",
    "\n",
    "import pandas as pd\n",
    "import numpy as np"
   ]
  },
  {
   "cell_type": "code",
   "execution_count": 4,
   "id": "12758b44",
   "metadata": {},
   "outputs": [],
   "source": [
    "ser = Service('../chromedriver/chromedriver.exe')\n",
    "driver = webdriver.Chrome(service=ser)"
   ]
  },
  {
   "cell_type": "code",
   "execution_count": 5,
   "id": "bd38d458",
   "metadata": {},
   "outputs": [],
   "source": [
    "url = 'https://www.melon.com/chart/'\n",
    "driver.get(url)"
   ]
  },
  {
   "cell_type": "code",
   "execution_count": null,
   "id": "0a1a2a51",
   "metadata": {},
   "outputs": [],
   "source": [
    "html = driver.page_source\n",
    "html\n",
    "\n",
    "soup = BeautifulSoup(html, 'html.parser')"
   ]
  },
  {
   "cell_type": "code",
   "execution_count": 6,
   "id": "c2fdaedb",
   "metadata": {},
   "outputs": [],
   "source": [
    "# 예제 2-40\n",
    "html_1 = '''\n",
    "<html>\n",
    "    <head>\n",
    "    </head>\n",
    "    <body>\n",
    "        <h1> 우리동네시장</h1>\n",
    "            <div class = 'sale'>\n",
    "                <p id='fruits1' class='fruits'>\n",
    "                    <span class = 'name'> 바나나 </span>\n",
    "                    <span class = 'price'> 3000원 </span>\n",
    "                    <span class = 'inventory'> 500개 </span>\n",
    "                    <span class = 'store'> 가나다상회 </span>\n",
    "                    <a href = 'http://bit.ly/forPlaywithData' > 홈페이지 </a>\n",
    "                </p>\n",
    "            </div>\n",
    "            <div class = 'prepare'>\n",
    "                <p id='fruits2' class='fruits'>\n",
    "                    <span class ='name'> 파인애플 </span>\n",
    "                </p>\n",
    "            </div>\n",
    "    </body>\n",
    "</html>\n",
    "'''"
   ]
  },
  {
   "cell_type": "code",
   "execution_count": 8,
   "id": "365acbc8",
   "metadata": {},
   "outputs": [],
   "source": [
    "soup_1 = BeautifulSoup(html_1, 'html.parser')"
   ]
  },
  {
   "cell_type": "code",
   "execution_count": 9,
   "id": "6e99b0b5",
   "metadata": {},
   "outputs": [
    {
     "data": {
      "text/plain": [
       "[<span class=\"name\"> 바나나 </span>,\n",
       " <span class=\"price\"> 3000원 </span>,\n",
       " <span class=\"inventory\"> 500개 </span>,\n",
       " <span class=\"store\"> 가나다상회 </span>,\n",
       " <span class=\"name\"> 파인애플 </span>]"
      ]
     },
     "execution_count": 9,
     "metadata": {},
     "output_type": "execute_result"
    }
   ],
   "source": [
    "soup_1.select('span')"
   ]
  },
  {
   "cell_type": "code",
   "execution_count": 16,
   "id": "273f0ced",
   "metadata": {},
   "outputs": [
    {
     "data": {
      "text/plain": [
       "bs4.element.Tag"
      ]
     },
     "execution_count": 16,
     "metadata": {},
     "output_type": "execute_result"
    }
   ],
   "source": [
    "tags_span = soup_1.select('span')\n",
    "#tags_span[0].text\n",
    "type(tags_span)\n",
    "type(tags_span[0])"
   ]
  },
  {
   "cell_type": "code",
   "execution_count": 27,
   "id": "4db872e8",
   "metadata": {},
   "outputs": [
    {
     "data": {
      "text/plain": [
       "<p class=\"fruits\" id=\"fruits1\">\n",
       "<span class=\"name\"> 바나나 </span>\n",
       "<span class=\"price\"> 3000원 </span>\n",
       "<span class=\"inventory\"> 500개 </span>\n",
       "<span class=\"store\"> 가나다상회 </span>\n",
       "<a href=\"http://bit.ly/forPlaywithData\"> 홈페이지 </a>\n",
       "</p>"
      ]
     },
     "execution_count": 27,
     "metadata": {},
     "output_type": "execute_result"
    }
   ],
   "source": [
    "tags_p = soup_1.select('p')\n",
    "type(tags_p)\n",
    "tags_p[0]"
   ]
  },
  {
   "cell_type": "code",
   "execution_count": 26,
   "id": "1d002826",
   "metadata": {},
   "outputs": [
    {
     "data": {
      "text/plain": [
       "[<p class=\"fruits\" id=\"fruits1\">\n",
       " <span class=\"name\"> 바나나 </span>\n",
       " <span class=\"price\"> 3000원 </span>\n",
       " <span class=\"inventory\"> 500개 </span>\n",
       " <span class=\"store\"> 가나다상회 </span>\n",
       " <a href=\"http://bit.ly/forPlaywithData\"> 홈페이지 </a>\n",
       " </p>]"
      ]
     },
     "execution_count": 26,
     "metadata": {},
     "output_type": "execute_result"
    }
   ],
   "source": [
    "ids_fruit = soup_1.select('#fruits1')\n",
    "ids_fruit"
   ]
  },
  {
   "cell_type": "code",
   "execution_count": 30,
   "id": "35394e32",
   "metadata": {},
   "outputs": [
    {
     "data": {
      "text/plain": [
       "' 파인애플 '"
      ]
     },
     "execution_count": 30,
     "metadata": {},
     "output_type": "execute_result"
    }
   ],
   "source": [
    "class_name = soup_1.select('.name')\n",
    "class_name[1].text"
   ]
  },
  {
   "cell_type": "code",
   "execution_count": 33,
   "id": "030200c2",
   "metadata": {},
   "outputs": [
    {
     "data": {
      "text/plain": [
       "[<span class=\"name\"> 바나나 </span>, <span class=\"name\"> 파인애플 </span>]"
      ]
     },
     "execution_count": 33,
     "metadata": {},
     "output_type": "execute_result"
    }
   ],
   "source": [
    "soup_1.select('span.name')\n",
    "# soup_1.select('span.inventory')"
   ]
  },
  {
   "cell_type": "code",
   "execution_count": 35,
   "id": "2ed2bdb8",
   "metadata": {},
   "outputs": [
    {
     "data": {
      "text/plain": [
       "[<span class=\"name\"> 파인애플 </span>]"
      ]
     },
     "execution_count": 35,
     "metadata": {},
     "output_type": "execute_result"
    }
   ],
   "source": [
    "soup_1.select('#fruits1 > span.name')\n",
    "soup_1.select('#fruits2 > span.name')"
   ]
  },
  {
   "cell_type": "code",
   "execution_count": 38,
   "id": "a4dbaa53",
   "metadata": {},
   "outputs": [
    {
     "data": {
      "text/plain": [
       "[<span class=\"store\"> 가나다상회 </span>]"
      ]
     },
     "execution_count": 38,
     "metadata": {},
     "output_type": "execute_result"
    }
   ],
   "source": [
    "soup_1.select('div.sale span.store')\n",
    "soup_1.select('div.sale > p > span.store')"
   ]
  },
  {
   "cell_type": "code",
   "execution_count": 40,
   "id": "77100f2c",
   "metadata": {},
   "outputs": [
    {
     "data": {
      "text/plain": [
       "[<a href=\"http://bit.ly/forPlaywithData\"> 홈페이지 </a>]"
      ]
     },
     "execution_count": 40,
     "metadata": {},
     "output_type": "execute_result"
    }
   ],
   "source": [
    "tags_a = soup_1.select('a')\n",
    "tags_a"
   ]
  },
  {
   "cell_type": "code",
   "execution_count": 50,
   "id": "4d66d2aa",
   "metadata": {},
   "outputs": [
    {
     "name": "stdout",
     "output_type": "stream",
     "text": [
      "홈페이지\n",
      "http://bit.ly/forPlaywithData\n"
     ]
    }
   ],
   "source": [
    "tag = tags_a[0]\n",
    "print(tag.text.strip())\n",
    "print(tag['href'])"
   ]
  },
  {
   "cell_type": "code",
   "execution_count": 51,
   "id": "8596d290",
   "metadata": {},
   "outputs": [],
   "source": [
    "url = 'https://www.melon.com/chart/index.htm'\n",
    "driver.get(url)"
   ]
  },
  {
   "cell_type": "code",
   "execution_count": 52,
   "id": "3ba389b1",
   "metadata": {},
   "outputs": [],
   "source": [
    "html_melon = driver.page_source\n",
    "soup = BeautifulSoup(html_melon, 'html.parser')"
   ]
  },
  {
   "cell_type": "code",
   "execution_count": 59,
   "id": "5a3b93f9",
   "metadata": {},
   "outputs": [
    {
     "data": {
      "text/plain": [
       "100"
      ]
     },
     "execution_count": 59,
     "metadata": {},
     "output_type": "execute_result"
    }
   ],
   "source": [
    "songs = soup.select('tr')\n",
    "len(songs)\n",
    "songs[0]\n",
    "songs[1]\n",
    "\n",
    "# songs_list = songs[1:]\n",
    "# len(songs_list)"
   ]
  },
  {
   "cell_type": "code",
   "execution_count": null,
   "id": "5beec682",
   "metadata": {},
   "outputs": [],
   "source": [
    "songs = soup.select('tbody > tr')\n",
    "print(len(songs))\n",
    "song = songs[0]\n",
    "song"
   ]
  },
  {
   "cell_type": "code",
   "execution_count": 95,
   "id": "20578656",
   "metadata": {},
   "outputs": [
    {
     "data": {
      "text/plain": [
       "<a href=\"javascript:melon.play.playSong('1000002721',34431086);\" title=\"취중고백 재생\">취중고백</a>"
      ]
     },
     "execution_count": 95,
     "metadata": {},
     "output_type": "execute_result"
    }
   ],
   "source": [
    "title = song.select('div.ellipsis.rank01 > span > a')[0]\n",
    "title\n",
    "# len(title)"
   ]
  },
  {
   "cell_type": "code",
   "execution_count": 88,
   "id": "8e4ffae8",
   "metadata": {},
   "outputs": [
    {
     "data": {
      "text/plain": [
       "'취중고백'"
      ]
     },
     "execution_count": 88,
     "metadata": {},
     "output_type": "execute_result"
    }
   ],
   "source": [
    "song_title = soup.select('span > a')\n",
    "song_title[0].text\n",
    "# print(len(songs))\n",
    "#song_list = songs[0]\n",
    "#song_list['title']"
   ]
  },
  {
   "cell_type": "code",
   "execution_count": 105,
   "id": "b972d6db",
   "metadata": {},
   "outputs": [
    {
     "data": {
      "text/plain": [
       "'취중고백'"
      ]
     },
     "execution_count": 105,
     "metadata": {},
     "output_type": "execute_result"
    }
   ],
   "source": [
    "song_title = soup.select('span > a')[0].text\n",
    "song_title"
   ]
  },
  {
   "cell_type": "code",
   "execution_count": 103,
   "id": "6bbe11ac",
   "metadata": {
    "scrolled": true
   },
   "outputs": [
    {
     "name": "stdout",
     "output_type": "stream",
     "text": [
      "취중고백\n"
     ]
    }
   ],
   "source": [
    "title_list = song.select(\"span > a\")\n",
    "# title = title_list[2].text\n",
    "# title\n",
    "title_list[1].text\n",
    "\n",
    "title = title_list[0].text\n",
    "print(title)"
   ]
  },
  {
   "cell_type": "code",
   "execution_count": 109,
   "id": "7e6b6673",
   "metadata": {},
   "outputs": [
    {
     "name": "stdout",
     "output_type": "stream",
     "text": [
      "김민석 (멜로망스)\n"
     ]
    }
   ],
   "source": [
    "singer_list = song.select('div.ellipsis.rank02 > a')\n",
    "singer = singer_list[0].text\n",
    "print(singer)"
   ]
  },
  {
   "cell_type": "code",
   "execution_count": 111,
   "id": "41d8ab04",
   "metadata": {},
   "outputs": [
    {
     "data": {
      "text/plain": [
       "100"
      ]
     },
     "execution_count": 111,
     "metadata": {},
     "output_type": "execute_result"
    }
   ],
   "source": [
    "song_data = []\n",
    "rank = 1\n",
    "songs = soup.select('tbody tr')\n",
    "len(songs)"
   ]
  },
  {
   "cell_type": "code",
   "execution_count": 113,
   "id": "23f1e71f",
   "metadata": {},
   "outputs": [
    {
     "name": "stdout",
     "output_type": "stream",
     "text": [
      "취중고백|김민석 (멜로망스)\n",
      "사랑은 늘 도망가|임영웅\n",
      "회전목마 (Feat. Zion.T, 원슈타인) (Prod. Slom)|sokodomo\n",
      "Counting Stars (Feat. Beenzino)|BE'O (비오)\n",
      "겨울잠|아이유\n",
      "리무진 (Feat. MINO) (Prod. GRAY)|BE'O (비오)\n",
      "ELEVEN|IVE (아이브)\n",
      "Dreams Come True|aespa\n",
      "눈이 오잖아(Feat.헤이즈)|이무진\n",
      "만남은 쉽고 이별은 어려워 (Feat. Leellamarz) (Prod. TOIL)|베이식 (Basick)\n",
      "이제 나만 믿어요|임영웅\n",
      "다정히 내 이름을 부르면|경서예지\n",
      "strawberry moon|아이유\n",
      "드라마|아이유\n",
      "Step Back|GOT the beat\n",
      "신호등|이무진\n",
      "Christmas Tree|V\n",
      "그대라는 사치|임영웅\n",
      "별빛 같은 나의 사랑아|임영웅\n",
      "다시 사랑한다면 (김필 Ver.)|임영웅\n",
      "Savage|aespa\n",
      "STAY|The Kid LAROI\n",
      "흰눈|먼데이 키즈 (Monday Kiz)\n",
      "Next Level|aespa\n",
      "잊었니|임영웅\n",
      "불협화음 (Feat. AKMU) (Prod. GRAY)|Mudd the student\n",
      "HERO|임영웅\n",
      "끝사랑|임영웅\n",
      "우리가 헤어져야 했던 이유|비비 (BIBI)\n",
      "언덕나무|이승윤\n",
      "Bk Love|임영웅\n",
      "쉬어 (Feat. MINO) (Prod. GRAY)|아넌딜라이트(Anandelight)\n",
      "Butter|방탄소년단\n",
      "네가 없는 밤 (Feat. ASH ISLAND) (Prod. GRAY)|BE'O (비오)\n",
      "너를 생각해|주시크 (Joosiq)\n",
      "서랍|10CM\n",
      "Permission to Dance|방탄소년단\n",
      "이별후회|김나영\n",
      "OHAYO MY NIGHT|디핵 (D-Hack)\n",
      "Wake Up (Prod. 코드 쿤스트)|개코\n",
      "바라만 본다|MSG워너비(M.O.M)\n",
      "My Universe|Coldplay\n",
      "Dynamite|방탄소년단\n",
      "정거장|아이유\n",
      "계단말고 엘리베이터|임영웅\n",
      "문득|BE'O (비오)\n",
      "낙하 (with 아이유)|AKMU (악뮤)\n",
      "사랑이 아니었다고 말하지 마요|이예준\n",
      "그게 더 편할 것 같아 (N번째 연애 X 멜로망스)|멜로망스\n",
      "Celebrity|아이유\n",
      "Still I Love You|토요태\n",
      "헤픈 우연|헤이즈 (Heize)\n",
      "Weekend|태연 (TAEYEON)\n",
      "라일락|아이유\n",
      "안녕 우린 헤어져야만 해|전상근\n",
      "러브레터|아이유\n",
      "Bad Habits|Ed Sheeran\n",
      "밤하늘의 별을(2020)|경서\n",
      "여름비|샘김 (Sam Kim)\n",
      "고백|멜로망스\n",
      "찰나가 영원이 될 때 (The Eternal Moment)|마크툽 (MAKTUB)\n",
      "어떻게 이별까지 사랑하겠어, 널 사랑하는 거지|AKMU (악뮤)\n",
      "모든 날, 모든 순간 (Every day, Every Moment)|폴킴\n",
      "사이렌 Remix (Feat. UNEDUCATED KID, Paul Blanco)|호미들\n",
      "너|아이유\n",
      "롤린 (Rollin')|브레이브걸스\n",
      "내 손을 잡아|아이유\n",
      "추억은 만남보다 이별에 남아|정동하\n",
      "MBTI (Feat. 쿠기 & 로꼬) (Prod. GRAY)|BE'O (비오)\n",
      "Dun Dun Dance|오마이걸 (OH MY GIRL)\n",
      "봄날|방탄소년단\n",
      "밝게 빛나는 별이 되어 비춰줄게|송이한\n",
      "Off My Face|Justin Bieber\n",
      "작은 것들을 위한 시 (Boy With Luv) (Feat. Halsey)|방탄소년단\n",
      "시간을 거슬러 (낮에 뜨는 달 X 케이윌)|케이윌\n",
      "Blueming|아이유\n",
      "오늘도 빛나는 너에게 (To You My Light) (Feat.이라온)|마크툽 (MAKTUB)\n",
      "죽을 만큼 아파서 (Feat. JAMIE (제이미))|MC몽\n",
      "비가 오는 날엔 (2021)|헤이즈 (Heize)\n",
      "너의 모든 순간|성시경\n",
      "좋아좋아|조정석\n",
      "매일 크리스마스 (Everyday Christmas)|다비치\n",
      "Savage Love (Laxed - Siren Beat) (BTS Remix)|Jawsh 685\n",
      "그날에 나는 맘이 편했을까|이예준\n",
      "Snowman|Sia\n",
      "아직도 좋아해|양요섭\n",
      "Queendom|Red Velvet (레드벨벳)\n",
      "취기를 빌려 (취향저격 그녀 X 산들)|산들\n",
      "DUMB DUMB|전소미\n",
      "Life Goes On|방탄소년단\n",
      "멜로디|ASH ISLAND\n",
      "나 그댈위해 시 한편을 쓰겠어|케이시 (Kassy)\n",
      "탕!♡|MINO (송민호)\n",
      "비와 당신|이무진\n",
      "1초 1분 1시간 (사귄 건 아닌데 X 2am)|2am\n",
      "ASAP|STAYC(스테이씨)\n",
      "호우주의 (Feat. 개코, 넉살 (Nucksal)) (Prod. 코드 쿤스트)|조광일\n",
      "Peaches (Feat. Daniel Caesar & Giveon)|Justin Bieber\n",
      "밤새 서로 미루다|존박\n",
      "깐부 (Feat. 염따, ASH ISLAND) (Prod. TOIL)|쿤타\n"
     ]
    }
   ],
   "source": [
    "# rank 1, songs[0]\n",
    "# rank 2, songs[1]\n",
    "# rank 100, songs[99]\n",
    "song_data = []\n",
    "rank = 1\n",
    "songs = soup.select('tbody tr')\n",
    "# len(songs)\n",
    "\n",
    "for song in songs:\n",
    "    title = song.select('div.ellipsis.rank01 > span > a')[0].text\n",
    "    singer = song.select('div.ellipsis.rank02 > a')[0].text\n",
    "    print(title, singer, sep = '|')\n",
    "    \n",
    "    mylist = ['melon', rank, title, singer]\n",
    "    song_data.append(mylist)\n",
    "    rank += 1\n",
    "    \n",
    "# song_data    "
   ]
  },
  {
   "cell_type": "code",
   "execution_count": 115,
   "id": "4965e72e",
   "metadata": {},
   "outputs": [
    {
     "data": {
      "text/plain": [
       "[['melon', 1, '취중고백', '김민석 (멜로망스)'],\n",
       " ['melon', 2, '사랑은 늘 도망가', '임영웅'],\n",
       " ['melon', 3, '회전목마 (Feat. Zion.T, 원슈타인) (Prod. Slom)', 'sokodomo'],\n",
       " ['melon', 4, 'Counting Stars (Feat. Beenzino)', \"BE'O (비오)\"],\n",
       " ['melon', 5, '겨울잠', '아이유'],\n",
       " ['melon', 6, '리무진 (Feat. MINO) (Prod. GRAY)', \"BE'O (비오)\"],\n",
       " ['melon', 7, 'ELEVEN', 'IVE (아이브)'],\n",
       " ['melon', 8, 'Dreams Come True', 'aespa'],\n",
       " ['melon', 9, '눈이 오잖아(Feat.헤이즈)', '이무진'],\n",
       " ['melon',\n",
       "  10,\n",
       "  '만남은 쉽고 이별은 어려워 (Feat. Leellamarz) (Prod. TOIL)',\n",
       "  '베이식 (Basick)'],\n",
       " ['melon', 11, '이제 나만 믿어요', '임영웅'],\n",
       " ['melon', 12, '다정히 내 이름을 부르면', '경서예지'],\n",
       " ['melon', 13, 'strawberry moon', '아이유'],\n",
       " ['melon', 14, '드라마', '아이유'],\n",
       " ['melon', 15, 'Step Back', 'GOT the beat'],\n",
       " ['melon', 16, '신호등', '이무진'],\n",
       " ['melon', 17, 'Christmas Tree', 'V'],\n",
       " ['melon', 18, '그대라는 사치', '임영웅'],\n",
       " ['melon', 19, '별빛 같은 나의 사랑아', '임영웅'],\n",
       " ['melon', 20, '다시 사랑한다면 (김필 Ver.)', '임영웅'],\n",
       " ['melon', 21, 'Savage', 'aespa'],\n",
       " ['melon', 22, 'STAY', 'The Kid LAROI'],\n",
       " ['melon', 23, '흰눈', '먼데이 키즈 (Monday Kiz)'],\n",
       " ['melon', 24, 'Next Level', 'aespa'],\n",
       " ['melon', 25, '잊었니', '임영웅'],\n",
       " ['melon', 26, '불협화음 (Feat. AKMU) (Prod. GRAY)', 'Mudd the student'],\n",
       " ['melon', 27, 'HERO', '임영웅'],\n",
       " ['melon', 28, '끝사랑', '임영웅'],\n",
       " ['melon', 29, '우리가 헤어져야 했던 이유', '비비 (BIBI)'],\n",
       " ['melon', 30, '언덕나무', '이승윤'],\n",
       " ['melon', 31, 'Bk Love', '임영웅'],\n",
       " ['melon', 32, '쉬어 (Feat. MINO) (Prod. GRAY)', '아넌딜라이트(Anandelight)'],\n",
       " ['melon', 33, 'Butter', '방탄소년단'],\n",
       " ['melon', 34, '네가 없는 밤 (Feat. ASH ISLAND) (Prod. GRAY)', \"BE'O (비오)\"],\n",
       " ['melon', 35, '너를 생각해', '주시크 (Joosiq)'],\n",
       " ['melon', 36, '서랍', '10CM'],\n",
       " ['melon', 37, 'Permission to Dance', '방탄소년단'],\n",
       " ['melon', 38, '이별후회', '김나영'],\n",
       " ['melon', 39, 'OHAYO MY NIGHT', '디핵 (D-Hack)'],\n",
       " ['melon', 40, 'Wake Up (Prod. 코드 쿤스트)', '개코'],\n",
       " ['melon', 41, '바라만 본다', 'MSG워너비(M.O.M)'],\n",
       " ['melon', 42, 'My Universe', 'Coldplay'],\n",
       " ['melon', 43, 'Dynamite', '방탄소년단'],\n",
       " ['melon', 44, '정거장', '아이유'],\n",
       " ['melon', 45, '계단말고 엘리베이터', '임영웅'],\n",
       " ['melon', 46, '문득', \"BE'O (비오)\"],\n",
       " ['melon', 47, '낙하 (with 아이유)', 'AKMU (악뮤)'],\n",
       " ['melon', 48, '사랑이 아니었다고 말하지 마요', '이예준'],\n",
       " ['melon', 49, '그게 더 편할 것 같아 (N번째 연애 X 멜로망스)', '멜로망스'],\n",
       " ['melon', 50, 'Celebrity', '아이유'],\n",
       " ['melon', 51, 'Still I Love You', '토요태'],\n",
       " ['melon', 52, '헤픈 우연', '헤이즈 (Heize)'],\n",
       " ['melon', 53, 'Weekend', '태연 (TAEYEON)'],\n",
       " ['melon', 54, '라일락', '아이유'],\n",
       " ['melon', 55, '안녕 우린 헤어져야만 해', '전상근'],\n",
       " ['melon', 56, '러브레터', '아이유'],\n",
       " ['melon', 57, 'Bad Habits', 'Ed Sheeran'],\n",
       " ['melon', 58, '밤하늘의 별을(2020)', '경서'],\n",
       " ['melon', 59, '여름비', '샘김 (Sam Kim)'],\n",
       " ['melon', 60, '고백', '멜로망스'],\n",
       " ['melon', 61, '찰나가 영원이 될 때 (The Eternal Moment)', '마크툽 (MAKTUB)'],\n",
       " ['melon', 62, '어떻게 이별까지 사랑하겠어, 널 사랑하는 거지', 'AKMU (악뮤)'],\n",
       " ['melon', 63, '모든 날, 모든 순간 (Every day, Every Moment)', '폴킴'],\n",
       " ['melon', 64, '사이렌 Remix (Feat. UNEDUCATED KID, Paul Blanco)', '호미들'],\n",
       " ['melon', 65, '너', '아이유'],\n",
       " ['melon', 66, \"롤린 (Rollin')\", '브레이브걸스'],\n",
       " ['melon', 67, '내 손을 잡아', '아이유'],\n",
       " ['melon', 68, '추억은 만남보다 이별에 남아', '정동하'],\n",
       " ['melon', 69, 'MBTI (Feat. 쿠기 & 로꼬) (Prod. GRAY)', \"BE'O (비오)\"],\n",
       " ['melon', 70, 'Dun Dun Dance', '오마이걸 (OH MY GIRL)'],\n",
       " ['melon', 71, '봄날', '방탄소년단'],\n",
       " ['melon', 72, '밝게 빛나는 별이 되어 비춰줄게', '송이한'],\n",
       " ['melon', 73, 'Off My Face', 'Justin Bieber'],\n",
       " ['melon', 74, '작은 것들을 위한 시 (Boy With Luv) (Feat. Halsey)', '방탄소년단'],\n",
       " ['melon', 75, '시간을 거슬러 (낮에 뜨는 달 X 케이윌)', '케이윌'],\n",
       " ['melon', 76, 'Blueming', '아이유'],\n",
       " ['melon', 77, '오늘도 빛나는 너에게 (To You My Light) (Feat.이라온)', '마크툽 (MAKTUB)'],\n",
       " ['melon', 78, '죽을 만큼 아파서 (Feat. JAMIE (제이미))', 'MC몽'],\n",
       " ['melon', 79, '비가 오는 날엔 (2021)', '헤이즈 (Heize)'],\n",
       " ['melon', 80, '너의 모든 순간', '성시경'],\n",
       " ['melon', 81, '좋아좋아', '조정석'],\n",
       " ['melon', 82, '매일 크리스마스 (Everyday Christmas)', '다비치'],\n",
       " ['melon', 83, 'Savage Love (Laxed - Siren Beat) (BTS Remix)', 'Jawsh 685'],\n",
       " ['melon', 84, '그날에 나는 맘이 편했을까', '이예준'],\n",
       " ['melon', 85, 'Snowman', 'Sia'],\n",
       " ['melon', 86, '아직도 좋아해', '양요섭'],\n",
       " ['melon', 87, 'Queendom', 'Red Velvet (레드벨벳)'],\n",
       " ['melon', 88, '취기를 빌려 (취향저격 그녀 X 산들)', '산들'],\n",
       " ['melon', 89, 'DUMB DUMB', '전소미'],\n",
       " ['melon', 90, 'Life Goes On', '방탄소년단'],\n",
       " ['melon', 91, '멜로디', 'ASH ISLAND'],\n",
       " ['melon', 92, '나 그댈위해 시 한편을 쓰겠어', '케이시 (Kassy)'],\n",
       " ['melon', 93, '탕!♡', 'MINO (송민호)'],\n",
       " ['melon', 94, '비와 당신', '이무진'],\n",
       " ['melon', 95, '1초 1분 1시간 (사귄 건 아닌데 X 2am)', '2am'],\n",
       " ['melon', 96, 'ASAP', 'STAYC(스테이씨)'],\n",
       " ['melon', 97, '호우주의 (Feat. 개코, 넉살 (Nucksal)) (Prod. 코드 쿤스트)', '조광일'],\n",
       " ['melon', 98, 'Peaches (Feat. Daniel Caesar & Giveon)', 'Justin Bieber'],\n",
       " ['melon', 99, '밤새 서로 미루다', '존박'],\n",
       " ['melon', 100, '깐부 (Feat. 염따, ASH ISLAND) (Prod. TOIL)', '쿤타']]"
      ]
     },
     "execution_count": 115,
     "metadata": {},
     "output_type": "execute_result"
    }
   ],
   "source": [
    "song_data"
   ]
  },
  {
   "cell_type": "code",
   "execution_count": 116,
   "id": "cdffb656",
   "metadata": {
    "scrolled": true
   },
   "outputs": [
    {
     "data": {
      "text/html": [
       "<div>\n",
       "<style scoped>\n",
       "    .dataframe tbody tr th:only-of-type {\n",
       "        vertical-align: middle;\n",
       "    }\n",
       "\n",
       "    .dataframe tbody tr th {\n",
       "        vertical-align: top;\n",
       "    }\n",
       "\n",
       "    .dataframe thead th {\n",
       "        text-align: right;\n",
       "    }\n",
       "</style>\n",
       "<table border=\"1\" class=\"dataframe\">\n",
       "  <thead>\n",
       "    <tr style=\"text-align: right;\">\n",
       "      <th></th>\n",
       "      <th>서비스</th>\n",
       "      <th>순위</th>\n",
       "      <th>타이틀</th>\n",
       "      <th>가수</th>\n",
       "    </tr>\n",
       "  </thead>\n",
       "  <tbody>\n",
       "    <tr>\n",
       "      <th>0</th>\n",
       "      <td>melon</td>\n",
       "      <td>1</td>\n",
       "      <td>취중고백</td>\n",
       "      <td>김민석 (멜로망스)</td>\n",
       "    </tr>\n",
       "    <tr>\n",
       "      <th>1</th>\n",
       "      <td>melon</td>\n",
       "      <td>2</td>\n",
       "      <td>사랑은 늘 도망가</td>\n",
       "      <td>임영웅</td>\n",
       "    </tr>\n",
       "    <tr>\n",
       "      <th>2</th>\n",
       "      <td>melon</td>\n",
       "      <td>3</td>\n",
       "      <td>회전목마 (Feat. Zion.T, 원슈타인) (Prod. Slom)</td>\n",
       "      <td>sokodomo</td>\n",
       "    </tr>\n",
       "    <tr>\n",
       "      <th>3</th>\n",
       "      <td>melon</td>\n",
       "      <td>4</td>\n",
       "      <td>Counting Stars (Feat. Beenzino)</td>\n",
       "      <td>BE'O (비오)</td>\n",
       "    </tr>\n",
       "    <tr>\n",
       "      <th>4</th>\n",
       "      <td>melon</td>\n",
       "      <td>5</td>\n",
       "      <td>겨울잠</td>\n",
       "      <td>아이유</td>\n",
       "    </tr>\n",
       "  </tbody>\n",
       "</table>\n",
       "</div>"
      ],
      "text/plain": [
       "     서비스  순위                                     타이틀          가수\n",
       "0  melon   1                                    취중고백  김민석 (멜로망스)\n",
       "1  melon   2                               사랑은 늘 도망가         임영웅\n",
       "2  melon   3  회전목마 (Feat. Zion.T, 원슈타인) (Prod. Slom)    sokodomo\n",
       "3  melon   4         Counting Stars (Feat. Beenzino)   BE'O (비오)\n",
       "4  melon   5                                     겨울잠         아이유"
      ]
     },
     "execution_count": 116,
     "metadata": {},
     "output_type": "execute_result"
    }
   ],
   "source": [
    "import pandas as pd\n",
    "columns = ['서비스','순위','타이틀','가수']\n",
    "pd_data = pd.DataFrame(song_data, columns = columns)\n",
    "pd_data.head()"
   ]
  },
  {
   "cell_type": "code",
   "execution_count": 117,
   "id": "5202a4e9",
   "metadata": {},
   "outputs": [],
   "source": [
    "pd_data = pd.DataFrame(song_data, columns = ['서비스','순위','타이틀','가수'])"
   ]
  },
  {
   "cell_type": "code",
   "execution_count": 119,
   "id": "bf41a6e0",
   "metadata": {},
   "outputs": [],
   "source": [
    "['서비스','순위','타이틀','가수']\n",
    "pd_data.to_excel('./melon_class.xlsx', index = False)"
   ]
  },
  {
   "cell_type": "code",
   "execution_count": null,
   "id": "c98d9281",
   "metadata": {},
   "outputs": [],
   "source": []
  }
 ],
 "metadata": {
  "kernelspec": {
   "display_name": "Python 3 (ipykernel)",
   "language": "python",
   "name": "python3"
  },
  "language_info": {
   "codemirror_mode": {
    "name": "ipython",
    "version": 3
   },
   "file_extension": ".py",
   "mimetype": "text/x-python",
   "name": "python",
   "nbconvert_exporter": "python",
   "pygments_lexer": "ipython3",
   "version": "3.9.7"
  }
 },
 "nbformat": 4,
 "nbformat_minor": 5
}
