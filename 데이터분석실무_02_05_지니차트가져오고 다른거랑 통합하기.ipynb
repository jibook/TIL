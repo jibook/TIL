{
 "cells": [
  {
   "cell_type": "code",
   "execution_count": 1,
   "id": "9384054c",
   "metadata": {},
   "outputs": [
    {
     "name": "stdout",
     "output_type": "stream",
     "text": [
      "   취중고백   \n"
     ]
    },
    {
     "data": {
      "text/plain": [
       "['취중', '고백']"
      ]
     },
     "execution_count": 1,
     "metadata": {},
     "output_type": "execute_result"
    }
   ],
   "source": [
    "mytext = '   취중고백   '\n",
    "print(mytext)\n",
    "text='취중 고백'\n",
    "text.split()"
   ]
  },
  {
   "cell_type": "markdown",
   "id": "a45aadd1",
   "metadata": {},
   "source": [
    "## 지니차트 가져오기"
   ]
  },
  {
   "cell_type": "code",
   "execution_count": 2,
   "id": "468bf0ff",
   "metadata": {},
   "outputs": [],
   "source": [
    "import pandas as pd\n",
    "import numpy as np\n",
    "\n",
    "from selenium import webdriver\n",
    "from selenium.webdriver.chrome.service import Service\n",
    "from bs4 import BeautifulSoup"
   ]
  },
  {
   "cell_type": "code",
   "execution_count": 3,
   "id": "d7d357e3",
   "metadata": {},
   "outputs": [],
   "source": [
    "ser =Service('C:/Users/jhjh3/class/datasalon-master/02_data_class/chromedriver/chromedriver.exe')\n",
    "driver = webdriver.Chrome(service=ser)\n",
    "\n",
    "url = 'https://www.genie.co.kr/chart/top200'\n",
    "driver.get(url)\n",
    "\n",
    "html = driver.page_source\n",
    "soup = BeautifulSoup(html, 'html.parser')"
   ]
  },
  {
   "cell_type": "code",
   "execution_count": null,
   "id": "c23f7bb2",
   "metadata": {},
   "outputs": [],
   "source": [
    "songs = soup.select('tbody tr')\n",
    "print(len(songs))\n",
    "song = songs[0]\n",
    "song"
   ]
  },
  {
   "cell_type": "code",
   "execution_count": 5,
   "id": "84a5a2d8",
   "metadata": {},
   "outputs": [
    {
     "data": {
      "text/plain": [
       "'김민석 (멜로망스)'"
      ]
     },
     "execution_count": 5,
     "metadata": {},
     "output_type": "execute_result"
    }
   ],
   "source": [
    "singer = song.select('td .artist')[0].text\n",
    "singer"
   ]
  },
  {
   "cell_type": "code",
   "execution_count": 6,
   "id": "3c9c85e4",
   "metadata": {},
   "outputs": [
    {
     "data": {
      "text/plain": [
       "'취중고백'"
      ]
     },
     "execution_count": 6,
     "metadata": {},
     "output_type": "execute_result"
    }
   ],
   "source": [
    "title = song.select('a.title')[0].text.strip()\n",
    "title"
   ]
  },
  {
   "cell_type": "code",
   "execution_count": 7,
   "id": "99bdd065",
   "metadata": {},
   "outputs": [
    {
     "data": {
      "text/plain": [
       "[['지니', 1, '취중고백', '김민석 (멜로망스)'],\n",
       " ['지니', 2, '회전목마 (Feat. Zion.T & 원슈타인) (Prod. by Slom)', 'sokodomo'],\n",
       " ['지니', 3, '리무진 (Feat. MINO) (Prod. by GRAY)', \"BE'O (비오)\"],\n",
       " ['지니', 4, '겨울잠', '아이유 (IU)'],\n",
       " ['지니', 5, '사랑은 늘 도망가', '임영웅'],\n",
       " ['지니', 6, 'ELEVEN', 'IVE (아이브)'],\n",
       " ['지니', 7, 'Counting Stars (Feat. Beenzino)', \"BE'O (비오)\"],\n",
       " ['지니', 8, '다정히 내 이름을 부르면', '경서예지 & 전건호'],\n",
       " ['지니', 9, '만남은 쉽고 이별은 어려워 (Feat. Leellamarz) (Prod. by TOIL)', '베이식'],\n",
       " ['지니', 10, '눈이 오잖아 (Feat. 헤이즈)', '이무진'],\n",
       " ['지니', 11, 'strawberry moon', '아이유 (IU)'],\n",
       " ['지니', 12, '서랍', '10CM'],\n",
       " ['지니', 13, '신호등', '이무진'],\n",
       " ['지니', 14, 'Stay', 'The Kid LAROI & Justin Bieber'],\n",
       " ['지니', 15, '드라마', '아이유 (IU)'],\n",
       " ['지니', 16, '흰눈', '먼데이 키즈 (Monday Kiz)'],\n",
       " ['지니', 17, 'Step Back', 'GOT the beat'],\n",
       " ['지니', 18, '문득', \"BE'O (비오)\"],\n",
       " ['지니', 19, 'Dreams Come True', 'aespa'],\n",
       " ['지니', 20, 'Next Level', 'aespa'],\n",
       " ['지니', 21, 'Savage', 'aespa'],\n",
       " ['지니', 22, 'OHAYO MY NIGHT', '디핵 (D-Hack) & PATEKO'],\n",
       " ['지니', 23, '불협화음 (Feat. AKMU) (Prod. by GRAY)', 'Mudd the student'],\n",
       " ['지니',\n",
       "  24,\n",
       "  '쉬어 (Feat. MINO) (Prod. by GRAY)',\n",
       "  \"아넌딜라이트 (Anandelight) & Unofficialboyy & BE'O (비오) & 지구인 & Mudd The Student\"],\n",
       " ['지니', 25, 'Celebrity', '아이유 (IU)'],\n",
       " ['지니', 26, '이제 나만 믿어요', '임영웅'],\n",
       " ['지니', 27, '너를 생각해', '주시크 (Joosiq)'],\n",
       " ['지니', 28, '여름비', '샘김 (Sam Kim)'],\n",
       " ['지니',\n",
       "  29,\n",
       "  'Wake Up (Prod. by 코드 쿤스트)',\n",
       "  '개코 & 아우릴고트 (OUREALGOAT) & SINCE & 안병웅 & Tabber & 조광일'],\n",
       " ['지니', 30, '우리가 헤어져야 했던 이유', '비비 (BIBI)'],\n",
       " ['지니', 31, '바라만 본다', 'MSG워너비 (M.O.M)'],\n",
       " ['지니', 32, 'Bad Habits', 'Ed Sheeran'],\n",
       " ['지니', 33, '매일 크리스마스 (Everyday Christmas)', '다비치'],\n",
       " ['지니', 34, 'Christmas Tree', 'V'],\n",
       " ['지니', 35, 'My Universe', 'Coldplay & 방탄소년단'],\n",
       " ['지니',\n",
       "  36,\n",
       "  'Hey Mama (Feat. Nicki Minaj & Bebe Rexha & Afrojack)',\n",
       "  'David Guetta'],\n",
       " ['지니', 37, '다시 사랑한다면 (김필 Ver.)', '임영웅'],\n",
       " ['지니', 38, '정거장', '아이유 (IU)'],\n",
       " ['지니', 39, '낙하 (With 아이유)', 'AKMU (악뮤)'],\n",
       " ['지니', 40, 'Butter', '방탄소년단'],\n",
       " ['지니', 41, 'Dynamite', '방탄소년단'],\n",
       " ['지니', 42, '이별후회', '김나영'],\n",
       " ['지니', 43, '내 손을 잡아', '아이유 (IU)'],\n",
       " ['지니', 44, '네가 없는 밤 (Feat. ASH ISLAND) (Prod. by GRAY)', \"BE'O (비오)\"],\n",
       " ['지니', 45, '너의 모든 순간', '성시경'],\n",
       " ['지니', 46, 'Blueming', '아이유 (IU)'],\n",
       " ['지니', 47, '라일락', '아이유 (IU)'],\n",
       " ['지니', 48, '별빛 같은 나의 사랑아', '임영웅'],\n",
       " ['지니', 49, '흔들리는 꽃들 속에서 네 샴푸향이 느껴진거야', '장범준'],\n",
       " ['지니', 50, 'abcdefu', 'GAYLE']]"
      ]
     },
     "execution_count": 7,
     "metadata": {},
     "output_type": "execute_result"
    }
   ],
   "source": [
    "song_list = []\n",
    "rank = 1\n",
    "songs = soup.select('tbody tr')\n",
    "\n",
    "for song in songs:\n",
    "    title = song.select('a.title')[0].text.strip()\n",
    "    singer = song.select('td .artist')[0].text\n",
    "    mylist = ['지니', rank, title, singer]\n",
    "    song_list.append(mylist)\n",
    "    rank += 1\n",
    "    \n",
    "song_list    "
   ]
  },
  {
   "cell_type": "code",
   "execution_count": 8,
   "id": "42359e9c",
   "metadata": {},
   "outputs": [],
   "source": [
    "mydf = pd.DataFrame(song_list, columns = ['서비스','순위','타이틀','가수'])\n",
    "\n",
    "mydf.to_excel('./genie_class.xlsx', index = False)"
   ]
  },
  {
   "cell_type": "code",
   "execution_count": 11,
   "id": "18d6ef1f",
   "metadata": {},
   "outputs": [],
   "source": [
    "excel_names = ['C:/Users/jhjh3/TIL/genie_class.xlsx',\n",
    "              'C:/Users/jhjh3/TIL/bugs_class.xlsx',\n",
    "              'C:/Users/jhjh3/TIL/melon_class.xlsx']\n",
    "\n",
    "append_data = pd.DataFrame()\n",
    "\n",
    "for name in excel_names:\n",
    "    pd_data = pd.read_excel(name)\n",
    "    append_data = append_data.append(pd_data)\n",
    "\n",
    "append_data.to_excel('C:/Users/jhjh3/TIL/append_data_class.xlsx',\n",
    "                    index = False)    "
   ]
  },
  {
   "cell_type": "code",
   "execution_count": null,
   "id": "0dd90e26",
   "metadata": {},
   "outputs": [],
   "source": []
  }
 ],
 "metadata": {
  "kernelspec": {
   "display_name": "Python 3 (ipykernel)",
   "language": "python",
   "name": "python3"
  },
  "language_info": {
   "codemirror_mode": {
    "name": "ipython",
    "version": 3
   },
   "file_extension": ".py",
   "mimetype": "text/x-python",
   "name": "python",
   "nbconvert_exporter": "python",
   "pygments_lexer": "ipython3",
   "version": "3.9.7"
  }
 },
 "nbformat": 4,
 "nbformat_minor": 5
}
