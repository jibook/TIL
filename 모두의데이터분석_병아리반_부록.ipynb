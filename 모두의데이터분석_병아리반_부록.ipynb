{
 "cells": [
  {
   "cell_type": "markdown",
   "id": "ca8991c2",
   "metadata": {},
   "source": [
    "#### 출력, 입력, 변수"
   ]
  },
  {
   "cell_type": "code",
   "execution_count": 1,
   "id": "178fac96",
   "metadata": {},
   "outputs": [
    {
     "name": "stdout",
     "output_type": "stream",
     "text": [
      "해적왕 왔나요~?\n"
     ]
    }
   ],
   "source": [
    "names = ['쵸파', '루피', '상디', '조로']\n",
    "names.append('해적왕')\n",
    "for name in names :\n",
    "    if len (name) > 2 :\n",
    "        print (name,'왔나요~?')"
   ]
  },
  {
   "cell_type": "code",
   "execution_count": 1,
   "id": "0f193ad2",
   "metadata": {},
   "outputs": [],
   "source": [
    "# print(34759**24341)"
   ]
  },
  {
   "cell_type": "code",
   "execution_count": 3,
   "id": "5cb4a17e",
   "metadata": {},
   "outputs": [
    {
     "name": "stdout",
     "output_type": "stream",
     "text": [
      "hello world\n"
     ]
    }
   ],
   "source": [
    "print('hello world')"
   ]
  },
  {
   "cell_type": "code",
   "execution_count": 4,
   "id": "f371d1f1",
   "metadata": {},
   "outputs": [
    {
     "name": "stdout",
     "output_type": "stream",
     "text": [
      "파이쏭\n"
     ]
    }
   ],
   "source": [
    "name='파이쏭'\n",
    "print(name)"
   ]
  },
  {
   "cell_type": "code",
   "execution_count": 5,
   "id": "9135c4ce",
   "metadata": {},
   "outputs": [
    {
     "name": "stdout",
     "output_type": "stream",
     "text": [
      "1024\n"
     ]
    }
   ],
   "source": [
    "a=1024\n",
    "print(a)"
   ]
  },
  {
   "cell_type": "code",
   "execution_count": 6,
   "id": "a28a9751",
   "metadata": {},
   "outputs": [
    {
     "name": "stdout",
     "output_type": "stream",
     "text": [
      "파이쏭님! 안녕하세요\n"
     ]
    }
   ],
   "source": [
    "name='파이쏭'\n",
    "print(name+'님! 안녕하세요')"
   ]
  },
  {
   "cell_type": "code",
   "execution_count": 7,
   "id": "5755f888",
   "metadata": {},
   "outputs": [
    {
     "name": "stdout",
     "output_type": "stream",
     "text": [
      "2020 원더키디 화이팅!!\n"
     ]
    }
   ],
   "source": [
    "name = '원더키디'\n",
    "print(2020, name, '화이팅!!')"
   ]
  },
  {
   "cell_type": "code",
   "execution_count": 8,
   "id": "fbd31541",
   "metadata": {},
   "outputs": [
    {
     "name": "stdout",
     "output_type": "stream",
     "text": [
      "지북쓰\n",
      "지북쓰님! 안녕하세요!\n"
     ]
    }
   ],
   "source": [
    "name = input()\n",
    "print(name+'님! 안녕하세요!')"
   ]
  },
  {
   "cell_type": "code",
   "execution_count": 9,
   "id": "34064ad5",
   "metadata": {},
   "outputs": [
    {
     "name": "stdout",
     "output_type": "stream",
     "text": [
      "이름을 입력해주세요 : 지북쓰\n",
      "지북쓰님! 안녕하세요!\n"
     ]
    }
   ],
   "source": [
    "name = input('이름을 입력해주세요 : ')\n",
    "print(name + '님! 안녕하세요!')"
   ]
  },
  {
   "cell_type": "code",
   "execution_count": 12,
   "id": "598b98ca",
   "metadata": {},
   "outputs": [
    {
     "name": "stdout",
     "output_type": "stream",
     "text": [
      "나이를 입력해주세요!26\n",
      "22\n"
     ]
    }
   ],
   "source": [
    "age = input('나이를 입력해주세요!')\n",
    "print(int(age)-4)"
   ]
  },
  {
   "cell_type": "code",
   "execution_count": 13,
   "id": "988a6a39",
   "metadata": {
    "scrolled": true
   },
   "outputs": [
    {
     "name": "stdout",
     "output_type": "stream",
     "text": [
      "이름을 입력해주세요 : 지북이\n",
      "나이를 입력해주세요 : 26\n",
      "안녕하세요! 지북이님! 저는 처음에 22살인 줄 알았어요!\n"
     ]
    }
   ],
   "source": [
    "name = input('이름을 입력해주세요 : ')\n",
    "age = int(input('나이를 입력해주세요 : '))\n",
    "print('안녕하세요!', name + '님! 저는 처음에 '+ str(age-4) + '살인 줄 알았어요!')"
   ]
  },
  {
   "cell_type": "markdown",
   "id": "7b5475e4",
   "metadata": {},
   "source": [
    "#### 연산자 사용하기"
   ]
  },
  {
   "cell_type": "code",
   "execution_count": 15,
   "id": "81d5fa4a",
   "metadata": {},
   "outputs": [
    {
     "name": "stdout",
     "output_type": "stream",
     "text": [
      "30\n",
      "59049\n",
      "3\n",
      "1.5\n",
      "1\n"
     ]
    }
   ],
   "source": [
    "print(3*10)\n",
    "print(3**10)\n",
    "print(3%10)\n",
    "print(3/2)\n",
    "print(3//2)"
   ]
  },
  {
   "cell_type": "code",
   "execution_count": 16,
   "id": "40a4d9fb",
   "metadata": {},
   "outputs": [
    {
     "name": "stdout",
     "output_type": "stream",
     "text": [
      "True\n",
      "False\n",
      "False\n",
      "True\n",
      "True\n"
     ]
    }
   ],
   "source": [
    "print(10 >= 3)\n",
    "print(10 <= 3)\n",
    "print(10 == 3)   \n",
    "print(10 != 3)   # != : 같지않다\n",
    "print(3 % 2 ==1)"
   ]
  },
  {
   "cell_type": "code",
   "execution_count": 17,
   "id": "7a839eae",
   "metadata": {},
   "outputs": [
    {
     "name": "stdout",
     "output_type": "stream",
     "text": [
      "True\n",
      "False\n"
     ]
    }
   ],
   "source": [
    "print(1 == 1 and 2 != 1)\n",
    "print(10 % 2 != 0 and 1 + 1 > 0)"
   ]
  },
  {
   "cell_type": "code",
   "execution_count": 18,
   "id": "4ab09e84",
   "metadata": {},
   "outputs": [
    {
     "name": "stdout",
     "output_type": "stream",
     "text": [
      "False\n",
      "True\n"
     ]
    }
   ],
   "source": [
    "print (10 <5 or 10 == 5)\n",
    "print (10 % 2 != 0 or 1 + 1 > 0)"
   ]
  },
  {
   "cell_type": "code",
   "execution_count": 19,
   "id": "c2b2c9dc",
   "metadata": {
    "scrolled": false
   },
   "outputs": [
    {
     "name": "stdout",
     "output_type": "stream",
     "text": [
      "False\n",
      "True\n",
      "True\n",
      "False\n"
     ]
    }
   ],
   "source": [
    "print(not 10 > 5)\n",
    "print(not 10 == 5)\n",
    "print(not 0)\n",
    "print(not 10)"
   ]
  },
  {
   "cell_type": "markdown",
   "id": "7df67b83",
   "metadata": {},
   "source": [
    "#### 함수 불러오기"
   ]
  },
  {
   "cell_type": "code",
   "execution_count": 32,
   "id": "54e887b9",
   "metadata": {},
   "outputs": [
    {
     "name": "stdout",
     "output_type": "stream",
     "text": [
      "5\n"
     ]
    }
   ],
   "source": [
    "import random\n",
    "dice = random.randint(1,6)\n",
    "print(dice)"
   ]
  },
  {
   "cell_type": "code",
   "execution_count": 33,
   "id": "b62b2f47",
   "metadata": {},
   "outputs": [],
   "source": [
    "import math"
   ]
  },
  {
   "cell_type": "code",
   "execution_count": 34,
   "id": "c876ab77",
   "metadata": {},
   "outputs": [
    {
     "name": "stdout",
     "output_type": "stream",
     "text": [
      "1.4142135623730951\n"
     ]
    }
   ],
   "source": [
    "print(math.sqrt(2))"
   ]
  },
  {
   "cell_type": "markdown",
   "id": "0dbed770",
   "metadata": {},
   "source": [
    "#### 반복과 선택"
   ]
  },
  {
   "cell_type": "code",
   "execution_count": 35,
   "id": "c782c4dc",
   "metadata": {},
   "outputs": [
    {
     "name": "stdout",
     "output_type": "stream",
     "text": [
      "지\n",
      "북\n",
      "이\n"
     ]
    }
   ],
   "source": [
    "name = '지북이'\n",
    "for i in name :\n",
    "    print(i)"
   ]
  },
  {
   "cell_type": "code",
   "execution_count": 36,
   "id": "b90f9385",
   "metadata": {},
   "outputs": [
    {
     "name": "stdout",
     "output_type": "stream",
     "text": [
      "초파\n",
      "루피\n",
      "상디\n",
      "조로\n"
     ]
    }
   ],
   "source": [
    "names = ['초파','루피','상디','조로']\n",
    "for name in names :\n",
    "    print(name)"
   ]
  },
  {
   "cell_type": "code",
   "execution_count": 37,
   "id": "94509c33",
   "metadata": {},
   "outputs": [
    {
     "name": "stdout",
     "output_type": "stream",
     "text": [
      "0\n",
      "1\n",
      "4\n",
      "9\n"
     ]
    }
   ],
   "source": [
    "for i in [0,1,2,3] :\n",
    "    print(i**2)"
   ]
  },
  {
   "cell_type": "code",
   "execution_count": 38,
   "id": "b12627c4",
   "metadata": {},
   "outputs": [
    {
     "name": "stdout",
     "output_type": "stream",
     "text": [
      "0\n",
      "1\n",
      "4\n",
      "9\n",
      "16\n",
      "25\n",
      "36\n",
      "49\n",
      "64\n",
      "81\n",
      "100\n",
      "121\n",
      "144\n",
      "169\n",
      "196\n",
      "225\n",
      "256\n",
      "289\n",
      "324\n",
      "361\n",
      "400\n",
      "441\n",
      "484\n",
      "529\n",
      "576\n",
      "625\n",
      "676\n",
      "729\n",
      "784\n",
      "841\n",
      "900\n",
      "961\n",
      "1024\n",
      "1089\n",
      "1156\n",
      "1225\n",
      "1296\n",
      "1369\n",
      "1444\n",
      "1521\n",
      "1600\n",
      "1681\n",
      "1764\n",
      "1849\n",
      "1936\n",
      "2025\n",
      "2116\n",
      "2209\n",
      "2304\n",
      "2401\n",
      "2500\n",
      "2601\n",
      "2704\n",
      "2809\n",
      "2916\n",
      "3025\n",
      "3136\n",
      "3249\n",
      "3364\n",
      "3481\n",
      "3600\n",
      "3721\n",
      "3844\n",
      "3969\n",
      "4096\n",
      "4225\n",
      "4356\n",
      "4489\n",
      "4624\n",
      "4761\n",
      "4900\n",
      "5041\n",
      "5184\n",
      "5329\n",
      "5476\n",
      "5625\n",
      "5776\n",
      "5929\n",
      "6084\n",
      "6241\n",
      "6400\n",
      "6561\n",
      "6724\n",
      "6889\n",
      "7056\n",
      "7225\n",
      "7396\n",
      "7569\n",
      "7744\n",
      "7921\n",
      "8100\n",
      "8281\n",
      "8464\n",
      "8649\n",
      "8836\n",
      "9025\n",
      "9216\n",
      "9409\n",
      "9604\n",
      "9801\n"
     ]
    }
   ],
   "source": [
    "for i in range (100):\n",
    "    print(i **2)"
   ]
  },
  {
   "cell_type": "code",
   "execution_count": 39,
   "id": "372eed2c",
   "metadata": {},
   "outputs": [
    {
     "name": "stdout",
     "output_type": "stream",
     "text": [
      "나는 파이썬왕이 될 사람이다!\n",
      "나는 파이썬왕이 될 사람이다!\n",
      "나는 파이썬왕이 될 사람이다!\n",
      "나는 파이썬왕이 될 사람이다!\n",
      "나는 파이썬왕이 될 사람이다!\n",
      "나는 파이썬왕이 될 사람이다!\n",
      "나는 파이썬왕이 될 사람이다!\n",
      "나는 파이썬왕이 될 사람이다!\n",
      "나는 파이썬왕이 될 사람이다!\n",
      "나는 파이썬왕이 될 사람이다!\n",
      "나는 파이썬왕이 될 사람이다!\n",
      "나는 파이썬왕이 될 사람이다!\n",
      "나는 파이썬왕이 될 사람이다!\n",
      "나는 파이썬왕이 될 사람이다!\n",
      "나는 파이썬왕이 될 사람이다!\n",
      "나는 파이썬왕이 될 사람이다!\n",
      "나는 파이썬왕이 될 사람이다!\n",
      "나는 파이썬왕이 될 사람이다!\n",
      "나는 파이썬왕이 될 사람이다!\n",
      "나는 파이썬왕이 될 사람이다!\n",
      "나는 파이썬왕이 될 사람이다!\n",
      "나는 파이썬왕이 될 사람이다!\n",
      "나는 파이썬왕이 될 사람이다!\n",
      "나는 파이썬왕이 될 사람이다!\n",
      "나는 파이썬왕이 될 사람이다!\n",
      "나는 파이썬왕이 될 사람이다!\n",
      "나는 파이썬왕이 될 사람이다!\n",
      "나는 파이썬왕이 될 사람이다!\n",
      "나는 파이썬왕이 될 사람이다!\n",
      "나는 파이썬왕이 될 사람이다!\n",
      "나는 파이썬왕이 될 사람이다!\n",
      "나는 파이썬왕이 될 사람이다!\n",
      "나는 파이썬왕이 될 사람이다!\n",
      "나는 파이썬왕이 될 사람이다!\n",
      "나는 파이썬왕이 될 사람이다!\n",
      "나는 파이썬왕이 될 사람이다!\n",
      "나는 파이썬왕이 될 사람이다!\n",
      "나는 파이썬왕이 될 사람이다!\n",
      "나는 파이썬왕이 될 사람이다!\n",
      "나는 파이썬왕이 될 사람이다!\n",
      "나는 파이썬왕이 될 사람이다!\n",
      "나는 파이썬왕이 될 사람이다!\n",
      "나는 파이썬왕이 될 사람이다!\n",
      "나는 파이썬왕이 될 사람이다!\n",
      "나는 파이썬왕이 될 사람이다!\n",
      "나는 파이썬왕이 될 사람이다!\n",
      "나는 파이썬왕이 될 사람이다!\n",
      "나는 파이썬왕이 될 사람이다!\n",
      "나는 파이썬왕이 될 사람이다!\n",
      "나는 파이썬왕이 될 사람이다!\n",
      "나는 파이썬왕이 될 사람이다!\n",
      "나는 파이썬왕이 될 사람이다!\n",
      "나는 파이썬왕이 될 사람이다!\n",
      "나는 파이썬왕이 될 사람이다!\n",
      "나는 파이썬왕이 될 사람이다!\n",
      "나는 파이썬왕이 될 사람이다!\n",
      "나는 파이썬왕이 될 사람이다!\n",
      "나는 파이썬왕이 될 사람이다!\n",
      "나는 파이썬왕이 될 사람이다!\n",
      "나는 파이썬왕이 될 사람이다!\n",
      "나는 파이썬왕이 될 사람이다!\n",
      "나는 파이썬왕이 될 사람이다!\n",
      "나는 파이썬왕이 될 사람이다!\n",
      "나는 파이썬왕이 될 사람이다!\n",
      "나는 파이썬왕이 될 사람이다!\n",
      "나는 파이썬왕이 될 사람이다!\n",
      "나는 파이썬왕이 될 사람이다!\n",
      "나는 파이썬왕이 될 사람이다!\n",
      "나는 파이썬왕이 될 사람이다!\n",
      "나는 파이썬왕이 될 사람이다!\n",
      "나는 파이썬왕이 될 사람이다!\n",
      "나는 파이썬왕이 될 사람이다!\n",
      "나는 파이썬왕이 될 사람이다!\n",
      "나는 파이썬왕이 될 사람이다!\n",
      "나는 파이썬왕이 될 사람이다!\n",
      "나는 파이썬왕이 될 사람이다!\n",
      "나는 파이썬왕이 될 사람이다!\n",
      "나는 파이썬왕이 될 사람이다!\n",
      "나는 파이썬왕이 될 사람이다!\n",
      "나는 파이썬왕이 될 사람이다!\n",
      "나는 파이썬왕이 될 사람이다!\n",
      "나는 파이썬왕이 될 사람이다!\n",
      "나는 파이썬왕이 될 사람이다!\n",
      "나는 파이썬왕이 될 사람이다!\n",
      "나는 파이썬왕이 될 사람이다!\n",
      "나는 파이썬왕이 될 사람이다!\n",
      "나는 파이썬왕이 될 사람이다!\n",
      "나는 파이썬왕이 될 사람이다!\n",
      "나는 파이썬왕이 될 사람이다!\n",
      "나는 파이썬왕이 될 사람이다!\n",
      "나는 파이썬왕이 될 사람이다!\n",
      "나는 파이썬왕이 될 사람이다!\n",
      "나는 파이썬왕이 될 사람이다!\n",
      "나는 파이썬왕이 될 사람이다!\n",
      "나는 파이썬왕이 될 사람이다!\n",
      "나는 파이썬왕이 될 사람이다!\n",
      "나는 파이썬왕이 될 사람이다!\n",
      "나는 파이썬왕이 될 사람이다!\n",
      "나는 파이썬왕이 될 사람이다!\n",
      "나는 파이썬왕이 될 사람이다!\n"
     ]
    }
   ],
   "source": [
    "for i in range (100):\n",
    "    print(\"나는 파이썬왕이 될 사람이다!\")"
   ]
  },
  {
   "cell_type": "markdown",
   "id": "ba8d3657",
   "metadata": {},
   "source": [
    "if 조건문"
   ]
  },
  {
   "cell_type": "code",
   "execution_count": 40,
   "id": "03d88b98",
   "metadata": {},
   "outputs": [
    {
     "name": "stdout",
     "output_type": "stream",
     "text": [
      "안녕하세요\n"
     ]
    }
   ],
   "source": [
    "if 10 >0:\n",
    "    print('안녕하세요')"
   ]
  },
  {
   "cell_type": "code",
   "execution_count": 41,
   "id": "6374678d",
   "metadata": {},
   "outputs": [
    {
     "name": "stdout",
     "output_type": "stream",
     "text": [
      "안녕하세요\n"
     ]
    }
   ],
   "source": [
    "if 10 != 0 and 5%2 == 1:\n",
    "    print('안녕하세요')"
   ]
  },
  {
   "cell_type": "code",
   "execution_count": 42,
   "id": "ded48c0a",
   "metadata": {},
   "outputs": [
    {
     "name": "stdout",
     "output_type": "stream",
     "text": [
      "비밀번호 4자리를 입력하세요 : 1531\n",
      "비밀번호가 일치합니다\n"
     ]
    }
   ],
   "source": [
    "passwd = int(input('비밀번호 4자리를 입력하세요 : '))\n",
    "if passwd == 1531:\n",
    "    print('비밀번호가 일치합니다')"
   ]
  },
  {
   "cell_type": "code",
   "execution_count": 43,
   "id": "40075b0d",
   "metadata": {},
   "outputs": [
    {
     "name": "stdout",
     "output_type": "stream",
     "text": [
      "비밀번호가 일치합니다\n"
     ]
    }
   ],
   "source": [
    " for i in range(10000):\n",
    "        if i == 1531:\n",
    "            print('비밀번호가 일치합니다')"
   ]
  },
  {
   "cell_type": "code",
   "execution_count": 45,
   "id": "6f6fa84a",
   "metadata": {},
   "outputs": [
    {
     "name": "stdout",
     "output_type": "stream",
     "text": [
      "비밀번호 4자리를 입력하세요1531\n",
      "비밀번호가 일치합니다\n"
     ]
    }
   ],
   "source": [
    "passwd = int(input('비밀번호 4자리를 입력하세요'))\n",
    "if passwd == 1531 :\n",
    "    print('비밀번호가 일치합니다')\n",
    "else :\n",
    "    print('_____________')"
   ]
  },
  {
   "cell_type": "code",
   "execution_count": 46,
   "id": "240cc835",
   "metadata": {},
   "outputs": [
    {
     "name": "stdout",
     "output_type": "stream",
     "text": [
      "[소름끼치도록 놀라운 심리테스트]\n",
      "당신이 좋아하는 음식을 입력해주세요아이스크림\n",
      "당신은 아이스크림을 좋아하는 사람입니다\n"
     ]
    }
   ],
   "source": [
    "print('[소름끼치도록 놀라운 심리테스트]')\n",
    "menu = input('당신이 좋아하는 음식을 입력해주세요')\n",
    "if menu =='짜장면':\n",
    "    print('당신은 짜장면을 좋아하는 사람입니다')\n",
    "elif menu == '아이스크림':\n",
    "    print('당신은 아이스크림을 좋아하는 사람입니다')\n",
    "elif menu == '사탕':\n",
    "    print('당신은 사탕을 좋아하는 사람입니다')\n",
    "else :\n",
    "    print('당신은 짜장면과 아이스크림과 사탕을 좋아하지 않는 사람입니다')"
   ]
  },
  {
   "cell_type": "markdown",
   "id": "721df05b",
   "metadata": {},
   "source": [
    "#### 순서 있는 저장 공간 리스트"
   ]
  },
  {
   "cell_type": "code",
   "execution_count": 47,
   "id": "19faa8a6",
   "metadata": {},
   "outputs": [
    {
     "name": "stdout",
     "output_type": "stream",
     "text": [
      "0\n",
      "1\n",
      "4\n",
      "9\n"
     ]
    }
   ],
   "source": [
    "for i in [0,1,2,3] :\n",
    "    print(i ** 2)"
   ]
  },
  {
   "cell_type": "code",
   "execution_count": 48,
   "id": "6efefb46",
   "metadata": {},
   "outputs": [
    {
     "name": "stdout",
     "output_type": "stream",
     "text": [
      "초파\n",
      "루피\n",
      "상디\n",
      "조로\n"
     ]
    }
   ],
   "source": [
    "names = ['초파','루피','상디','조로']\n",
    "for name in names :\n",
    "    print(name)"
   ]
  },
  {
   "cell_type": "code",
   "execution_count": 49,
   "id": "3dd062a3",
   "metadata": {},
   "outputs": [
    {
     "name": "stdout",
     "output_type": "stream",
     "text": [
      "루피\n"
     ]
    }
   ],
   "source": [
    "names = ['초파','루피','상디','조로']\n",
    "print(names[1])"
   ]
  },
  {
   "cell_type": "code",
   "execution_count": 50,
   "id": "0a86ee8f",
   "metadata": {},
   "outputs": [
    {
     "name": "stdout",
     "output_type": "stream",
     "text": [
      "초파\n",
      "루피\n",
      "상디\n",
      "조로\n"
     ]
    }
   ],
   "source": [
    "names = ['초파','루피','상디','조로']\n",
    "print(names[0])\n",
    "print(names[1])\n",
    "print(names[2])\n",
    "print(names[3])"
   ]
  },
  {
   "cell_type": "code",
   "execution_count": 51,
   "id": "02ebc4b3",
   "metadata": {},
   "outputs": [
    {
     "name": "stdout",
     "output_type": "stream",
     "text": [
      "상디\n"
     ]
    }
   ],
   "source": [
    "names = ['초파','루피','상디','조로']\n",
    "print(names[-2])"
   ]
  },
  {
   "cell_type": "code",
   "execution_count": 53,
   "id": "2caadba9",
   "metadata": {},
   "outputs": [
    {
     "name": "stdout",
     "output_type": "stream",
     "text": [
      "['초파', '루피', '상디']\n",
      "['루피', '상디']\n",
      "['초파', '루피', '상디']\n"
     ]
    }
   ],
   "source": [
    "names = ['초파','루피','상디','조로']\n",
    "print(names[0:3])\n",
    "print(names[1:3])\n",
    "print(names[:3])"
   ]
  },
  {
   "cell_type": "code",
   "execution_count": 60,
   "id": "8e7d379e",
   "metadata": {},
   "outputs": [
    {
     "name": "stdout",
     "output_type": "stream",
     "text": [
      "['초파', '루피', '상디', '조로', '나미']\n"
     ]
    }
   ],
   "source": [
    "names = ['초파','루피','상디','조로']\n",
    "names.append('나미')\n",
    "print(names)"
   ]
  },
  {
   "cell_type": "code",
   "execution_count": 63,
   "id": "4ad815a1",
   "metadata": {},
   "outputs": [
    {
     "name": "stdout",
     "output_type": "stream",
     "text": [
      "5\n",
      "26\n"
     ]
    }
   ],
   "source": [
    "print(len(names))\n",
    "print(len('data analysis for everyone'))"
   ]
  },
  {
   "cell_type": "code",
   "execution_count": 64,
   "id": "1504c8d6",
   "metadata": {},
   "outputs": [
    {
     "name": "stdout",
     "output_type": "stream",
     "text": [
      "해적왕 왔나요~?\n"
     ]
    }
   ],
   "source": [
    "names = ['초파','루피','상디','조로']\n",
    "names.append('해적왕')\n",
    "for name in names :\n",
    "    if len(name) > 2 :\n",
    "        print(name, '왔나요~?')"
   ]
  },
  {
   "cell_type": "code",
   "execution_count": null,
   "id": "0e71c808",
   "metadata": {},
   "outputs": [],
   "source": []
  }
 ],
 "metadata": {
  "kernelspec": {
   "display_name": "Python 3 (ipykernel)",
   "language": "python",
   "name": "python3"
  },
  "language_info": {
   "codemirror_mode": {
    "name": "ipython",
    "version": 3
   },
   "file_extension": ".py",
   "mimetype": "text/x-python",
   "name": "python",
   "nbconvert_exporter": "python",
   "pygments_lexer": "ipython3",
   "version": "3.9.7"
  }
 },
 "nbformat": 4,
 "nbformat_minor": 5
}
