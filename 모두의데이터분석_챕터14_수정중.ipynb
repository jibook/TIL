{
 "cells": [
  {
   "cell_type": "code",
   "execution_count": null,
   "id": "d375cc24",
   "metadata": {},
   "outputs": [],
   "source": [
    "import csv\n",
    "\n",
    "f = open(\"C:/Users/jhjh3/Desktop/jicode/data/age.csv\",encoding='utf-8')\n",
    "data=csv.reader(f)\n",
    "for row in data:\n",
    "    print(row)"
   ]
  },
  {
   "cell_type": "markdown",
   "id": "9aa32348",
   "metadata": {},
   "source": [
    "하씨 오류 수정해줄 귀인 또는 미래의 지북쓰 어여 나타나라 "
   ]
  },
  {
   "cell_type": "code",
   "execution_count": null,
   "id": "f114e749",
   "metadata": {},
   "outputs": [],
   "source": [
    "import csv\n",
    "import matplotlib.pyplot as plt\n",
    "\n",
    "f = open(\"C:/Users/jhjh3/Desktop/jicode/data/age.csv\",encoding='utf-8')\n",
    "data=csv.reader(f)\n",
    "next(data)\n",
    "\n",
    "for row in data:\n",
    "    print(row)"
   ]
  },
  {
   "cell_type": "code",
   "execution_count": 3,
   "id": "2667abab",
   "metadata": {},
   "outputs": [
    {
     "name": "stdout",
     "output_type": "stream",
     "text": [
      "['행정구역', '2021년11월_계_총인구수', '2021년11월_계_연령구간인구수', '2021년11월_계_0세', '2021년11월_계_1세', '2021년11월_계_2세', '2021년11월_계_3세', '2021년11월_계_4세', '2021년11월_계_5세', '2021년11월_계_6세', '2021년11월_계_7세', '2021년11월_계_8세', '2021년11월_계_9세', '2021년11월_계_10세', '2021년11월_계_11세', '2021년11월_계_12세', '2021년11월_계_13세', '2021년11월_계_14세', '2021년11월_계_15세', '2021년11월_계_16세', '2021년11월_계_17세', '2021년11월_계_18세', '2021년11월_계_19세', '2021년11월_계_20세', '2021년11월_계_21세', '2021년11월_계_22세', '2021년11월_계_23세', '2021년11월_계_24세', '2021년11월_계_25세', '2021년11월_계_26세', '2021년11월_계_27세', '2021년11월_계_28세', '2021년11월_계_29세', '2021년11월_계_30세', '2021년11월_계_31세', '2021년11월_계_32세', '2021년11월_계_33세', '2021년11월_계_34세', '2021년11월_계_35세', '2021년11월_계_36세', '2021년11월_계_37세', '2021년11월_계_38세', '2021년11월_계_39세', '2021년11월_계_40세', '2021년11월_계_41세', '2021년11월_계_42세', '2021년11월_계_43세', '2021년11월_계_44세', '2021년11월_계_45세', '2021년11월_계_46세', '2021년11월_계_47세', '2021년11월_계_48세', '2021년11월_계_49세', '2021년11월_계_50세', '2021년11월_계_51세', '2021년11월_계_52세', '2021년11월_계_53세', '2021년11월_계_54세', '2021년11월_계_55세', '2021년11월_계_56세', '2021년11월_계_57세', '2021년11월_계_58세', '2021년11월_계_59세', '2021년11월_계_60세', '2021년11월_계_61세', '2021년11월_계_62세', '2021년11월_계_63세', '2021년11월_계_64세', '2021년11월_계_65세', '2021년11월_계_66세', '2021년11월_계_67세', '2021년11월_계_68세', '2021년11월_계_69세', '2021년11월_계_70세', '2021년11월_계_71세', '2021년11월_계_72세', '2021년11월_계_73세', '2021년11월_계_74세', '2021년11월_계_75세', '2021년11월_계_76세', '2021년11월_계_77세', '2021년11월_계_78세', '2021년11월_계_79세', '2021년11월_계_80세', '2021년11월_계_81세', '2021년11월_계_82세', '2021년11월_계_83세', '2021년11월_계_84세', '2021년11월_계_85세', '2021년11월_계_86세', '2021년11월_계_87세', '2021년11월_계_88세', '2021년11월_계_89세', '2021년11월_계_90세', '2021년11월_계_91세', '2021년11월_계_92세', '2021년11월_계_93세', '2021년11월_계_94세', '2021년11월_계_95세', '2021년11월_계_96세', '2021년11월_계_97세', '2021년11월_계_98세', '2021년11월_계_99세', '2021년11월_계_100세 이상', '2021년11월_남_총인구수', '2021년11월_남_연령구간인구수', '2021년11월_남_0세', '2021년11월_남_1세', '2021년11월_남_2세', '2021년11월_남_3세', '2021년11월_남_4세', '2021년11월_남_5세', '2021년11월_남_6세', '2021년11월_남_7세', '2021년11월_남_8세', '2021년11월_남_9세', '2021년11월_남_10세', '2021년11월_남_11세', '2021년11월_남_12세', '2021년11월_남_13세', '2021년11월_남_14세', '2021년11월_남_15세', '2021년11월_남_16세', '2021년11월_남_17세', '2021년11월_남_18세', '2021년11월_남_19세', '2021년11월_남_20세', '2021년11월_남_21세', '2021년11월_남_22세', '2021년11월_남_23세', '2021년11월_남_24세', '2021년11월_남_25세', '2021년11월_남_26세', '2021년11월_남_27세', '2021년11월_남_28세', '2021년11월_남_29세', '2021년11월_남_30세', '2021년11월_남_31세', '2021년11월_남_32세', '2021년11월_남_33세', '2021년11월_남_34세', '2021년11월_남_35세', '2021년11월_남_36세', '2021년11월_남_37세', '2021년11월_남_38세', '2021년11월_남_39세', '2021년11월_남_40세', '2021년11월_남_41세', '2021년11월_남_42세', '2021년11월_남_43세', '2021년11월_남_44세', '2021년11월_남_45세', '2021년11월_남_46세', '2021년11월_남_47세', '2021년11월_남_48세', '2021년11월_남_49세', '2021년11월_남_50세', '2021년11월_남_51세', '2021년11월_남_52세', '2021년11월_남_53세', '2021년11월_남_54세', '2021년11월_남_55세', '2021년11월_남_56세', '2021년11월_남_57세', '2021년11월_남_58세', '2021년11월_남_59세', '2021년11월_남_60세', '2021년11월_남_61세', '2021년11월_남_62세', '2021년11월_남_63세', '2021년11월_남_64세', '2021년11월_남_65세', '2021년11월_남_66세', '2021년11월_남_67세', '2021년11월_남_68세', '2021년11월_남_69세', '2021년11월_남_70세', '2021년11월_남_71세', '2021년11월_남_72세', '2021년11월_남_73세', '2021년11월_남_74세', '2021년11월_남_75세', '2021년11월_남_76세', '2021년11월_남_77세', '2021년11월_남_78세', '2021년11월_남_79세', '2021년11월_남_80세', '2021년11월_남_81세', '2021년11월_남_82세', '2021년11월_남_83세', '2021년11월_남_84세', '2021년11월_남_85세', '2021년11월_남_86세', '2021년11월_남_87세', '2021년11월_남_88세', '2021년11월_남_89세', '2021년11월_남_90세', '2021년11월_남_91세', '2021년11월_남_92세', '2021년11월_남_93세', '2021년11월_남_94세', '2021년11월_남_95세', '2021년11월_남_96세', '2021년11월_남_97세', '2021년11월_남_98세', '2021년11월_남_99세', '2021년11월_남_100세 이상', '2021년11월_여_총인구수', '2021년11월_여_연령구간인구수', '2021년11월_여_0세', '2021년11월_여_1세', '2021년11월_여_2세', '2021년11월_여_3세', '2021년11월_여_4세', '2021년11월_여_5세', '2021년11월_여_6세', '2021년11월_여_7세', '2021년11월_여_8세', '2021년11월_여_9세', '2021년11월_여_10세', '2021년11월_여_11세', '2021년11월_여_12세', '2021년11월_여_13세', '2021년11월_여_14세', '2021년11월_여_15세', '2021년11월_여_16세', '2021년11월_여_17세', '2021년11월_여_18세', '2021년11월_여_19세', '2021년11월_여_20세', '2021년11월_여_21세', '2021년11월_여_22세', '2021년11월_여_23세', '2021년11월_여_24세', '2021년11월_여_25세', '2021년11월_여_26세', '2021년11월_여_27세', '2021년11월_여_28세', '2021년11월_여_29세', '2021년11월_여_30세', '2021년11월_여_31세', '2021년11월_여_32세', '2021년11월_여_33세', '2021년11월_여_34세', '2021년11월_여_35세', '2021년11월_여_36세', '2021년11월_여_37세', '2021년11월_여_38세', '2021년11월_여_39세', '2021년11월_여_40세', '2021년11월_여_41세', '2021년11월_여_42세', '2021년11월_여_43세', '2021년11월_여_44세', '2021년11월_여_45세', '2021년11월_여_46세', '2021년11월_여_47세', '2021년11월_여_48세', '2021년11월_여_49세', '2021년11월_여_50세', '2021년11월_여_51세', '2021년11월_여_52세', '2021년11월_여_53세', '2021년11월_여_54세', '2021년11월_여_55세', '2021년11월_여_56세', '2021년11월_여_57세', '2021년11월_여_58세', '2021년11월_여_59세', '2021년11월_여_60세', '2021년11월_여_61세', '2021년11월_여_62세', '2021년11월_여_63세', '2021년11월_여_64세', '2021년11월_여_65세', '2021년11월_여_66세', '2021년11월_여_67세', '2021년11월_여_68세', '2021년11월_여_69세', '2021년11월_여_70세', '2021년11월_여_71세', '2021년11월_여_72세', '2021년11월_여_73세', '2021년11월_여_74세', '2021년11월_여_75세', '2021년11월_여_76세', '2021년11월_여_77세', '2021년11월_여_78세', '2021년11월_여_79세', '2021년11월_여_80세', '2021년11월_여_81세', '2021년11월_여_82세', '2021년11월_여_83세', '2021년11월_여_84세', '2021년11월_여_85세', '2021년11월_여_86세', '2021년11월_여_87세', '2021년11월_여_88세', '2021년11월_여_89세', '2021년11월_여_90세', '2021년11월_여_91세', '2021년11월_여_92세', '2021년11월_여_93세', '2021년11월_여_94세', '2021년11월_여_95세', '2021년11월_여_96세', '2021년11월_여_97세', '2021년11월_여_98세', '2021년11월_여_99세', '2021년11월_여_100세 이상']\n"
     ]
    }
   ],
   "source": [
    "import csv\n",
    "import matplotlib.pyplot as plt\n",
    "\n",
    "f = open(\"C:/Users/jhjh3/Desktop/jicode/data/age.csv\",encoding='utf-8')\n",
    "data=csv.reader(f)\n",
    "header=next(data)\n",
    "\n",
    "print(header)"
   ]
  },
  {
   "cell_type": "code",
   "execution_count": 4,
   "id": "84ffb4d2",
   "metadata": {},
   "outputs": [
    {
     "name": "stdout",
     "output_type": "stream",
     "text": [
      "인구 구조가 알고 싶은 지역의 이름(읍면동 단위)을 입력해 주세요 :서울특별시\n"
     ]
    }
   ],
   "source": [
    "name=input('인구 구조가 알고 싶은 지역의 이름(읍면동 단위)을 입력해 주세요 :')"
   ]
  },
  {
   "cell_type": "code",
   "execution_count": null,
   "id": "e8397efc",
   "metadata": {},
   "outputs": [],
   "source": [
    "import csv\n",
    "import matplotlib.pyplot as plt\n",
    "\n",
    "f = open(\"C:/Users/jhjh3/Desktop/jicode/data/age.csv\",encoding='utf-8')\n",
    "data=csv.reader(f)\n",
    "next(data)\n",
    "home=[]\n",
    "name=input('인구 구조가 알고 싶은 지역의 이름(읍면동 단위)을 입력해 주세요 :')\n",
    "\n",
    "for row in data:\n",
    "    if name in row[0] :\n",
    "        for i in row[3:] :\n",
    "            home.append(str(i))\n",
    "            \n",
    "print(home)"
   ]
  },
  {
   "cell_type": "code",
   "execution_count": 39,
   "id": "9ea7f15a",
   "metadata": {
    "scrolled": false
   },
   "outputs": [],
   "source": [
    "for i in row[3:] :\n",
    "    home.append(str(i))"
   ]
  },
  {
   "cell_type": "code",
   "execution_count": 70,
   "id": "3b0a2b17",
   "metadata": {
    "scrolled": true
   },
   "outputs": [
    {
     "data": {
      "text/plain": [
       "str"
      ]
     },
     "execution_count": 70,
     "metadata": {},
     "output_type": "execute_result"
    }
   ],
   "source": [
    "type(home[3])"
   ]
  },
  {
   "cell_type": "code",
   "execution_count": 71,
   "id": "cafecb40",
   "metadata": {},
   "outputs": [],
   "source": [
    "# int 로 바꾸고 싶어서 해봄\n",
    "\n",
    "import pandas as pd\n",
    "from pandas import Series, DataFrame\n",
    "\n",
    "home_da=DataFrame(home)\n"
   ]
  },
  {
   "cell_type": "code",
   "execution_count": 89,
   "id": "fc8ba828",
   "metadata": {},
   "outputs": [
    {
     "name": "stdout",
     "output_type": "stream",
     "text": [
      "         0\n",
      "0    43492\n",
      "1    45054\n",
      "2    49318\n",
      "3    51995\n",
      "4    56210\n",
      "..     ...\n",
      "609    164\n",
      "610     93\n",
      "611    250\n",
      "612    133\n",
      "613    179\n",
      "\n",
      "[614 rows x 1 columns]\n",
      "<class 'pandas.core.frame.DataFrame'>\n"
     ]
    }
   ],
   "source": [
    "# int 로 바꾸고 싶어서 해봄\n",
    "\n",
    "print(home_da)\n",
    "print(type(home_da))"
   ]
  },
  {
   "cell_type": "code",
   "execution_count": 92,
   "id": "df9c4d55",
   "metadata": {},
   "outputs": [
    {
     "data": {
      "text/plain": [
       "pandas.core.frame.DataFrame"
      ]
     },
     "execution_count": 92,
     "metadata": {},
     "output_type": "execute_result"
    }
   ],
   "source": [
    "type(home_da)"
   ]
  },
  {
   "cell_type": "code",
   "execution_count": null,
   "id": "3fa592fb",
   "metadata": {},
   "outputs": [],
   "source": [
    "# for i in range(len(home_da)):\n",
    "#    if home_da[i].all() != 'int':\n",
    "#        home_da[i] = home_da[i].str.replace(',','').astype('int')\n",
    "#    else:\n",
    "#        pass\n",
    "#print(home_da)"
   ]
  },
  {
   "cell_type": "code",
   "execution_count": 93,
   "id": "743b7d4b",
   "metadata": {},
   "outputs": [
    {
     "name": "stdout",
     "output_type": "stream",
     "text": [
      "인구 구조가 알고 싶은 지역의 이름(읍면동 단위)을 입력해 주세요 :서울특별시\n",
      "['43,492' '45,054' '49,318' '51,995' '56,210' '63,757' '67,763' '66,950'\n",
      " '67,744' '74,276' '72,335' '72,732' '69,959' '74,746' '78,816' '72,760'\n",
      " '71,164' '79,106' '81,199' '85,628' '99,222' '116,143' '118,167'\n",
      " '130,171' '141,973' '152,695' '160,467' '167,496' '168,785' '171,275'\n",
      " '163,601' '150,119' '143,789' '140,390' '135,790' '134,809' '135,124'\n",
      " '135,240' '146,723' '155,189' '154,986' '155,424' '149,681' '131,846'\n",
      " '139,332' '136,958' '141,983' '153,857' '158,331' '160,766' '170,686'\n",
      " '164,108' '163,523' '158,165' '146,324' '136,933' '143,792' '139,146'\n",
      " '139,431' '145,596' '153,238' '157,332' '143,607' '135,335' '134,397'\n",
      " '123,145' '129,445' '108,604' '96,292' '103,732' '72,522' '81,543'\n",
      " '81,820' '79,906' '80,925' '63,365' '57,788' '57,285' '56,204' '64,534'\n",
      " '49,960' '42,822' '40,456' '34,745' '30,034' '26,040' '23,278' '18,473'\n",
      " '14,917' '12,565' '9,312' '8,147' '6,779' '5,328' '4,048' '2,587' '1,862'\n",
      " '1,368' '1,274' '816' '2,010' '4,624,290' '4,624,290' '22,407' '23,224'\n",
      " '25,643' '26,937' '28,657' '32,555' '34,630' '34,239' '34,806' '38,145'\n",
      " '37,047' '37,301' '35,887' '38,470' '40,483' '37,663' '36,666' '40,702'\n",
      " '41,583' '42,989' '48,641' '55,743' '56,172' '61,031' '65,746' '71,621'\n",
      " '77,301' '82,168' '83,544' '84,843' '81,205' '75,158' '72,306' '70,111'\n",
      " '67,259' '67,370' '67,708' '67,520' '73,634' '77,144' '78,087' '77,061'\n",
      " '73,628' '65,370' '68,274' '68,033' '69,996' '76,548' '77,510' '80,247'\n",
      " '84,733' '81,165' '80,890' '77,488' '70,584' '69,159' '70,292' '68,097'\n",
      " '68,783' '71,657' '73,364' '74,246' '68,612' '64,631' '63,654' '57,842'\n",
      " '60,051' '51,032' '45,070' '48,500' '33,754' '37,834' '37,531' '36,780'\n",
      " '36,556' '28,509' '26,150' '25,661' '25,040' '28,904' '21,949' '18,223'\n",
      " '16,844' '14,086' '11,689' '9,686' '8,328' '6,207' '4,822' '3,852'\n",
      " '2,617' '2,121' '1,806' '1,278' '928' '532' '410' '320' '334' '177' '499'\n",
      " '4,896,590' '4,896,590' '21,085' '21,830' '23,675' '25,058' '27,553'\n",
      " '31,202' '33,133' '32,711' '32,938' '36,131' '35,288' '35,431' '34,072'\n",
      " '36,276' '38,333' '35,097' '34,498' '38,404' '39,616' '42,639' '50,581'\n",
      " '60,400' '61,995' '69,140' '76,227' '81,074' '83,166' '85,328' '85,241'\n",
      " '86,432' '82,396' '74,961' '71,483' '70,279' '68,531' '67,439' '67,416'\n",
      " '67,720' '73,089' '78,045' '76,899' '78,363' '76,053' '66,476' '71,058'\n",
      " '68,925' '71,987' '77,309' '80,821' '80,519' '85,953' '82,943' '82,633'\n",
      " '80,677' '75,740' '67,774' '73,500' '71,049' '70,648' '73,939' '79,874'\n",
      " '83,086' '74,995' '70,704' '70,743' '65,303' '69,394' '57,572' '51,222'\n",
      " '55,232' '38,768' '43,709' '44,289' '43,126' '44,369' '34,856' '31,638'\n",
      " '31,624' '31,164' '35,630' '28,011' '24,599' '23,612' '20,659' '18,345'\n",
      " '16,354' '14,950' '12,266' '10,095' '8,713' '6,695' '6,026' '4,973'\n",
      " '4,050' '3,120' '2,055' '1,452' '1,048' '940' '639' '1,511']\n"
     ]
    }
   ],
   "source": [
    "import numpy as np\n",
    "import csv\n",
    "\n",
    "f = open(\"C:/Users/jhjh3/Desktop/jicode/data/age.csv\",encoding='utf-8')\n",
    "data_n=csv.reader(f)\n",
    "next(data_n)\n",
    "# home=[]\n",
    "name=input('인구 구조가 알고 싶은 지역의 이름(읍면동 단위)을 입력해 주세요 :')\n",
    "for row in data_n:\n",
    "    if name in row[0] :\n",
    "        home_n = np.array(row[3:], dtype = str)\n",
    "\n",
    "print(home_n)"
   ]
  },
  {
   "cell_type": "code",
   "execution_count": 94,
   "id": "ab1c0b99",
   "metadata": {},
   "outputs": [
    {
     "name": "stdout",
     "output_type": "stream",
     "text": [
      "인구 구조가 알고 싶은 지역의 이름(읍면동 단위)을 입력해 주세요 :서울특별시\n",
      "['43,492' '45,054' '49,318' '51,995' '56,210' '63,757' '67,763' '66,950'\n",
      " '67,744' '74,276' '72,335' '72,732' '69,959' '74,746' '78,816' '72,760'\n",
      " '71,164' '79,106' '81,199' '85,628' '99,222' '116,143' '118,167'\n",
      " '130,171' '141,973' '152,695' '160,467' '167,496' '168,785' '171,275'\n",
      " '163,601' '150,119' '143,789' '140,390' '135,790' '134,809' '135,124'\n",
      " '135,240' '146,723' '155,189' '154,986' '155,424' '149,681' '131,846'\n",
      " '139,332' '136,958' '141,983' '153,857' '158,331' '160,766' '170,686'\n",
      " '164,108' '163,523' '158,165' '146,324' '136,933' '143,792' '139,146'\n",
      " '139,431' '145,596' '153,238' '157,332' '143,607' '135,335' '134,397'\n",
      " '123,145' '129,445' '108,604' '96,292' '103,732' '72,522' '81,543'\n",
      " '81,820' '79,906' '80,925' '63,365' '57,788' '57,285' '56,204' '64,534'\n",
      " '49,960' '42,822' '40,456' '34,745' '30,034' '26,040' '23,278' '18,473'\n",
      " '14,917' '12,565' '9,312' '8,147' '6,779' '5,328' '4,048' '2,587' '1,862'\n",
      " '1,368' '1,274' '816' '2,010' '4,624,290' '4,624,290' '22,407' '23,224'\n",
      " '25,643' '26,937' '28,657' '32,555' '34,630' '34,239' '34,806' '38,145'\n",
      " '37,047' '37,301' '35,887' '38,470' '40,483' '37,663' '36,666' '40,702'\n",
      " '41,583' '42,989' '48,641' '55,743' '56,172' '61,031' '65,746' '71,621'\n",
      " '77,301' '82,168' '83,544' '84,843' '81,205' '75,158' '72,306' '70,111'\n",
      " '67,259' '67,370' '67,708' '67,520' '73,634' '77,144' '78,087' '77,061'\n",
      " '73,628' '65,370' '68,274' '68,033' '69,996' '76,548' '77,510' '80,247'\n",
      " '84,733' '81,165' '80,890' '77,488' '70,584' '69,159' '70,292' '68,097'\n",
      " '68,783' '71,657' '73,364' '74,246' '68,612' '64,631' '63,654' '57,842'\n",
      " '60,051' '51,032' '45,070' '48,500' '33,754' '37,834' '37,531' '36,780'\n",
      " '36,556' '28,509' '26,150' '25,661' '25,040' '28,904' '21,949' '18,223'\n",
      " '16,844' '14,086' '11,689' '9,686' '8,328' '6,207' '4,822' '3,852'\n",
      " '2,617' '2,121' '1,806' '1,278' '928' '532' '410' '320' '334' '177' '499'\n",
      " '4,896,590' '4,896,590' '21,085' '21,830' '23,675' '25,058' '27,553'\n",
      " '31,202' '33,133' '32,711' '32,938' '36,131' '35,288' '35,431' '34,072'\n",
      " '36,276' '38,333' '35,097' '34,498' '38,404' '39,616' '42,639' '50,581'\n",
      " '60,400' '61,995' '69,140' '76,227' '81,074' '83,166' '85,328' '85,241'\n",
      " '86,432' '82,396' '74,961' '71,483' '70,279' '68,531' '67,439' '67,416'\n",
      " '67,720' '73,089' '78,045' '76,899' '78,363' '76,053' '66,476' '71,058'\n",
      " '68,925' '71,987' '77,309' '80,821' '80,519' '85,953' '82,943' '82,633'\n",
      " '80,677' '75,740' '67,774' '73,500' '71,049' '70,648' '73,939' '79,874'\n",
      " '83,086' '74,995' '70,704' '70,743' '65,303' '69,394' '57,572' '51,222'\n",
      " '55,232' '38,768' '43,709' '44,289' '43,126' '44,369' '34,856' '31,638'\n",
      " '31,624' '31,164' '35,630' '28,011' '24,599' '23,612' '20,659' '18,345'\n",
      " '16,354' '14,950' '12,266' '10,095' '8,713' '6,695' '6,026' '4,973'\n",
      " '4,050' '3,120' '2,055' '1,452' '1,048' '940' '639' '1,511']\n",
      "          0\n",
      "0    43,492\n",
      "1    45,054\n",
      "2    49,318\n",
      "3    51,995\n",
      "4    56,210\n",
      "..      ...\n",
      "302   1,452\n",
      "303   1,048\n",
      "304     940\n",
      "305     639\n",
      "306   1,511\n",
      "\n",
      "[307 rows x 1 columns]\n",
      "<class 'pandas.core.frame.DataFrame'>\n"
     ]
    },
    {
     "ename": "TypeError",
     "evalue": "unhashable type: 'numpy.ndarray'",
     "output_type": "error",
     "traceback": [
      "\u001b[1;31m---------------------------------------------------------------------------\u001b[0m",
      "\u001b[1;31mTypeError\u001b[0m                                 Traceback (most recent call last)",
      "\u001b[1;32mC:\\Users\\Public\\Documents\\ESTsoft\\CreatorTemp/ipykernel_24796/3775242334.py\u001b[0m in \u001b[0;36m<module>\u001b[1;34m\u001b[0m\n\u001b[0;32m     23\u001b[0m \u001b[0mplt\u001b[0m\u001b[1;33m.\u001b[0m\u001b[0mrc\u001b[0m\u001b[1;33m(\u001b[0m\u001b[1;34m'font'\u001b[0m\u001b[1;33m,\u001b[0m\u001b[0mfamily\u001b[0m\u001b[1;33m=\u001b[0m\u001b[1;34m'Malgun Gothic'\u001b[0m\u001b[1;33m)\u001b[0m\u001b[1;33m\u001b[0m\u001b[1;33m\u001b[0m\u001b[0m\n\u001b[0;32m     24\u001b[0m \u001b[0mplt\u001b[0m\u001b[1;33m.\u001b[0m\u001b[0mtitle\u001b[0m\u001b[1;33m(\u001b[0m\u001b[0mname\u001b[0m\u001b[1;33m+\u001b[0m\u001b[1;34m'지역의 인구 구조'\u001b[0m\u001b[1;33m)\u001b[0m\u001b[1;33m\u001b[0m\u001b[1;33m\u001b[0m\u001b[0m\n\u001b[1;32m---> 25\u001b[1;33m \u001b[0mplt\u001b[0m\u001b[1;33m.\u001b[0m\u001b[0mplot\u001b[0m\u001b[1;33m(\u001b[0m\u001b[0mhome_nn\u001b[0m\u001b[1;33m)\u001b[0m\u001b[1;33m\u001b[0m\u001b[1;33m\u001b[0m\u001b[0m\n\u001b[0m\u001b[0;32m     26\u001b[0m \u001b[0mplt\u001b[0m\u001b[1;33m.\u001b[0m\u001b[0mshow\u001b[0m\u001b[1;33m\u001b[0m\u001b[1;33m\u001b[0m\u001b[0m\n",
      "\u001b[1;32m~\\anaconda3\\lib\\site-packages\\matplotlib\\pyplot.py\u001b[0m in \u001b[0;36mplot\u001b[1;34m(scalex, scaley, data, *args, **kwargs)\u001b[0m\n\u001b[0;32m   3017\u001b[0m \u001b[1;33m@\u001b[0m\u001b[0m_copy_docstring_and_deprecators\u001b[0m\u001b[1;33m(\u001b[0m\u001b[0mAxes\u001b[0m\u001b[1;33m.\u001b[0m\u001b[0mplot\u001b[0m\u001b[1;33m)\u001b[0m\u001b[1;33m\u001b[0m\u001b[1;33m\u001b[0m\u001b[0m\n\u001b[0;32m   3018\u001b[0m \u001b[1;32mdef\u001b[0m \u001b[0mplot\u001b[0m\u001b[1;33m(\u001b[0m\u001b[1;33m*\u001b[0m\u001b[0margs\u001b[0m\u001b[1;33m,\u001b[0m \u001b[0mscalex\u001b[0m\u001b[1;33m=\u001b[0m\u001b[1;32mTrue\u001b[0m\u001b[1;33m,\u001b[0m \u001b[0mscaley\u001b[0m\u001b[1;33m=\u001b[0m\u001b[1;32mTrue\u001b[0m\u001b[1;33m,\u001b[0m \u001b[0mdata\u001b[0m\u001b[1;33m=\u001b[0m\u001b[1;32mNone\u001b[0m\u001b[1;33m,\u001b[0m \u001b[1;33m**\u001b[0m\u001b[0mkwargs\u001b[0m\u001b[1;33m)\u001b[0m\u001b[1;33m:\u001b[0m\u001b[1;33m\u001b[0m\u001b[1;33m\u001b[0m\u001b[0m\n\u001b[1;32m-> 3019\u001b[1;33m     return gca().plot(\n\u001b[0m\u001b[0;32m   3020\u001b[0m         \u001b[1;33m*\u001b[0m\u001b[0margs\u001b[0m\u001b[1;33m,\u001b[0m \u001b[0mscalex\u001b[0m\u001b[1;33m=\u001b[0m\u001b[0mscalex\u001b[0m\u001b[1;33m,\u001b[0m \u001b[0mscaley\u001b[0m\u001b[1;33m=\u001b[0m\u001b[0mscaley\u001b[0m\u001b[1;33m,\u001b[0m\u001b[1;33m\u001b[0m\u001b[1;33m\u001b[0m\u001b[0m\n\u001b[0;32m   3021\u001b[0m         **({\"data\": data} if data is not None else {}), **kwargs)\n",
      "\u001b[1;32m~\\anaconda3\\lib\\site-packages\\matplotlib\\axes\\_axes.py\u001b[0m in \u001b[0;36mplot\u001b[1;34m(self, scalex, scaley, data, *args, **kwargs)\u001b[0m\n\u001b[0;32m   1603\u001b[0m         \"\"\"\n\u001b[0;32m   1604\u001b[0m         \u001b[0mkwargs\u001b[0m \u001b[1;33m=\u001b[0m \u001b[0mcbook\u001b[0m\u001b[1;33m.\u001b[0m\u001b[0mnormalize_kwargs\u001b[0m\u001b[1;33m(\u001b[0m\u001b[0mkwargs\u001b[0m\u001b[1;33m,\u001b[0m \u001b[0mmlines\u001b[0m\u001b[1;33m.\u001b[0m\u001b[0mLine2D\u001b[0m\u001b[1;33m)\u001b[0m\u001b[1;33m\u001b[0m\u001b[1;33m\u001b[0m\u001b[0m\n\u001b[1;32m-> 1605\u001b[1;33m         \u001b[0mlines\u001b[0m \u001b[1;33m=\u001b[0m \u001b[1;33m[\u001b[0m\u001b[1;33m*\u001b[0m\u001b[0mself\u001b[0m\u001b[1;33m.\u001b[0m\u001b[0m_get_lines\u001b[0m\u001b[1;33m(\u001b[0m\u001b[1;33m*\u001b[0m\u001b[0margs\u001b[0m\u001b[1;33m,\u001b[0m \u001b[0mdata\u001b[0m\u001b[1;33m=\u001b[0m\u001b[0mdata\u001b[0m\u001b[1;33m,\u001b[0m \u001b[1;33m**\u001b[0m\u001b[0mkwargs\u001b[0m\u001b[1;33m)\u001b[0m\u001b[1;33m]\u001b[0m\u001b[1;33m\u001b[0m\u001b[1;33m\u001b[0m\u001b[0m\n\u001b[0m\u001b[0;32m   1606\u001b[0m         \u001b[1;32mfor\u001b[0m \u001b[0mline\u001b[0m \u001b[1;32min\u001b[0m \u001b[0mlines\u001b[0m\u001b[1;33m:\u001b[0m\u001b[1;33m\u001b[0m\u001b[1;33m\u001b[0m\u001b[0m\n\u001b[0;32m   1607\u001b[0m             \u001b[0mself\u001b[0m\u001b[1;33m.\u001b[0m\u001b[0madd_line\u001b[0m\u001b[1;33m(\u001b[0m\u001b[0mline\u001b[0m\u001b[1;33m)\u001b[0m\u001b[1;33m\u001b[0m\u001b[1;33m\u001b[0m\u001b[0m\n",
      "\u001b[1;32m~\\anaconda3\\lib\\site-packages\\matplotlib\\axes\\_base.py\u001b[0m in \u001b[0;36m__call__\u001b[1;34m(self, data, *args, **kwargs)\u001b[0m\n\u001b[0;32m    313\u001b[0m                 \u001b[0mthis\u001b[0m \u001b[1;33m+=\u001b[0m \u001b[0margs\u001b[0m\u001b[1;33m[\u001b[0m\u001b[1;36m0\u001b[0m\u001b[1;33m]\u001b[0m\u001b[1;33m,\u001b[0m\u001b[1;33m\u001b[0m\u001b[1;33m\u001b[0m\u001b[0m\n\u001b[0;32m    314\u001b[0m                 \u001b[0margs\u001b[0m \u001b[1;33m=\u001b[0m \u001b[0margs\u001b[0m\u001b[1;33m[\u001b[0m\u001b[1;36m1\u001b[0m\u001b[1;33m:\u001b[0m\u001b[1;33m]\u001b[0m\u001b[1;33m\u001b[0m\u001b[1;33m\u001b[0m\u001b[0m\n\u001b[1;32m--> 315\u001b[1;33m             \u001b[1;32myield\u001b[0m \u001b[1;32mfrom\u001b[0m \u001b[0mself\u001b[0m\u001b[1;33m.\u001b[0m\u001b[0m_plot_args\u001b[0m\u001b[1;33m(\u001b[0m\u001b[0mthis\u001b[0m\u001b[1;33m,\u001b[0m \u001b[0mkwargs\u001b[0m\u001b[1;33m)\u001b[0m\u001b[1;33m\u001b[0m\u001b[1;33m\u001b[0m\u001b[0m\n\u001b[0m\u001b[0;32m    316\u001b[0m \u001b[1;33m\u001b[0m\u001b[0m\n\u001b[0;32m    317\u001b[0m     \u001b[1;32mdef\u001b[0m \u001b[0mget_next_color\u001b[0m\u001b[1;33m(\u001b[0m\u001b[0mself\u001b[0m\u001b[1;33m)\u001b[0m\u001b[1;33m:\u001b[0m\u001b[1;33m\u001b[0m\u001b[1;33m\u001b[0m\u001b[0m\n",
      "\u001b[1;32m~\\anaconda3\\lib\\site-packages\\matplotlib\\axes\\_base.py\u001b[0m in \u001b[0;36m_plot_args\u001b[1;34m(self, tup, kwargs, return_kwargs)\u001b[0m\n\u001b[0;32m    496\u001b[0m             \u001b[0mself\u001b[0m\u001b[1;33m.\u001b[0m\u001b[0maxes\u001b[0m\u001b[1;33m.\u001b[0m\u001b[0mxaxis\u001b[0m\u001b[1;33m.\u001b[0m\u001b[0mupdate_units\u001b[0m\u001b[1;33m(\u001b[0m\u001b[0mx\u001b[0m\u001b[1;33m)\u001b[0m\u001b[1;33m\u001b[0m\u001b[1;33m\u001b[0m\u001b[0m\n\u001b[0;32m    497\u001b[0m         \u001b[1;32mif\u001b[0m \u001b[0mself\u001b[0m\u001b[1;33m.\u001b[0m\u001b[0maxes\u001b[0m\u001b[1;33m.\u001b[0m\u001b[0myaxis\u001b[0m \u001b[1;32mis\u001b[0m \u001b[1;32mnot\u001b[0m \u001b[1;32mNone\u001b[0m\u001b[1;33m:\u001b[0m\u001b[1;33m\u001b[0m\u001b[1;33m\u001b[0m\u001b[0m\n\u001b[1;32m--> 498\u001b[1;33m             \u001b[0mself\u001b[0m\u001b[1;33m.\u001b[0m\u001b[0maxes\u001b[0m\u001b[1;33m.\u001b[0m\u001b[0myaxis\u001b[0m\u001b[1;33m.\u001b[0m\u001b[0mupdate_units\u001b[0m\u001b[1;33m(\u001b[0m\u001b[0my\u001b[0m\u001b[1;33m)\u001b[0m\u001b[1;33m\u001b[0m\u001b[1;33m\u001b[0m\u001b[0m\n\u001b[0m\u001b[0;32m    499\u001b[0m \u001b[1;33m\u001b[0m\u001b[0m\n\u001b[0;32m    500\u001b[0m         \u001b[1;32mif\u001b[0m \u001b[0mx\u001b[0m\u001b[1;33m.\u001b[0m\u001b[0mshape\u001b[0m\u001b[1;33m[\u001b[0m\u001b[1;36m0\u001b[0m\u001b[1;33m]\u001b[0m \u001b[1;33m!=\u001b[0m \u001b[0my\u001b[0m\u001b[1;33m.\u001b[0m\u001b[0mshape\u001b[0m\u001b[1;33m[\u001b[0m\u001b[1;36m0\u001b[0m\u001b[1;33m]\u001b[0m\u001b[1;33m:\u001b[0m\u001b[1;33m\u001b[0m\u001b[1;33m\u001b[0m\u001b[0m\n",
      "\u001b[1;32m~\\anaconda3\\lib\\site-packages\\matplotlib\\axis.py\u001b[0m in \u001b[0;36mupdate_units\u001b[1;34m(self, data)\u001b[0m\n\u001b[0;32m   1446\u001b[0m         \u001b[0mneednew\u001b[0m \u001b[1;33m=\u001b[0m \u001b[0mself\u001b[0m\u001b[1;33m.\u001b[0m\u001b[0mconverter\u001b[0m \u001b[1;33m!=\u001b[0m \u001b[0mconverter\u001b[0m\u001b[1;33m\u001b[0m\u001b[1;33m\u001b[0m\u001b[0m\n\u001b[0;32m   1447\u001b[0m         \u001b[0mself\u001b[0m\u001b[1;33m.\u001b[0m\u001b[0mconverter\u001b[0m \u001b[1;33m=\u001b[0m \u001b[0mconverter\u001b[0m\u001b[1;33m\u001b[0m\u001b[1;33m\u001b[0m\u001b[0m\n\u001b[1;32m-> 1448\u001b[1;33m         \u001b[0mdefault\u001b[0m \u001b[1;33m=\u001b[0m \u001b[0mself\u001b[0m\u001b[1;33m.\u001b[0m\u001b[0mconverter\u001b[0m\u001b[1;33m.\u001b[0m\u001b[0mdefault_units\u001b[0m\u001b[1;33m(\u001b[0m\u001b[0mdata\u001b[0m\u001b[1;33m,\u001b[0m \u001b[0mself\u001b[0m\u001b[1;33m)\u001b[0m\u001b[1;33m\u001b[0m\u001b[1;33m\u001b[0m\u001b[0m\n\u001b[0m\u001b[0;32m   1449\u001b[0m         \u001b[1;32mif\u001b[0m \u001b[0mdefault\u001b[0m \u001b[1;32mis\u001b[0m \u001b[1;32mnot\u001b[0m \u001b[1;32mNone\u001b[0m \u001b[1;32mand\u001b[0m \u001b[0mself\u001b[0m\u001b[1;33m.\u001b[0m\u001b[0munits\u001b[0m \u001b[1;32mis\u001b[0m \u001b[1;32mNone\u001b[0m\u001b[1;33m:\u001b[0m\u001b[1;33m\u001b[0m\u001b[1;33m\u001b[0m\u001b[0m\n\u001b[0;32m   1450\u001b[0m             \u001b[0mself\u001b[0m\u001b[1;33m.\u001b[0m\u001b[0mset_units\u001b[0m\u001b[1;33m(\u001b[0m\u001b[0mdefault\u001b[0m\u001b[1;33m)\u001b[0m\u001b[1;33m\u001b[0m\u001b[1;33m\u001b[0m\u001b[0m\n",
      "\u001b[1;32m~\\anaconda3\\lib\\site-packages\\matplotlib\\category.py\u001b[0m in \u001b[0;36mdefault_units\u001b[1;34m(data, axis)\u001b[0m\n\u001b[0;32m    107\u001b[0m         \u001b[1;31m# the conversion call stack is default_units -> axis_info -> convert\u001b[0m\u001b[1;33m\u001b[0m\u001b[1;33m\u001b[0m\u001b[0m\n\u001b[0;32m    108\u001b[0m         \u001b[1;32mif\u001b[0m \u001b[0maxis\u001b[0m\u001b[1;33m.\u001b[0m\u001b[0munits\u001b[0m \u001b[1;32mis\u001b[0m \u001b[1;32mNone\u001b[0m\u001b[1;33m:\u001b[0m\u001b[1;33m\u001b[0m\u001b[1;33m\u001b[0m\u001b[0m\n\u001b[1;32m--> 109\u001b[1;33m             \u001b[0maxis\u001b[0m\u001b[1;33m.\u001b[0m\u001b[0mset_units\u001b[0m\u001b[1;33m(\u001b[0m\u001b[0mUnitData\u001b[0m\u001b[1;33m(\u001b[0m\u001b[0mdata\u001b[0m\u001b[1;33m)\u001b[0m\u001b[1;33m)\u001b[0m\u001b[1;33m\u001b[0m\u001b[1;33m\u001b[0m\u001b[0m\n\u001b[0m\u001b[0;32m    110\u001b[0m         \u001b[1;32melse\u001b[0m\u001b[1;33m:\u001b[0m\u001b[1;33m\u001b[0m\u001b[1;33m\u001b[0m\u001b[0m\n\u001b[0;32m    111\u001b[0m             \u001b[0maxis\u001b[0m\u001b[1;33m.\u001b[0m\u001b[0munits\u001b[0m\u001b[1;33m.\u001b[0m\u001b[0mupdate\u001b[0m\u001b[1;33m(\u001b[0m\u001b[0mdata\u001b[0m\u001b[1;33m)\u001b[0m\u001b[1;33m\u001b[0m\u001b[1;33m\u001b[0m\u001b[0m\n",
      "\u001b[1;32m~\\anaconda3\\lib\\site-packages\\matplotlib\\category.py\u001b[0m in \u001b[0;36m__init__\u001b[1;34m(self, data)\u001b[0m\n\u001b[0;32m    183\u001b[0m         \u001b[0mself\u001b[0m\u001b[1;33m.\u001b[0m\u001b[0m_counter\u001b[0m \u001b[1;33m=\u001b[0m \u001b[0mitertools\u001b[0m\u001b[1;33m.\u001b[0m\u001b[0mcount\u001b[0m\u001b[1;33m(\u001b[0m\u001b[1;33m)\u001b[0m\u001b[1;33m\u001b[0m\u001b[1;33m\u001b[0m\u001b[0m\n\u001b[0;32m    184\u001b[0m         \u001b[1;32mif\u001b[0m \u001b[0mdata\u001b[0m \u001b[1;32mis\u001b[0m \u001b[1;32mnot\u001b[0m \u001b[1;32mNone\u001b[0m\u001b[1;33m:\u001b[0m\u001b[1;33m\u001b[0m\u001b[1;33m\u001b[0m\u001b[0m\n\u001b[1;32m--> 185\u001b[1;33m             \u001b[0mself\u001b[0m\u001b[1;33m.\u001b[0m\u001b[0mupdate\u001b[0m\u001b[1;33m(\u001b[0m\u001b[0mdata\u001b[0m\u001b[1;33m)\u001b[0m\u001b[1;33m\u001b[0m\u001b[1;33m\u001b[0m\u001b[0m\n\u001b[0m\u001b[0;32m    186\u001b[0m \u001b[1;33m\u001b[0m\u001b[0m\n\u001b[0;32m    187\u001b[0m     \u001b[1;33m@\u001b[0m\u001b[0mstaticmethod\u001b[0m\u001b[1;33m\u001b[0m\u001b[1;33m\u001b[0m\u001b[0m\n",
      "\u001b[1;32m~\\anaconda3\\lib\\site-packages\\matplotlib\\category.py\u001b[0m in \u001b[0;36mupdate\u001b[1;34m(self, data)\u001b[0m\n\u001b[0;32m    216\u001b[0m         \u001b[1;31m# check if convertible to number:\u001b[0m\u001b[1;33m\u001b[0m\u001b[1;33m\u001b[0m\u001b[0m\n\u001b[0;32m    217\u001b[0m         \u001b[0mconvertible\u001b[0m \u001b[1;33m=\u001b[0m \u001b[1;32mTrue\u001b[0m\u001b[1;33m\u001b[0m\u001b[1;33m\u001b[0m\u001b[0m\n\u001b[1;32m--> 218\u001b[1;33m         \u001b[1;32mfor\u001b[0m \u001b[0mval\u001b[0m \u001b[1;32min\u001b[0m \u001b[0mOrderedDict\u001b[0m\u001b[1;33m.\u001b[0m\u001b[0mfromkeys\u001b[0m\u001b[1;33m(\u001b[0m\u001b[0mdata\u001b[0m\u001b[1;33m)\u001b[0m\u001b[1;33m:\u001b[0m\u001b[1;33m\u001b[0m\u001b[1;33m\u001b[0m\u001b[0m\n\u001b[0m\u001b[0;32m    219\u001b[0m             \u001b[1;31m# OrderedDict just iterates over unique values in data.\u001b[0m\u001b[1;33m\u001b[0m\u001b[1;33m\u001b[0m\u001b[0m\n\u001b[0;32m    220\u001b[0m             \u001b[0m_api\u001b[0m\u001b[1;33m.\u001b[0m\u001b[0mcheck_isinstance\u001b[0m\u001b[1;33m(\u001b[0m\u001b[1;33m(\u001b[0m\u001b[0mstr\u001b[0m\u001b[1;33m,\u001b[0m \u001b[0mbytes\u001b[0m\u001b[1;33m)\u001b[0m\u001b[1;33m,\u001b[0m \u001b[0mvalue\u001b[0m\u001b[1;33m=\u001b[0m\u001b[0mval\u001b[0m\u001b[1;33m)\u001b[0m\u001b[1;33m\u001b[0m\u001b[1;33m\u001b[0m\u001b[0m\n",
      "\u001b[1;31mTypeError\u001b[0m: unhashable type: 'numpy.ndarray'"
     ]
    },
    {
     "data": {
      "image/png": "[encoded data removed]",
      "text/plain": [
       "<Figure size 432x288 with 1 Axes>"
      ]
     },
     "metadata": {
      "needs_background": "light"
     },
     "output_type": "display_data"
    }
   ],
   "source": [
    "import numpy as np\n",
    "import csv\n",
    "\n",
    "f = open(\"C:/Users/jhjh3/Desktop/jicode/data/age.csv\",encoding='utf-8')\n",
    "data_n=csv.reader(f)\n",
    "next(data_n)\n",
    "# home=[]\n",
    "name=input('인구 구조가 알고 싶은 지역의 이름(읍면동 단위)을 입력해 주세요 :')\n",
    "for row in data_n:\n",
    "    if name in row[0] :\n",
    "        home_n = np.array(row[3:], dtype = str)\n",
    "\n",
    "print(home_n)\n",
    "\n",
    "import pandas as pd\n",
    "from pandas import Series, DataFrame\n",
    "\n",
    "home_nn=DataFrame(home_n)\n",
    "print(home_nn)\n",
    "print(type(home_nn))\n",
    "\n",
    "import matplotlib.pyplot as plt\n",
    "plt.rc('font',family='Malgun Gothic')\n",
    "plt.title(name+'지역의 인구 구조')\n",
    "plt.plot(home_nn)\n",
    "plt.show"
   ]
  },
  {
   "cell_type": "code",
   "execution_count": 91,
   "id": "1b9d76a1",
   "metadata": {},
   "outputs": [
    {
     "data": {
      "text/plain": [
       "<function matplotlib.pyplot.show(close=None, block=None)>"
      ]
     },
     "execution_count": 91,
     "metadata": {},
     "output_type": "execute_result"
    },
    {
     "data": {
      "image/png": "[encoded data removed]",
      "text/plain": [
       "<Figure size 432x288 with 1 Axes>"
      ]
     },
     "metadata": {
      "needs_background": "light"
     },
     "output_type": "display_data"
    }
   ],
   "source": [
    "import matplotlib.pyplot as plt\n",
    "plt.rc('font',family='Malgun Gothic')\n",
    "plt.title(name+'지역의 인구 구조')\n",
    "plt.plot(home_n)\n",
    "plt.show"
   ]
  },
  {
   "cell_type": "code",
   "execution_count": 87,
   "id": "bb170e06",
   "metadata": {},
   "outputs": [
    {
     "name": "stdout",
     "output_type": "stream",
     "text": [
      "인구 구조가 알고 싶은 지역의 이름을 입력하시오.서울특별시\n"
     ]
    },
    {
     "ename": "ValueError",
     "evalue": "invalid literal for int() with base 10: '43,492'",
     "output_type": "error",
     "traceback": [
      "\u001b[1;31m---------------------------------------------------------------------------\u001b[0m",
      "\u001b[1;31mValueError\u001b[0m                                Traceback (most recent call last)",
      "\u001b[1;32mC:\\Users\\Public\\Documents\\ESTsoft\\CreatorTemp/ipykernel_24796/2528828389.py\u001b[0m in \u001b[0;36m<module>\u001b[1;34m\u001b[0m\n\u001b[0;32m     15\u001b[0m \u001b[1;32mfor\u001b[0m \u001b[0mrow\u001b[0m \u001b[1;32min\u001b[0m \u001b[0mdata\u001b[0m \u001b[1;33m:\u001b[0m\u001b[1;33m\u001b[0m\u001b[1;33m\u001b[0m\u001b[0m\n\u001b[0;32m     16\u001b[0m     \u001b[1;32mif\u001b[0m \u001b[0mname\u001b[0m \u001b[1;32min\u001b[0m \u001b[0mrow\u001b[0m\u001b[1;33m[\u001b[0m\u001b[1;36m0\u001b[0m\u001b[1;33m]\u001b[0m\u001b[1;33m:\u001b[0m\u001b[1;33m\u001b[0m\u001b[1;33m\u001b[0m\u001b[0m\n\u001b[1;32m---> 17\u001b[1;33m         \u001b[0mhome\u001b[0m \u001b[1;33m=\u001b[0m \u001b[0mnp\u001b[0m\u001b[1;33m.\u001b[0m\u001b[0marray\u001b[0m\u001b[1;33m(\u001b[0m\u001b[0mrow\u001b[0m\u001b[1;33m[\u001b[0m\u001b[1;36m3\u001b[0m\u001b[1;33m:\u001b[0m\u001b[1;33m]\u001b[0m\u001b[1;33m,\u001b[0m \u001b[0mdtype\u001b[0m\u001b[1;33m=\u001b[0m\u001b[0mint\u001b[0m\u001b[1;33m)\u001b[0m\u001b[1;33m/\u001b[0m\u001b[0mint\u001b[0m\u001b[1;33m(\u001b[0m\u001b[0mrow\u001b[0m\u001b[1;33m[\u001b[0m\u001b[1;36m2\u001b[0m\u001b[1;33m]\u001b[0m\u001b[1;33m)\u001b[0m\u001b[1;33m\u001b[0m\u001b[1;33m\u001b[0m\u001b[0m\n\u001b[0m\u001b[0;32m     18\u001b[0m \u001b[1;33m\u001b[0m\u001b[0m\n\u001b[0;32m     19\u001b[0m \u001b[1;33m\u001b[0m\u001b[0m\n",
      "\u001b[1;31mValueError\u001b[0m: invalid literal for int() with base 10: '43,492'"
     ]
    }
   ],
   "source": [
    "import numpy as np\n",
    "import csv\n",
    "\n",
    "f = open(\"C:/Users/jhjh3/Desktop/jicode/data/age.csv\",encoding='utf-8')\n",
    "data= csv.reader(f)\n",
    "next(data)\n",
    "data= list(data)\n",
    "\n",
    "name = input('인구 구조가 알고 싶은 지역의 이름을 입력하시오.')\n",
    "mn = 1\n",
    "result_name =''\n",
    "result=0\n",
    "\n",
    "\n",
    "for row in data :\n",
    "    if name in row[0]:\n",
    "        home = np.array(row[3:], dtype=int)/int(row[2])\n",
    "\n",
    "\n",
    "for row in data :\n",
    "    away = np.array(row[3:], dtype=int)/row[2]\n",
    "    s = np.sum((home-away)**2)\n",
    "    if s < mn and name not in row[0] :\n",
    "        mn = s\n",
    "        result_name = row[0]\n",
    "        result = away\n",
    "\n",
    "        \n",
    "import mapplotlib.pyplot as plt\n",
    "plt.style.use('ggplot')\n",
    "plt.figure(figsize=(10,5),dpi=300)\n",
    "plt.rc('font', family='Malgun Gpthic')\n",
    "plt.title(name+'지역과 가장 비슷한 인구 구조를 가진 지역')\n",
    "plt.plot(home, label=name)\n",
    "plt.plot(result, label=result_name)\n",
    "plt.legend()\n",
    "plt.show()\n",
    "\n",
    "\n",
    "\n"
   ]
  },
  {
   "cell_type": "code",
   "execution_count": null,
   "id": "8c966453",
   "metadata": {},
   "outputs": [],
   "source": []
  }
 ],
 "metadata": {
  "kernelspec": {
   "display_name": "Python 3 (ipykernel)",
   "language": "python",
   "name": "python3"
  },
  "language_info": {
   "codemirror_mode": {
    "name": "ipython",
    "version": 3
   },
   "file_extension": ".py",
   "mimetype": "text/x-python",
   "name": "python",
   "nbconvert_exporter": "python",
   "pygments_lexer": "ipython3",
   "version": "3.9.7"
  }
 },
 "nbformat": 4,
 "nbformat_minor": 5
}
