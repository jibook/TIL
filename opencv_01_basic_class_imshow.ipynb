{
 "cells": [
  {
   "cell_type": "code",
   "execution_count": 1,
   "id": "508f0f07",
   "metadata": {},
   "outputs": [],
   "source": [
    "import cv2\n",
    "import numpy as np\n",
    "import sys"
   ]
  },
  {
   "cell_type": "code",
   "execution_count": 11,
   "id": "900f5f53",
   "metadata": {},
   "outputs": [
    {
     "name": "stdout",
     "output_type": "stream",
     "text": [
      "img type =  <class 'numpy.ndarray'>\n",
      "img dimension =  (480, 640)\n",
      "data type =  uint8\n",
      "img1 type =  <class 'numpy.ndarray'>\n",
      "img1 dimension =  (853, 1280, 3)\n",
      "data1 type =  uint8\n"
     ]
    }
   ],
   "source": [
    "img = cv2.imread('./fig/puppy.bmp', cv2.IMREAD_GRAYSCALE)\n",
    "img1 = cv2.imread('./fig/puppy_1280_853.jpg', cv2.IMREAD_COLOR)\n",
    "\n",
    "if img is None or img1 is None:\n",
    "    print('image read failed')\n",
    "    sys.exit()\n",
    "    \n",
    "print('img type = ', type(img))\n",
    "print('img dimension = ', img.shape)\n",
    "print('data type = ', img.dtype)\n",
    "\n",
    "print('img1 type = ', type(img1))\n",
    "print('img1 dimension = ', img1.shape)\n",
    "print('data1 type = ', img1.dtype)\n",
    "\n",
    "cv2.imshow('image', img)\n",
    "cv2.imshow('image1', img1)\n",
    "\n",
    "cv2.waitKey()\n",
    "cv2.destroyAllWindows()\n"
   ]
  },
  {
   "cell_type": "code",
   "execution_count": 12,
   "id": "dc00f61e",
   "metadata": {},
   "outputs": [
    {
     "name": "stdout",
     "output_type": "stream",
     "text": [
      "img dimension =  (480, 640)\n",
      "img size = 640 * 480\n"
     ]
    }
   ],
   "source": [
    "img = cv2.imread('./fig/puppy.bmp', cv2.IMREAD_GRAYSCALE)\n",
    "# img1 = cv2.imread('./fig/puppy_1280_853.jpg', cv2.IMREAD_COLOR)\n",
    "\n",
    "if img is None or img1 is None:\n",
    "    print('image read failed')\n",
    "    sys.exit()\n",
    "    \n",
    "print('img dimension = ', img.shape)\n",
    "# print('img1 dimension = ', img1.shape)\n",
    "\n",
    "h, w = img.shape[:2]\n",
    "print('img size = {} * {}'.format(w, h))\n",
    "\n",
    "cv2.imshow('image', img)\n",
    "# cv2.imshow('image1', img1)\n",
    "\n",
    "cv2.waitKey()\n",
    "cv2.destroyAllWindows()"
   ]
  },
  {
   "cell_type": "markdown",
   "id": "4c8c549a",
   "metadata": {},
   "source": [
    "### 픽셀값 참고"
   ]
  },
  {
   "cell_type": "code",
   "execution_count": 17,
   "id": "23708024",
   "metadata": {},
   "outputs": [
    {
     "name": "stdout",
     "output_type": "stream",
     "text": [
      "color center =  [ 0 14 40]\n",
      "gray center =  20\n"
     ]
    }
   ],
   "source": [
    "import cv2\n",
    "import numpy as np\n",
    "import sys\n",
    "\n",
    "img1 = cv2.imread('./fig/puppy.bmp', 1)\n",
    "img2 = cv2.imread('./fig/puppy.bmp', 0)\n",
    "\n",
    "if img1 is None or img2 is None:\n",
    "    print('image read failed')\n",
    "    sys.exit\n",
    "    \n",
    "h, w = img1.shape[:2]\n",
    "\n",
    "img1_center = img1[h//2, w//2]\n",
    "print('color center = ', img1_center)    \n",
    "    \n",
    "img2_center = img2[h//2, w//2]\n",
    "print('gray center = ', img2_center)  \n",
    "    \n",
    "cv2.imshow('img1', img1)\n",
    "cv2.imshow('img2', img2)\n",
    "\n",
    "cv2.waitKey()\n",
    "cv2.destroyAllWindows()"
   ]
  },
  {
   "cell_type": "code",
   "execution_count": 22,
   "id": "63af3211",
   "metadata": {},
   "outputs": [
    {
     "name": "stdout",
     "output_type": "stream",
     "text": [
      "color center =  [194 198 209]\n",
      "gray center =  201\n"
     ]
    }
   ],
   "source": [
    "import cv2\n",
    "import numpy as np\n",
    "import sys\n",
    "\n",
    "img1 = cv2.imread('./fig/puppy.bmp', 1)\n",
    "img2 = cv2.imread('./fig/puppy.bmp', 0)\n",
    "\n",
    "if img1 is None or img2 is None:\n",
    "    print('image read failed')\n",
    "    sys.exit\n",
    "    \n",
    "# h, w = img1.shape[:2]\n",
    "x = 120\n",
    "y = 320\n",
    "\n",
    "img1_center = img1[y, x]\n",
    "print('color center = ', img1_center)    \n",
    "    \n",
    "img2_center = img2[y, x]\n",
    "print('gray center = ', img2_center)  \n",
    "    \n",
    "cv2.imshow('img1', img1)\n",
    "cv2.imshow('img2', img2)\n",
    "\n",
    "cv2.waitKey()\n",
    "cv2.destroyAllWindows()"
   ]
  },
  {
   "cell_type": "code",
   "execution_count": 30,
   "id": "d1e13eae",
   "metadata": {},
   "outputs": [],
   "source": [
    "import cv2\n",
    "import numpy as np\n",
    "import sys\n",
    "\n",
    "img1 = cv2.imread('./fig/puppy.bmp', 1)\n",
    "img2 = cv2.imread('./fig/puppy.bmp', 0)\n",
    "\n",
    "if img1 is None or img2 is None:\n",
    "    print('image read failed')\n",
    "    sys.exit\n",
    "    \n",
    "# img1[10:110, 100:200] = [0, 0, 255] # BGR\n",
    "img1[10:110, 100:200] = (0, 255, 0) # BGR\n",
    "img2[10:110, 100:200] = 128\n",
    "\n",
    "cv2.imshow('img1', img1)\n",
    "cv2.imshow('img2', img2)\n",
    "\n",
    "cv2.waitKey()\n",
    "cv2.destroyAllWindows()"
   ]
  },
  {
   "cell_type": "code",
   "execution_count": 46,
   "id": "af828b8d",
   "metadata": {},
   "outputs": [],
   "source": [
    "import cv2\n",
    "import numpy as np\n",
    "import sys \n",
    "\n",
    "img1 = np.zeros((240, 320, 3), dtype = np.uint8)\n",
    "img2 = np.ones((400, 600, 3), dtype = np.uint8)*255\n",
    "img3 = np.full((240, 320, 3), 255, dtype = np.uint8)\n",
    "img4 = np.random.randint(0, 255, size = (240, 320), dtype = np.uint8)\n",
    "\n",
    "img1[10:60, 10:60] = (0, 0, 255)\n",
    "# img2[10:60, 10:60] = 255\n",
    "\n",
    "cv2.imshow('img1', img1)\n",
    "cv2.imshow('img2', img2)\n",
    "cv2.imshow('img3', img3)\n",
    "cv2.imshow('img4', img4)\n",
    "\n",
    "cv2.waitKey()\n",
    "cv2.destroyAllWindows()"
   ]
  },
  {
   "cell_type": "markdown",
   "id": "bed4d97b",
   "metadata": {},
   "source": [
    "### 영상복사"
   ]
  },
  {
   "cell_type": "code",
   "execution_count": 52,
   "id": "73ce5398",
   "metadata": {},
   "outputs": [],
   "source": [
    "img = cv2.imread('./fig/cat.bmp')\n",
    "\n",
    "if img is None:\n",
    "    print('image read failed')\n",
    "    sys.exit\n",
    "    \n",
    "img1 = img\n",
    "img2 = img.copy()\n",
    "\n",
    "# img[100:200, 200:300] = (0, 0, 255)\n",
    "img1[100:200, 200:300] = (0, 255, 255)\n",
    "\n",
    "cv2.imshow('image', img)\n",
    "cv2.imshow('image1', img1)\n",
    "cv2.imshow('image2', img2)\n",
    "\n",
    "while True:\n",
    "    if cv2. waitKey(20) == 27:\n",
    "        break\n",
    "\n",
    "cv2.destroyAllWindows()"
   ]
  },
  {
   "cell_type": "code",
   "execution_count": 55,
   "id": "5deddc97",
   "metadata": {},
   "outputs": [],
   "source": [
    "image = np.ones((400, 400, 3), dtype = np.uint8)*255\n",
    "\n",
    "img1 = image.copy()\n",
    "\n",
    "# circle(img, center, radius, color[, thickness[, lineType[, shift]]]) -> img\n",
    "cv2.circle(image, (100, 200), 100, (0, 0, 255), 3, cv2.LINE_AA)\n",
    "\n",
    "cv2.imshow('image', image)\n",
    "\n",
    "cv2.waitKey()\n",
    "cv2.destroyAllWindows()"
   ]
  },
  {
   "cell_type": "code",
   "execution_count": 2,
   "id": "07142d62",
   "metadata": {},
   "outputs": [],
   "source": [
    "img1 = cv2.imread('./fig/puppy.bmp')\n",
    "if img1 is None:\n",
    "    print('image read failed')\n",
    "    sys.exit\n",
    "\n",
    "\n",
    "cv2.circle(img1, (410, 290), 50, (0, 0, 255), 3, cv2.LINE_AA)\n",
    "cv2.imshow('img1', img1)\n",
    "\n",
    "cv2.waitKey()\n",
    "cv2.destroyAllWindows()"
   ]
  },
  {
   "cell_type": "code",
   "execution_count": 3,
   "id": "c7d4baa7",
   "metadata": {},
   "outputs": [],
   "source": [
    "img1 = cv2.imread('./fig/puppy.bmp')\n",
    "if img1 is None:\n",
    "    print('image read failed')\n",
    "    sys.exit\n",
    "    \n",
    "img2 = img1[200:400, 300:500]\n",
    "\n",
    "cv2.imshow('img2', img2)\n",
    "\n",
    "\n",
    "cv2.waitKey()\n",
    "cv2.destroyAllWindows()"
   ]
  },
  {
   "cell_type": "code",
   "execution_count": 2,
   "id": "42970529",
   "metadata": {},
   "outputs": [],
   "source": [
    "import cv2\n",
    "import numpy as np\n",
    "import sys"
   ]
  },
  {
   "cell_type": "code",
   "execution_count": 6,
   "id": "de7342a7",
   "metadata": {},
   "outputs": [],
   "source": [
    "img1 = cv2.imread('./fig/puppy.bmp')\n",
    "\n",
    "if img1 is None:\n",
    "    print('image read failed')\n",
    "    sys.exit\n",
    "    \n",
    "img2 = img1[200:400, 300:500]\n",
    "img3 = img1[200:400, 300:500].copy()   \n",
    "\n",
    "\n",
    "cv2.circle(img2, (110, 90), 50, (0, 0, 255), -1)\n",
    "\n",
    "cv2.imshow('img1', img1)\n",
    "cv2.imshow('img2', img2)\n",
    "cv2.imshow('img3', img3)\n",
    "\n",
    "cv2.waitKey()\n",
    "cv2.destroyAllWindows()"
   ]
  },
  {
   "cell_type": "markdown",
   "id": "245f42fb",
   "metadata": {},
   "source": [
    "### copyTo"
   ]
  },
  {
   "cell_type": "code",
   "execution_count": 34,
   "id": "53c52ebb",
   "metadata": {},
   "outputs": [],
   "source": [
    "src = cv2.imread('./fig/airplane.bmp', cv2.IMREAD_COLOR)\n",
    "mask = cv2.imread('./fig/mask_plane.bmp', cv2.IMREAD_GRAYSCALE)\n",
    "dst = cv2.imread('./fig/field.bmp', cv2.IMREAD_COLOR)\n",
    "\n",
    "if src is None or mask is None or dst is None:\n",
    "    print('image read failed')\n",
    "    sys.exit()\n",
    "    \n",
    "# copyTo(src, mask[, dst = None]) -> dst\n",
    "# dst = cv2.copyTo(src,  mask)\n",
    "cv2.copyTo(src, mask, dst)\n",
    "\n",
    "\n",
    "cv2.imshow('src', src)    \n",
    "cv2.imshow('mask', mask)    \n",
    "cv2.imshow('dst', dst)\n",
    "\n",
    "cv2.waitKey()\n",
    "cv2.destroyAllWindows()"
   ]
  },
  {
   "cell_type": "code",
   "execution_count": 60,
   "id": "4bc29c71",
   "metadata": {},
   "outputs": [],
   "source": [
    "src = cv2.imread('./fig/airplane.bmp', cv2.IMREAD_COLOR)\n",
    "src_gray = cv2.cvtColor(src, cv2.COLOR_BGR2GRAY)\n",
    "\n",
    "# threshold(src, thresh, maxval, type[, dst]) -> retval, dst\n",
    "ret, mask = cv2.threshold(src_gray, 160, 255, cv2.THRESH_BINARY_INV)\n",
    "\n",
    "\n",
    "cv2.imshow('src', src)\n",
    "cv2.imshow('src_gray', src_gray)\n",
    "cv2.imshow('mask', mask)\n",
    "\n",
    "cv2.waitKey()\n",
    "cv2.destroyAllWindows()"
   ]
  },
  {
   "cell_type": "code",
   "execution_count": 171,
   "id": "f2b4d778",
   "metadata": {},
   "outputs": [],
   "source": [
    "img2 = cv2.imread('./fig/green.png')\n",
    "img1 = cv2.imread('./fig/cow.png', cv2.IMREAD_REDUCED_COLOR_2)\n",
    "img1_gray = cv2.cvtColor(img1, cv2.COLOR_BGR2GRAY)\n",
    "\n",
    "h, w = img1.shape[:2]\n",
    "img2 = cv2.resize(img2, (w, h), interpolation = cv2.INTER_AREA)\n",
    "\n",
    "ret, mask = cv2.threshold(img1_gray, 240,255, cv2.THRESH_BINARY_INV)\n",
    "\n",
    "cv2.copyTo(img1, mask, img2)\n",
    "\n",
    "cv2.imshow('img1', img1)\n",
    "cv2.imshow('img2', img2)\n",
    "cv2.imshow('mask', mask)\n",
    "# cv2.imshow('cow', cow)\n",
    "\n",
    "cv2.waitKey()\n",
    "cv2.destroyAllWindows()"
   ]
  },
  {
   "cell_type": "code",
   "execution_count": 78,
   "id": "48509663",
   "metadata": {},
   "outputs": [
    {
     "ename": "NameError",
     "evalue": "name 'c' is not defined",
     "output_type": "error",
     "traceback": [
      "\u001b[1;31m---------------------------------------------------------------------------\u001b[0m",
      "\u001b[1;31mNameError\u001b[0m                                 Traceback (most recent call last)",
      "\u001b[1;32mC:\\Users\\Public\\Documents\\ESTsoft\\CreatorTemp/ipykernel_320/124502261.py\u001b[0m in \u001b[0;36m<module>\u001b[1;34m\u001b[0m\n\u001b[1;32m----> 1\u001b[1;33m \u001b[0mimg1\u001b[0m \u001b[1;33m=\u001b[0m \u001b[0mcv2\u001b[0m\u001b[1;33m.\u001b[0m\u001b[0mimread\u001b[0m\u001b[1;33m(\u001b[0m\u001b[1;34m'../Ch_1_Opencv_Intro/fig/hotdog.jpg'\u001b[0m\u001b[1;33m,\u001b[0m \u001b[0mc\u001b[0m\u001b[1;33m)\u001b[0m\u001b[1;33m\u001b[0m\u001b[1;33m\u001b[0m\u001b[0m\n\u001b[0m\u001b[0;32m      2\u001b[0m \u001b[0mimg2\u001b[0m \u001b[1;33m=\u001b[0m \u001b[0mcv2\u001b[0m\u001b[1;33m.\u001b[0m\u001b[0mimread\u001b[0m\u001b[1;33m(\u001b[0m\u001b[1;34m'./fig/asdf.png'\u001b[0m\u001b[1;33m)\u001b[0m\u001b[1;33m\u001b[0m\u001b[1;33m\u001b[0m\u001b[0m\n\u001b[0;32m      3\u001b[0m \u001b[0mimg1_gray\u001b[0m \u001b[1;33m=\u001b[0m \u001b[0mcv2\u001b[0m\u001b[1;33m.\u001b[0m\u001b[0mcvtColor\u001b[0m\u001b[1;33m(\u001b[0m\u001b[0mimg1\u001b[0m\u001b[1;33m,\u001b[0m \u001b[0mcv2\u001b[0m\u001b[1;33m.\u001b[0m\u001b[0mCOLOR_BGR2GRAY\u001b[0m\u001b[1;33m)\u001b[0m\u001b[1;33m\u001b[0m\u001b[1;33m\u001b[0m\u001b[0m\n\u001b[0;32m      4\u001b[0m \u001b[1;33m\u001b[0m\u001b[0m\n\u001b[0;32m      5\u001b[0m \u001b[0mx\u001b[0m \u001b[1;33m=\u001b[0m \u001b[1;36m230\u001b[0m\u001b[1;33m\u001b[0m\u001b[1;33m\u001b[0m\u001b[0m\n",
      "\u001b[1;31mNameError\u001b[0m: name 'c' is not defined"
     ]
    }
   ],
   "source": [
    "img1 = cv2.imread('../Ch_1_Opencv_Intro/fig/hotdog.jpg', c)\n",
    "img2 = cv2.imread('./fig/asdf.png')\n",
    "img1_gray = cv2.cvtColor(img1, cv2.COLOR_BGR2GRAY)\n",
    "\n",
    "x = 230\n",
    "y = 320\n",
    "\n",
    "p1 =img1[y,x]\n",
    "p2 =img1[x,y]\n",
    "\n",
    "h,w =  p1.shape[:2]\n",
    "p2 =  cv2.resize(p2, (w, h), interpolation = cv2.INTER_AREA)\n",
    "\n",
    "ret, mask = cv2.threshold(img1_gray, 100, 255, cv2.THRESH_BINARY_INV)\n",
    "\n",
    "\n",
    "\n",
    "cv2.imshow('img1', img1)\n",
    "cv2.imshow('img2', img2)\n",
    "cv2.imshow('mask', mask)\n",
    "\n",
    "cv2.waitKey()\n",
    "cv2.destroyAllWindows()"
   ]
  },
  {
   "cell_type": "code",
   "execution_count": 73,
   "id": "65729afe",
   "metadata": {},
   "outputs": [],
   "source": [
    "p1 = cv2.imread('../Ch_1_Opencv_Intro/fig/hotdog.jpg',cv2.IMREAD_REDUCED_COLOR_2)\n",
    "p2 = cv2.imread('./fig/asdf.png')\n",
    "p1_gray = cv2.cvtColor(p1, cv2.COLOR_BGR2GRAY)\n",
    "\n",
    "x = 230\n",
    "y = 320\n",
    "\n",
    "img1 = p1[y,x]\n",
    "img2 = p2[x,y]\n",
    "\n",
    "# h,w =  img1.shape[:2]\n",
    "img2 =  cv2.resize(img2, (w, h), interpolation = cv2.INTER_AREA)\n",
    "\n",
    "ret, mask = cv2.threshold(img1_gray, 200, 255, cv2.THRESH_BINARY_INV)\n",
    "\n",
    "\n",
    "\n",
    "cv2.imshow('img1', img1)\n",
    "cv2.imshow('img2', img2)\n",
    "cv2.imshow('mask', mask)\n",
    "\n",
    "cv2.waitKey()\n",
    "cv2.destroyAllWindows()"
   ]
  },
  {
   "cell_type": "code",
   "execution_count": 145,
   "id": "b617f1ff",
   "metadata": {},
   "outputs": [
    {
     "name": "stdout",
     "output_type": "stream",
     "text": [
      "(504, 378, 3)\n",
      "(372, 660, 3)\n"
     ]
    }
   ],
   "source": [
    "img1 = cv2.imread('../Ch_1_Opencv_Intro/fig/hotdog.jpg', cv2.IMREAD_REDUCED_COLOR_8)\n",
    "img2 = cv2.imread('./fig/asdf.png')\n",
    "\n",
    "img1_gray = cv2.cvtColor(img1, cv2.COLOR_BGR2GRAY)\n",
    "img3 = img1_gray[150:350, 100:300]\n",
    "\n",
    "print(img1.shape)\n",
    "print(img2.shape)\n",
    "\n",
    "h, w = img1.shape[:2]\n",
    "\n",
    "img2 = cv2.resize(img2, (w, h), cv2.INTER_AREA)\n",
    "ret, mask = cv2.threshold(img3, 150, 255, cv2.THRESH_BINARY_INV)\n",
    "\n",
    "cv2.copyTo(img3, mask, img2)\n",
    "\n",
    "# cv2.imshow('img1', img1)\n",
    "cv2.imshow('img2', img2)\n",
    "cv2.imshow('mask', mask)\n",
    "\n",
    "\n",
    "cv2.waitKey()\n",
    "cv2.destroyAllWindows()"
   ]
  },
  {
   "cell_type": "code",
   "execution_count": 136,
   "id": "7aea4f1d",
   "metadata": {},
   "outputs": [],
   "source": [
    "img1 = cv2.imread('./fig/hotdog.png')\n",
    "\n",
    "cv2.imshow('img1', img1)\n",
    "\n",
    "\n",
    "cv2.waitKey()\n",
    "cv2.destroyAllWindows()"
   ]
  },
  {
   "cell_type": "code",
   "execution_count": 178,
   "id": "91f33a55",
   "metadata": {},
   "outputs": [
    {
     "name": "stdout",
     "output_type": "stream",
     "text": [
      "(188, 150, 3)\n",
      "(361, 540, 3)\n"
     ]
    }
   ],
   "source": [
    "img1 = cv2.imread('./fig/hot.png', cv2.IMREAD_REDUCED_COLOR_8)\n",
    "img2 = cv2.imread('./fig/ha.png')\n",
    "img1_gray = cv2.cvtColor(img1, cv2.COLOR_BGR2GRAY)\n",
    "\n",
    "print(img1.shape)\n",
    "print(img2.shape)\n",
    "\n",
    "h, w = img1.shape[:2]\n",
    "\n",
    "# img2 = cv2.resize(img2, (w, h), cv2.INTER_AREA)\n",
    "ret, mask = cv2.threshold(img1_gray, 200, 255, cv2.THRESH_BINARY_INV)\n",
    "\n",
    "cv2.copyTo(img1, mask, img2)\n",
    "\n",
    "cv2.imshow('img1', img1)\n",
    "cv2.imshow('img2', img2)\n",
    "cv2.imshow('mask', mask)\n",
    "\n",
    "\n",
    "cv2.waitKey()\n",
    "cv2.destroyAllWindows()"
   ]
  },
  {
   "cell_type": "code",
   "execution_count": 192,
   "id": "b0e641ab",
   "metadata": {},
   "outputs": [
    {
     "name": "stdout",
     "output_type": "stream",
     "text": [
      "(1500, 1200, 3)\n",
      "(361, 540, 3)\n"
     ]
    }
   ],
   "source": [
    "img1 = cv2.imread('./fig/hot.png')\n",
    "img2 = cv2.imread('./fig/ha.png')\n",
    "img1_gray = cv2.cvtColor(img1, cv2.COLOR_BGR2GRAY)\n",
    "\n",
    "print(img1.shape)\n",
    "print(img2.shape)\n",
    "\n",
    "h, w = img1.shape[:2]\n",
    "\n",
    "img2 = cv2.resize(img2, (w, h), cv2.INTER_AREA)\n",
    "ret, mask = cv2.threshold(img1_gray, 244, 255, cv2.THRESH_BINARY_INV)\n",
    "\n",
    "cv2.copyTo(img1, mask, img2)\n",
    "\n",
    "cv2.imshow('img1', img1)\n",
    "cv2.imshow('img2', img2)\n",
    "cv2.imshow('img1_gray', img1_gray)\n",
    "cv2.imshow('mask', mask)\n",
    "\n",
    "\n",
    "cv2.waitKey()\n",
    "cv2.destroyAllWindows()"
   ]
  },
  {
   "cell_type": "code",
   "execution_count": 195,
   "id": "8a1e000c",
   "metadata": {},
   "outputs": [
    {
     "name": "stdout",
     "output_type": "stream",
     "text": [
      "(1500, 1200, 3)\n",
      "(361, 540, 3)\n"
     ]
    }
   ],
   "source": [
    "img2 = cv2.imread('./fig/ha.png')\n",
    "img1 = cv2.imread('./fig/hot.png')\n",
    "#img1 = img1[10:150, 20:80]\n",
    "img1_gray = cv2.cvtColor(img1, cv2.COLOR_BGR2GRAY)\n",
    "\n",
    "h, w = img2.shape[:2]\n",
    "#img1 = cv2.resize(img1, (w, h), interpolation = cv2.INTER_AREA)\n",
    "\n",
    "\n",
    "ret, mask = cv2.threshold(img1_gray, 190,255, cv2.THRESH_BINARY_INV)\n",
    "\n",
    "cv2.copyTo(img1, mask, img2)\n",
    "\n",
    "cv2.imshow('img1', img1)\n",
    "cv2.imshow('img2', img2)\n",
    "cv2.imshow('mask', mask)\n",
    "\n",
    "\n",
    "cv2.waitKey()\n",
    "cv2.destroyAllWindows()\n",
    "\n",
    "print(img1.shape)\n",
    "print(img2.shape)"
   ]
  },
  {
   "cell_type": "code",
   "execution_count": null,
   "id": "a43ddffd",
   "metadata": {},
   "outputs": [],
   "source": []
  }
 ],
 "metadata": {
  "kernelspec": {
   "display_name": "Python 3 (ipykernel)",
   "language": "python",
   "name": "python3"
  },
  "language_info": {
   "codemirror_mode": {
    "name": "ipython",
    "version": 3
   },
   "file_extension": ".py",
   "mimetype": "text/x-python",
   "name": "python",
   "nbconvert_exporter": "python",
   "pygments_lexer": "ipython3",
   "version": "3.9.7"
  }
 },
 "nbformat": 4,
 "nbformat_minor": 5
}
