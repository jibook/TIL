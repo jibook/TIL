{
 "cells": [
  {
   "cell_type": "code",
   "execution_count": 1,
   "id": "9e5f90d5",
   "metadata": {},
   "outputs": [],
   "source": [
    "import pandas as pd\n",
    "import numpy as np"
   ]
  },
  {
   "cell_type": "code",
   "execution_count": 2,
   "id": "eeac7ec9",
   "metadata": {},
   "outputs": [
    {
     "data": {
      "text/plain": [
       "'C:/Users/jhjh3/Desktop/jicode/data/bicycle.csv'"
      ]
     },
     "execution_count": 2,
     "metadata": {},
     "output_type": "execute_result"
    }
   ],
   "source": [
    "file_path = \"C:/Users/jhjh3/Desktop/jicode/data/bicycle.csv\"\n",
    "file_path"
   ]
  },
  {
   "cell_type": "code",
   "execution_count": 3,
   "id": "6c492219",
   "metadata": {
    "scrolled": true
   },
   "outputs": [
    {
     "data": {
      "text/html": [
       "<div>\n",
       "<style scoped>\n",
       "    .dataframe tbody tr th:only-of-type {\n",
       "        vertical-align: middle;\n",
       "    }\n",
       "\n",
       "    .dataframe tbody tr th {\n",
       "        vertical-align: top;\n",
       "    }\n",
       "\n",
       "    .dataframe thead th {\n",
       "        text-align: right;\n",
       "    }\n",
       "</style>\n",
       "<table border=\"1\" class=\"dataframe\">\n",
       "  <thead>\n",
       "    <tr style=\"text-align: right;\">\n",
       "      <th></th>\n",
       "      <th>자전거번호</th>\n",
       "      <th>대여일시</th>\n",
       "      <th>대여소번호</th>\n",
       "      <th>대여소명</th>\n",
       "      <th>대여거치대</th>\n",
       "      <th>반납일시</th>\n",
       "      <th>반납대여소번호</th>\n",
       "      <th>반납대여소명</th>\n",
       "      <th>반납거치대</th>\n",
       "      <th>이용시간</th>\n",
       "      <th>이용거리</th>\n",
       "    </tr>\n",
       "  </thead>\n",
       "  <tbody>\n",
       "    <tr>\n",
       "      <th>0</th>\n",
       "      <td>SPB-23220</td>\n",
       "      <td>2019-11-01 8:48</td>\n",
       "      <td>646</td>\n",
       "      <td>장한평역 1번출구 (국민은행앞)</td>\n",
       "      <td>3.0</td>\n",
       "      <td>2019-11-01 9:01</td>\n",
       "      <td>3</td>\n",
       "      <td>중랑센터</td>\n",
       "      <td>7.0</td>\n",
       "      <td>12.0</td>\n",
       "      <td>1100.0</td>\n",
       "    </tr>\n",
       "    <tr>\n",
       "      <th>1</th>\n",
       "      <td>SPB-16216</td>\n",
       "      <td>2019-11-04 8:38</td>\n",
       "      <td>646</td>\n",
       "      <td>장한평역 1번출구 (국민은행앞)</td>\n",
       "      <td>2.0</td>\n",
       "      <td>2019-11-04 8:56</td>\n",
       "      <td>3</td>\n",
       "      <td>중랑센터</td>\n",
       "      <td>2.0</td>\n",
       "      <td>7.0</td>\n",
       "      <td>1420.0</td>\n",
       "    </tr>\n",
       "    <tr>\n",
       "      <th>2</th>\n",
       "      <td>SPB-21097</td>\n",
       "      <td>2019-11-04 8:46</td>\n",
       "      <td>646</td>\n",
       "      <td>장한평역 1번출구 (국민은행앞)</td>\n",
       "      <td>1.0</td>\n",
       "      <td>2019-11-04 8:57</td>\n",
       "      <td>3</td>\n",
       "      <td>중랑센터</td>\n",
       "      <td>7.0</td>\n",
       "      <td>10.0</td>\n",
       "      <td>NaN</td>\n",
       "    </tr>\n",
       "    <tr>\n",
       "      <th>3</th>\n",
       "      <td>SPB-22292</td>\n",
       "      <td>2019-11-05 8:34</td>\n",
       "      <td>646</td>\n",
       "      <td>장한평역 1번출구 (국민은행앞)</td>\n",
       "      <td>1.0</td>\n",
       "      <td>2019-11-05 8:45</td>\n",
       "      <td>3</td>\n",
       "      <td>중랑센터</td>\n",
       "      <td>NaN</td>\n",
       "      <td>10.0</td>\n",
       "      <td>1380.0</td>\n",
       "    </tr>\n",
       "    <tr>\n",
       "      <th>4</th>\n",
       "      <td>SPB-07935</td>\n",
       "      <td>2019-11-05 12:29</td>\n",
       "      <td>512</td>\n",
       "      <td>뚝섬역 1번 출구 옆</td>\n",
       "      <td>11.0</td>\n",
       "      <td>2019-11-05 12:39</td>\n",
       "      <td>3</td>\n",
       "      <td>중랑센터</td>\n",
       "      <td>7.0</td>\n",
       "      <td>10.0</td>\n",
       "      <td>1650.0</td>\n",
       "    </tr>\n",
       "    <tr>\n",
       "      <th>...</th>\n",
       "      <td>...</td>\n",
       "      <td>...</td>\n",
       "      <td>...</td>\n",
       "      <td>...</td>\n",
       "      <td>...</td>\n",
       "      <td>...</td>\n",
       "      <td>...</td>\n",
       "      <td>...</td>\n",
       "      <td>...</td>\n",
       "      <td>...</td>\n",
       "      <td>...</td>\n",
       "    </tr>\n",
       "    <tr>\n",
       "      <th>415</th>\n",
       "      <td>SPB-12116</td>\n",
       "      <td>2019-11-15 4:22</td>\n",
       "      <td>112</td>\n",
       "      <td>극동방송국 앞</td>\n",
       "      <td>5.0</td>\n",
       "      <td>2019-11-15 4:33</td>\n",
       "      <td>101</td>\n",
       "      <td>(구)합정동 주민센터</td>\n",
       "      <td>1.0</td>\n",
       "      <td>11.0</td>\n",
       "      <td>2200.0</td>\n",
       "    </tr>\n",
       "    <tr>\n",
       "      <th>416</th>\n",
       "      <td>SPB-17768</td>\n",
       "      <td>2019-11-15 9:31</td>\n",
       "      <td>103</td>\n",
       "      <td>망원역 2번출구 앞</td>\n",
       "      <td>14.0</td>\n",
       "      <td>2019-11-15 9:37</td>\n",
       "      <td>101</td>\n",
       "      <td>(구)합정동 주민센터</td>\n",
       "      <td>NaN</td>\n",
       "      <td>5.0</td>\n",
       "      <td>NaN</td>\n",
       "    </tr>\n",
       "    <tr>\n",
       "      <th>417</th>\n",
       "      <td>SPB-18841</td>\n",
       "      <td>2019-11-15 20:40</td>\n",
       "      <td>113</td>\n",
       "      <td>홍대입구역 2번출구 앞</td>\n",
       "      <td>24.0</td>\n",
       "      <td>2019-11-15 20:53</td>\n",
       "      <td>101</td>\n",
       "      <td>(구)합정동 주민센터</td>\n",
       "      <td>1.0</td>\n",
       "      <td>12.0</td>\n",
       "      <td>2280.0</td>\n",
       "    </tr>\n",
       "    <tr>\n",
       "      <th>418</th>\n",
       "      <td>SPB-24467</td>\n",
       "      <td>2019-11-15 21:55</td>\n",
       "      <td>152</td>\n",
       "      <td>마포구민체육센터 앞</td>\n",
       "      <td>18.0</td>\n",
       "      <td>2019-11-15 22:05</td>\n",
       "      <td>101</td>\n",
       "      <td>(구)합정동 주민센터</td>\n",
       "      <td>1.0</td>\n",
       "      <td>10.0</td>\n",
       "      <td>1180.0</td>\n",
       "    </tr>\n",
       "    <tr>\n",
       "      <th>419</th>\n",
       "      <td>SPB-17570</td>\n",
       "      <td>2019-11-15 22:16</td>\n",
       "      <td>391</td>\n",
       "      <td>정동길입구</td>\n",
       "      <td>7.0</td>\n",
       "      <td>2019-11-15 23:04</td>\n",
       "      <td>101</td>\n",
       "      <td>(구)합정동 주민센터</td>\n",
       "      <td>5.0</td>\n",
       "      <td>48.0</td>\n",
       "      <td>8100.0</td>\n",
       "    </tr>\n",
       "  </tbody>\n",
       "</table>\n",
       "<p>420 rows × 11 columns</p>\n",
       "</div>"
      ],
      "text/plain": [
       "         자전거번호              대여일시  대여소번호               대여소명  대여거치대  \\\n",
       "0    SPB-23220   2019-11-01 8:48    646  장한평역 1번출구 (국민은행앞)    3.0   \n",
       "1    SPB-16216   2019-11-04 8:38    646  장한평역 1번출구 (국민은행앞)    2.0   \n",
       "2    SPB-21097   2019-11-04 8:46    646  장한평역 1번출구 (국민은행앞)    1.0   \n",
       "3    SPB-22292   2019-11-05 8:34    646  장한평역 1번출구 (국민은행앞)    1.0   \n",
       "4    SPB-07935  2019-11-05 12:29    512        뚝섬역 1번 출구 옆   11.0   \n",
       "..         ...               ...    ...                ...    ...   \n",
       "415  SPB-12116   2019-11-15 4:22    112            극동방송국 앞    5.0   \n",
       "416  SPB-17768   2019-11-15 9:31    103         망원역 2번출구 앞   14.0   \n",
       "417  SPB-18841  2019-11-15 20:40    113       홍대입구역 2번출구 앞   24.0   \n",
       "418  SPB-24467  2019-11-15 21:55    152         마포구민체육센터 앞   18.0   \n",
       "419  SPB-17570  2019-11-15 22:16    391              정동길입구    7.0   \n",
       "\n",
       "                 반납일시  반납대여소번호       반납대여소명  반납거치대  이용시간    이용거리  \n",
       "0     2019-11-01 9:01        3         중랑센터    7.0  12.0  1100.0  \n",
       "1     2019-11-04 8:56        3         중랑센터    2.0   7.0  1420.0  \n",
       "2     2019-11-04 8:57        3         중랑센터    7.0  10.0     NaN  \n",
       "3     2019-11-05 8:45        3         중랑센터    NaN  10.0  1380.0  \n",
       "4    2019-11-05 12:39        3         중랑센터    7.0  10.0  1650.0  \n",
       "..                ...      ...          ...    ...   ...     ...  \n",
       "415   2019-11-15 4:33      101  (구)합정동 주민센터    1.0  11.0  2200.0  \n",
       "416   2019-11-15 9:37      101  (구)합정동 주민센터    NaN   5.0     NaN  \n",
       "417  2019-11-15 20:53      101  (구)합정동 주민센터    1.0  12.0  2280.0  \n",
       "418  2019-11-15 22:05      101  (구)합정동 주민센터    1.0  10.0  1180.0  \n",
       "419  2019-11-15 23:04      101  (구)합정동 주민센터    5.0  48.0  8100.0  \n",
       "\n",
       "[420 rows x 11 columns]"
      ]
     },
     "execution_count": 3,
     "metadata": {},
     "output_type": "execute_result"
    }
   ],
   "source": [
    "df=pd.read_csv(file_path)\n",
    "df"
   ]
  },
  {
   "cell_type": "markdown",
   "id": "8d616d65",
   "metadata": {},
   "source": [
    "### 파일 변환(csv -> exel)"
   ]
  },
  {
   "cell_type": "code",
   "execution_count": 4,
   "id": "518b7f12",
   "metadata": {},
   "outputs": [
    {
     "data": {
      "text/html": [
       "<div>\n",
       "<style scoped>\n",
       "    .dataframe tbody tr th:only-of-type {\n",
       "        vertical-align: middle;\n",
       "    }\n",
       "\n",
       "    .dataframe tbody tr th {\n",
       "        vertical-align: top;\n",
       "    }\n",
       "\n",
       "    .dataframe thead th {\n",
       "        text-align: right;\n",
       "    }\n",
       "</style>\n",
       "<table border=\"1\" class=\"dataframe\">\n",
       "  <thead>\n",
       "    <tr style=\"text-align: right;\">\n",
       "      <th></th>\n",
       "      <th>자전거번호</th>\n",
       "      <th>대여일시</th>\n",
       "      <th>대여소번호</th>\n",
       "      <th>대여소명</th>\n",
       "      <th>대여거치대</th>\n",
       "      <th>반납일시</th>\n",
       "      <th>반납대여소번호</th>\n",
       "      <th>반납대여소명</th>\n",
       "      <th>반납거치대</th>\n",
       "      <th>이용시간</th>\n",
       "      <th>이용거리</th>\n",
       "    </tr>\n",
       "  </thead>\n",
       "  <tbody>\n",
       "    <tr>\n",
       "      <th>0</th>\n",
       "      <td>SPB-23220</td>\n",
       "      <td>2019-11-01 8:48</td>\n",
       "      <td>646</td>\n",
       "      <td>장한평역 1번출구 (국민은행앞)</td>\n",
       "      <td>3.0</td>\n",
       "      <td>2019-11-01 9:01</td>\n",
       "      <td>3</td>\n",
       "      <td>중랑센터</td>\n",
       "      <td>7.0</td>\n",
       "      <td>12.0</td>\n",
       "      <td>1100.0</td>\n",
       "    </tr>\n",
       "    <tr>\n",
       "      <th>1</th>\n",
       "      <td>SPB-16216</td>\n",
       "      <td>2019-11-04 8:38</td>\n",
       "      <td>646</td>\n",
       "      <td>장한평역 1번출구 (국민은행앞)</td>\n",
       "      <td>2.0</td>\n",
       "      <td>2019-11-04 8:56</td>\n",
       "      <td>3</td>\n",
       "      <td>중랑센터</td>\n",
       "      <td>2.0</td>\n",
       "      <td>7.0</td>\n",
       "      <td>1420.0</td>\n",
       "    </tr>\n",
       "    <tr>\n",
       "      <th>2</th>\n",
       "      <td>SPB-21097</td>\n",
       "      <td>2019-11-04 8:46</td>\n",
       "      <td>646</td>\n",
       "      <td>장한평역 1번출구 (국민은행앞)</td>\n",
       "      <td>1.0</td>\n",
       "      <td>2019-11-04 8:57</td>\n",
       "      <td>3</td>\n",
       "      <td>중랑센터</td>\n",
       "      <td>7.0</td>\n",
       "      <td>10.0</td>\n",
       "      <td>NaN</td>\n",
       "    </tr>\n",
       "    <tr>\n",
       "      <th>3</th>\n",
       "      <td>SPB-22292</td>\n",
       "      <td>2019-11-05 8:34</td>\n",
       "      <td>646</td>\n",
       "      <td>장한평역 1번출구 (국민은행앞)</td>\n",
       "      <td>1.0</td>\n",
       "      <td>2019-11-05 8:45</td>\n",
       "      <td>3</td>\n",
       "      <td>중랑센터</td>\n",
       "      <td>NaN</td>\n",
       "      <td>10.0</td>\n",
       "      <td>1380.0</td>\n",
       "    </tr>\n",
       "    <tr>\n",
       "      <th>4</th>\n",
       "      <td>SPB-07935</td>\n",
       "      <td>2019-11-05 12:29</td>\n",
       "      <td>512</td>\n",
       "      <td>뚝섬역 1번 출구 옆</td>\n",
       "      <td>11.0</td>\n",
       "      <td>2019-11-05 12:39</td>\n",
       "      <td>3</td>\n",
       "      <td>중랑센터</td>\n",
       "      <td>7.0</td>\n",
       "      <td>10.0</td>\n",
       "      <td>1650.0</td>\n",
       "    </tr>\n",
       "    <tr>\n",
       "      <th>...</th>\n",
       "      <td>...</td>\n",
       "      <td>...</td>\n",
       "      <td>...</td>\n",
       "      <td>...</td>\n",
       "      <td>...</td>\n",
       "      <td>...</td>\n",
       "      <td>...</td>\n",
       "      <td>...</td>\n",
       "      <td>...</td>\n",
       "      <td>...</td>\n",
       "      <td>...</td>\n",
       "    </tr>\n",
       "    <tr>\n",
       "      <th>415</th>\n",
       "      <td>SPB-12116</td>\n",
       "      <td>2019-11-15 4:22</td>\n",
       "      <td>112</td>\n",
       "      <td>극동방송국 앞</td>\n",
       "      <td>5.0</td>\n",
       "      <td>2019-11-15 4:33</td>\n",
       "      <td>101</td>\n",
       "      <td>(구)합정동 주민센터</td>\n",
       "      <td>1.0</td>\n",
       "      <td>11.0</td>\n",
       "      <td>2200.0</td>\n",
       "    </tr>\n",
       "    <tr>\n",
       "      <th>416</th>\n",
       "      <td>SPB-17768</td>\n",
       "      <td>2019-11-15 9:31</td>\n",
       "      <td>103</td>\n",
       "      <td>망원역 2번출구 앞</td>\n",
       "      <td>14.0</td>\n",
       "      <td>2019-11-15 9:37</td>\n",
       "      <td>101</td>\n",
       "      <td>(구)합정동 주민센터</td>\n",
       "      <td>NaN</td>\n",
       "      <td>5.0</td>\n",
       "      <td>NaN</td>\n",
       "    </tr>\n",
       "    <tr>\n",
       "      <th>417</th>\n",
       "      <td>SPB-18841</td>\n",
       "      <td>2019-11-15 20:40</td>\n",
       "      <td>113</td>\n",
       "      <td>홍대입구역 2번출구 앞</td>\n",
       "      <td>24.0</td>\n",
       "      <td>2019-11-15 20:53</td>\n",
       "      <td>101</td>\n",
       "      <td>(구)합정동 주민센터</td>\n",
       "      <td>1.0</td>\n",
       "      <td>12.0</td>\n",
       "      <td>2280.0</td>\n",
       "    </tr>\n",
       "    <tr>\n",
       "      <th>418</th>\n",
       "      <td>SPB-24467</td>\n",
       "      <td>2019-11-15 21:55</td>\n",
       "      <td>152</td>\n",
       "      <td>마포구민체육센터 앞</td>\n",
       "      <td>18.0</td>\n",
       "      <td>2019-11-15 22:05</td>\n",
       "      <td>101</td>\n",
       "      <td>(구)합정동 주민센터</td>\n",
       "      <td>1.0</td>\n",
       "      <td>10.0</td>\n",
       "      <td>1180.0</td>\n",
       "    </tr>\n",
       "    <tr>\n",
       "      <th>419</th>\n",
       "      <td>SPB-17570</td>\n",
       "      <td>2019-11-15 22:16</td>\n",
       "      <td>391</td>\n",
       "      <td>정동길입구</td>\n",
       "      <td>7.0</td>\n",
       "      <td>2019-11-15 23:04</td>\n",
       "      <td>101</td>\n",
       "      <td>(구)합정동 주민센터</td>\n",
       "      <td>5.0</td>\n",
       "      <td>48.0</td>\n",
       "      <td>8100.0</td>\n",
       "    </tr>\n",
       "  </tbody>\n",
       "</table>\n",
       "<p>420 rows × 11 columns</p>\n",
       "</div>"
      ],
      "text/plain": [
       "         자전거번호              대여일시  대여소번호               대여소명  대여거치대  \\\n",
       "0    SPB-23220   2019-11-01 8:48    646  장한평역 1번출구 (국민은행앞)    3.0   \n",
       "1    SPB-16216   2019-11-04 8:38    646  장한평역 1번출구 (국민은행앞)    2.0   \n",
       "2    SPB-21097   2019-11-04 8:46    646  장한평역 1번출구 (국민은행앞)    1.0   \n",
       "3    SPB-22292   2019-11-05 8:34    646  장한평역 1번출구 (국민은행앞)    1.0   \n",
       "4    SPB-07935  2019-11-05 12:29    512        뚝섬역 1번 출구 옆   11.0   \n",
       "..         ...               ...    ...                ...    ...   \n",
       "415  SPB-12116   2019-11-15 4:22    112            극동방송국 앞    5.0   \n",
       "416  SPB-17768   2019-11-15 9:31    103         망원역 2번출구 앞   14.0   \n",
       "417  SPB-18841  2019-11-15 20:40    113       홍대입구역 2번출구 앞   24.0   \n",
       "418  SPB-24467  2019-11-15 21:55    152         마포구민체육센터 앞   18.0   \n",
       "419  SPB-17570  2019-11-15 22:16    391              정동길입구    7.0   \n",
       "\n",
       "                 반납일시  반납대여소번호       반납대여소명  반납거치대  이용시간    이용거리  \n",
       "0     2019-11-01 9:01        3         중랑센터    7.0  12.0  1100.0  \n",
       "1     2019-11-04 8:56        3         중랑센터    2.0   7.0  1420.0  \n",
       "2     2019-11-04 8:57        3         중랑센터    7.0  10.0     NaN  \n",
       "3     2019-11-05 8:45        3         중랑센터    NaN  10.0  1380.0  \n",
       "4    2019-11-05 12:39        3         중랑센터    7.0  10.0  1650.0  \n",
       "..                ...      ...          ...    ...   ...     ...  \n",
       "415   2019-11-15 4:33      101  (구)합정동 주민센터    1.0  11.0  2200.0  \n",
       "416   2019-11-15 9:37      101  (구)합정동 주민센터    NaN   5.0     NaN  \n",
       "417  2019-11-15 20:53      101  (구)합정동 주민센터    1.0  12.0  2280.0  \n",
       "418  2019-11-15 22:05      101  (구)합정동 주민센터    1.0  10.0  1180.0  \n",
       "419  2019-11-15 23:04      101  (구)합정동 주민센터    5.0  48.0  8100.0  \n",
       "\n",
       "[420 rows x 11 columns]"
      ]
     },
     "execution_count": 4,
     "metadata": {},
     "output_type": "execute_result"
    }
   ],
   "source": [
    "df4=pd.read_csv(file_path,encoding='utf8')\n",
    "df4"
   ]
  },
  {
   "cell_type": "code",
   "execution_count": 5,
   "id": "f94dc809",
   "metadata": {},
   "outputs": [],
   "source": [
    "df4.to_excel(\"C:/Users/jhjh3/Desktop/jicode/data/bicycle_exel.xlsx\")"
   ]
  },
  {
   "cell_type": "markdown",
   "id": "a6f5ae45",
   "metadata": {},
   "source": [
    "### pickle 저장 및 읽기"
   ]
  },
  {
   "cell_type": "code",
   "execution_count": 6,
   "id": "f40f3e55",
   "metadata": {},
   "outputs": [],
   "source": [
    "import pickle"
   ]
  },
  {
   "cell_type": "code",
   "execution_count": 7,
   "id": "7fe93a08",
   "metadata": {},
   "outputs": [
    {
     "data": {
      "text/html": [
       "<div>\n",
       "<style scoped>\n",
       "    .dataframe tbody tr th:only-of-type {\n",
       "        vertical-align: middle;\n",
       "    }\n",
       "\n",
       "    .dataframe tbody tr th {\n",
       "        vertical-align: top;\n",
       "    }\n",
       "\n",
       "    .dataframe thead th {\n",
       "        text-align: right;\n",
       "    }\n",
       "</style>\n",
       "<table border=\"1\" class=\"dataframe\">\n",
       "  <thead>\n",
       "    <tr style=\"text-align: right;\">\n",
       "      <th></th>\n",
       "      <th>a</th>\n",
       "      <th>b</th>\n",
       "    </tr>\n",
       "  </thead>\n",
       "  <tbody>\n",
       "    <tr>\n",
       "      <th>0</th>\n",
       "      <td>1</td>\n",
       "      <td>2</td>\n",
       "    </tr>\n",
       "  </tbody>\n",
       "</table>\n",
       "</div>"
      ],
      "text/plain": [
       "   a  b\n",
       "0  1  2"
      ]
     },
     "execution_count": 7,
     "metadata": {},
     "output_type": "execute_result"
    }
   ],
   "source": [
    "pd.DataFrame({'a':[1],'b':[2]})"
   ]
  },
  {
   "cell_type": "code",
   "execution_count": 8,
   "id": "a00f7307",
   "metadata": {},
   "outputs": [],
   "source": [
    "temp=pd.DataFrame({'a':[1],'b':[2]})"
   ]
  },
  {
   "cell_type": "code",
   "execution_count": 9,
   "id": "8bb31b61",
   "metadata": {},
   "outputs": [],
   "source": [
    "temp.to_pickle(\"C:/Users/jhjh3/Desktop/jicode/data/iampickle.pkl\")"
   ]
  },
  {
   "cell_type": "code",
   "execution_count": 10,
   "id": "45935cdf",
   "metadata": {},
   "outputs": [
    {
     "data": {
      "text/html": [
       "<div>\n",
       "<style scoped>\n",
       "    .dataframe tbody tr th:only-of-type {\n",
       "        vertical-align: middle;\n",
       "    }\n",
       "\n",
       "    .dataframe tbody tr th {\n",
       "        vertical-align: top;\n",
       "    }\n",
       "\n",
       "    .dataframe thead th {\n",
       "        text-align: right;\n",
       "    }\n",
       "</style>\n",
       "<table border=\"1\" class=\"dataframe\">\n",
       "  <thead>\n",
       "    <tr style=\"text-align: right;\">\n",
       "      <th></th>\n",
       "      <th>a</th>\n",
       "      <th>b</th>\n",
       "    </tr>\n",
       "  </thead>\n",
       "  <tbody>\n",
       "    <tr>\n",
       "      <th>0</th>\n",
       "      <td>1</td>\n",
       "      <td>2</td>\n",
       "    </tr>\n",
       "  </tbody>\n",
       "</table>\n",
       "</div>"
      ],
      "text/plain": [
       "   a  b\n",
       "0  1  2"
      ]
     },
     "execution_count": 10,
     "metadata": {},
     "output_type": "execute_result"
    }
   ],
   "source": [
    "pd.read_pickle(\"C:/Users/jhjh3/Desktop/jicode/data/iampickle.pkl\")"
   ]
  },
  {
   "cell_type": "code",
   "execution_count": 11,
   "id": "b94fd6a6",
   "metadata": {
    "scrolled": true
   },
   "outputs": [
    {
     "name": "stdout",
     "output_type": "stream",
     "text": [
      "Requirement already satisfied: openpyxl in c:\\users\\jhjh3\\anaconda3\\lib\\site-packages (3.0.9)\n",
      "Requirement already satisfied: et-xmlfile in c:\\users\\jhjh3\\anaconda3\\lib\\site-packages (from openpyxl) (1.1.0)\n",
      "Requirement already satisfied: bs4 in c:\\users\\jhjh3\\anaconda3\\lib\\site-packages (0.0.1)\n",
      "Requirement already satisfied: beautifulsoup4 in c:\\users\\jhjh3\\anaconda3\\lib\\site-packages (from bs4) (4.10.0)\n",
      "Requirement already satisfied: soupsieve>1.2 in c:\\users\\jhjh3\\anaconda3\\lib\\site-packages (from beautifulsoup4->bs4) (2.2.1)\n",
      "Requirement already satisfied: Workbook in c:\\users\\jhjh3\\anaconda3\\lib\\site-packages (1.1)\n",
      "Requirement already satisfied: xlwt in c:\\users\\jhjh3\\anaconda3\\lib\\site-packages (from Workbook) (1.3.0)\n",
      "Requirement already satisfied: xlutils in c:\\users\\jhjh3\\anaconda3\\lib\\site-packages (from Workbook) (2.0.0)\n",
      "Requirement already satisfied: xlrd>=0.7.2 in c:\\users\\jhjh3\\anaconda3\\lib\\site-packages (from xlutils->Workbook) (2.0.1)\n"
     ]
    }
   ],
   "source": [
    "!pip install openpyxl\n",
    "!pip install bs4\n",
    "!pip install Workbook"
   ]
  },
  {
   "cell_type": "code",
   "execution_count": 12,
   "id": "1d9599c7",
   "metadata": {},
   "outputs": [],
   "source": [
    "apikey ='ag9lg6e5HGh36DR67rAvSzCB1uJd097%2FxrguJG3zVFdFw%2Fw4uyGu2dFo6sdJxh9T6bqdddfKpb%2BZLc4Bh%2FcQFQ%3D%3D'"
   ]
  },
  {
   "cell_type": "code",
   "execution_count": 13,
   "id": "83337be8",
   "metadata": {},
   "outputs": [],
   "source": [
    "api = 'http://apis.data.go.kr/B551182/pharmacyInfoService/getParmacyBasisList?&ServiceKey=ag9lg6e5HGh36DR67rAvSzCB1uJd097%2FxrguJG3zVFdFw%2Fw4uyGu2dFo6sdJxh9T6bqdddfKpb%2BZLc4Bh%2FcQFQ%3D%3D'\n"
   ]
  },
  {
   "cell_type": "code",
   "execution_count": 14,
   "id": "ee4083c1",
   "metadata": {},
   "outputs": [
    {
     "name": "stdout",
     "output_type": "stream",
     "text": [
      "http://apis.data.go.kr/B551182/pharmacyInfoService/getParmacyBasisList?&ServiceKey=ag9lg6e5HGh36DR67rAvSzCB1uJd097%2FxrguJG3zVFdFw%2Fw4uyGu2dFo6sdJxh9T6bqdddfKpb%2BZLc4Bh%2FcQFQ%3D%3D\n"
     ]
    }
   ],
   "source": [
    "print(api)"
   ]
  },
  {
   "cell_type": "code",
   "execution_count": 15,
   "id": "833fc7a1",
   "metadata": {},
   "outputs": [],
   "source": [
    "import pandas as pd\n",
    "import numpy as np\n",
    "import requests\n",
    "from openpyxl.workbook import Workbook\n",
    "from bs4 import BeautifulSoup"
   ]
  },
  {
   "cell_type": "code",
   "execution_count": 16,
   "id": "4021cd8a",
   "metadata": {},
   "outputs": [
    {
     "ename": "NameError",
     "evalue": "name 'list_drugs' is not defined",
     "output_type": "error",
     "traceback": [
      "\u001b[1;31m---------------------------------------------------------------------------\u001b[0m",
      "\u001b[1;31mNameError\u001b[0m                                 Traceback (most recent call last)",
      "\u001b[1;32mC:\\Users\\Public\\Documents\\ESTsoft\\CreatorTemp/ipykernel_42912/2354976439.py\u001b[0m in \u001b[0;36m<module>\u001b[1;34m\u001b[0m\n\u001b[1;32m----> 1\u001b[1;33m \u001b[0murl\u001b[0m \u001b[1;33m=\u001b[0m \u001b[0mapi\u001b[0m\u001b[1;33m.\u001b[0m\u001b[0mformat\u001b[0m\u001b[1;33m(\u001b[0m\u001b[0mlist_drugs\u001b[0m\u001b[1;33m,\u001b[0m \u001b[0mkey\u001b[0m\u001b[1;33m=\u001b[0m\u001b[0mapikey\u001b[0m\u001b[1;33m)\u001b[0m\u001b[1;33m\u001b[0m\u001b[1;33m\u001b[0m\u001b[0m\n\u001b[0m\u001b[0;32m      2\u001b[0m \u001b[0murl\u001b[0m\u001b[1;33m\u001b[0m\u001b[1;33m\u001b[0m\u001b[0m\n\u001b[0;32m      3\u001b[0m \u001b[0mreq\u001b[0m \u001b[1;33m=\u001b[0m \u001b[0mrequests\u001b[0m\u001b[1;33m.\u001b[0m\u001b[0mget\u001b[0m\u001b[1;33m(\u001b[0m\u001b[0murl\u001b[0m\u001b[1;33m)\u001b[0m\u001b[1;33m\u001b[0m\u001b[1;33m\u001b[0m\u001b[0m\n\u001b[0;32m      4\u001b[0m \u001b[0mreq\u001b[0m\u001b[1;33m\u001b[0m\u001b[1;33m\u001b[0m\u001b[0m\n",
      "\u001b[1;31mNameError\u001b[0m: name 'list_drugs' is not defined"
     ]
    }
   ],
   "source": [
    " url = api.format(list_drugs, key=apikey)\n",
    " url\n",
    "req = requests.get(url)\n",
    "req"
   ]
  },
  {
   "cell_type": "code",
   "execution_count": 17,
   "id": "dfd1901d",
   "metadata": {},
   "outputs": [
    {
     "name": "stdout",
     "output_type": "stream",
     "text": [
      "병원명 [<yadmnm>조은약국</yadmnm>, <yadmnm>삼산현대약국</yadmnm>, <yadmnm>참조은약국</yadmnm>, <yadmnm>일동한미약국</yadmnm>, <yadmnm>정다운약국</yadmnm>, <yadmnm>생명약국</yadmnm>, <yadmnm>새천년약국</yadmnm>, <yadmnm>국제약국</yadmnm>, <yadmnm>햇빛약국</yadmnm>, <yadmnm>대림약국</yadmnm>]\n",
      "종별코드명 [<sggucdnm>당진시</sggucdnm>, <sggucdnm>울산남구</sggucdnm>, <sggucdnm>창원성산구</sggucdnm>, <sggucdnm>포천시</sggucdnm>, <sggucdnm>파주시</sggucdnm>, <sggucdnm>이천시</sggucdnm>, <sggucdnm>진천군</sggucdnm>, <sggucdnm>동대문구</sggucdnm>, <sggucdnm>도봉구</sggucdnm>, <sggucdnm>구로구</sggucdnm>]\n",
      "시도명 []\n",
      "주소 [<addr>충청남도 당진시 신평면 신평길 24-14 (신평면)</addr>, <addr>울산광역시 남구 삼산중로 69 (달동)</addr>, <addr>경상남도 창원시 성산구 용지로133번길 3 (중앙동)</addr>, <addr>경기도 포천시 일동면 화동로 1076-1 1076</addr>, <addr>경기도 파주시 탄현면 평화로574번길 9 (탄현면)</addr>, <addr>경기도 이천시 장호원읍 장터로 45-10 1층</addr>, <addr>충청북도 진천군 진천읍 중앙북4길 26 (진천읍)</addr>, <addr>서울특별시 동대문구 답십리로 252 1층 (장안동, 세현빌딩)</addr>, <addr>서울특별시 도봉구 도당로13길 16 (방학동)</addr>, <addr>서울특별시 구로구 신도림로 16 주상가동 209호 (신도림동, 대림2차)</addr>]\n",
      "전화번호 [<telno>041-363-1190</telno>, <telno>052-268-5666</telno>, <telno>055-261-9990</telno>, <telno>031-535-2363</telno>, <telno>031-957-1191</telno>, <telno>031-642-6628</telno>, <telno>043-535-6261</telno>, <telno>02-2245-6384</telno>, <telno>6081-5255</telno>, <telno>02-2679-3553</telno>]\n",
      "병원명 [<yadmnm>조은약국</yadmnm>, <yadmnm>삼산현대약국</yadmnm>, <yadmnm>참조은약국</yadmnm>, <yadmnm>일동한미약국</yadmnm>, <yadmnm>정다운약국</yadmnm>, <yadmnm>생명약국</yadmnm>, <yadmnm>새천년약국</yadmnm>, <yadmnm>국제약국</yadmnm>, <yadmnm>햇빛약국</yadmnm>, <yadmnm>대림약국</yadmnm>]\n",
      "종별코드명 [<sggucdnm>당진시</sggucdnm>, <sggucdnm>울산남구</sggucdnm>, <sggucdnm>창원성산구</sggucdnm>, <sggucdnm>포천시</sggucdnm>, <sggucdnm>파주시</sggucdnm>, <sggucdnm>이천시</sggucdnm>, <sggucdnm>진천군</sggucdnm>, <sggucdnm>동대문구</sggucdnm>, <sggucdnm>도봉구</sggucdnm>, <sggucdnm>구로구</sggucdnm>]\n",
      "시도명 []\n",
      "주소 [<addr>충청남도 당진시 신평면 신평길 24-14 (신평면)</addr>, <addr>울산광역시 남구 삼산중로 69 (달동)</addr>, <addr>경상남도 창원시 성산구 용지로133번길 3 (중앙동)</addr>, <addr>경기도 포천시 일동면 화동로 1076-1 1076</addr>, <addr>경기도 파주시 탄현면 평화로574번길 9 (탄현면)</addr>, <addr>경기도 이천시 장호원읍 장터로 45-10 1층</addr>, <addr>충청북도 진천군 진천읍 중앙북4길 26 (진천읍)</addr>, <addr>서울특별시 동대문구 답십리로 252 1층 (장안동, 세현빌딩)</addr>, <addr>서울특별시 도봉구 도당로13길 16 (방학동)</addr>, <addr>서울특별시 구로구 신도림로 16 주상가동 209호 (신도림동, 대림2차)</addr>]\n",
      "전화번호 [<telno>041-363-1190</telno>, <telno>052-268-5666</telno>, <telno>055-261-9990</telno>, <telno>031-535-2363</telno>, <telno>031-957-1191</telno>, <telno>031-642-6628</telno>, <telno>043-535-6261</telno>, <telno>02-2245-6384</telno>, <telno>6081-5255</telno>, <telno>02-2679-3553</telno>]\n",
      "병원명 [<yadmnm>조은약국</yadmnm>, <yadmnm>삼산현대약국</yadmnm>, <yadmnm>참조은약국</yadmnm>, <yadmnm>일동한미약국</yadmnm>, <yadmnm>정다운약국</yadmnm>, <yadmnm>생명약국</yadmnm>, <yadmnm>새천년약국</yadmnm>, <yadmnm>국제약국</yadmnm>, <yadmnm>햇빛약국</yadmnm>, <yadmnm>대림약국</yadmnm>]\n",
      "종별코드명 [<sggucdnm>당진시</sggucdnm>, <sggucdnm>울산남구</sggucdnm>, <sggucdnm>창원성산구</sggucdnm>, <sggucdnm>포천시</sggucdnm>, <sggucdnm>파주시</sggucdnm>, <sggucdnm>이천시</sggucdnm>, <sggucdnm>진천군</sggucdnm>, <sggucdnm>동대문구</sggucdnm>, <sggucdnm>도봉구</sggucdnm>, <sggucdnm>구로구</sggucdnm>]\n",
      "시도명 []\n",
      "주소 [<addr>충청남도 당진시 신평면 신평길 24-14 (신평면)</addr>, <addr>울산광역시 남구 삼산중로 69 (달동)</addr>, <addr>경상남도 창원시 성산구 용지로133번길 3 (중앙동)</addr>, <addr>경기도 포천시 일동면 화동로 1076-1 1076</addr>, <addr>경기도 파주시 탄현면 평화로574번길 9 (탄현면)</addr>, <addr>경기도 이천시 장호원읍 장터로 45-10 1층</addr>, <addr>충청북도 진천군 진천읍 중앙북4길 26 (진천읍)</addr>, <addr>서울특별시 동대문구 답십리로 252 1층 (장안동, 세현빌딩)</addr>, <addr>서울특별시 도봉구 도당로13길 16 (방학동)</addr>, <addr>서울특별시 구로구 신도림로 16 주상가동 209호 (신도림동, 대림2차)</addr>]\n",
      "전화번호 [<telno>041-363-1190</telno>, <telno>052-268-5666</telno>, <telno>055-261-9990</telno>, <telno>031-535-2363</telno>, <telno>031-957-1191</telno>, <telno>031-642-6628</telno>, <telno>043-535-6261</telno>, <telno>02-2245-6384</telno>, <telno>6081-5255</telno>, <telno>02-2679-3553</telno>]\n",
      "병원명 [<yadmnm>조은약국</yadmnm>, <yadmnm>삼산현대약국</yadmnm>, <yadmnm>참조은약국</yadmnm>, <yadmnm>일동한미약국</yadmnm>, <yadmnm>정다운약국</yadmnm>, <yadmnm>생명약국</yadmnm>, <yadmnm>새천년약국</yadmnm>, <yadmnm>국제약국</yadmnm>, <yadmnm>햇빛약국</yadmnm>, <yadmnm>대림약국</yadmnm>]\n",
      "종별코드명 [<sggucdnm>당진시</sggucdnm>, <sggucdnm>울산남구</sggucdnm>, <sggucdnm>창원성산구</sggucdnm>, <sggucdnm>포천시</sggucdnm>, <sggucdnm>파주시</sggucdnm>, <sggucdnm>이천시</sggucdnm>, <sggucdnm>진천군</sggucdnm>, <sggucdnm>동대문구</sggucdnm>, <sggucdnm>도봉구</sggucdnm>, <sggucdnm>구로구</sggucdnm>]\n",
      "시도명 []\n",
      "주소 [<addr>충청남도 당진시 신평면 신평길 24-14 (신평면)</addr>, <addr>울산광역시 남구 삼산중로 69 (달동)</addr>, <addr>경상남도 창원시 성산구 용지로133번길 3 (중앙동)</addr>, <addr>경기도 포천시 일동면 화동로 1076-1 1076</addr>, <addr>경기도 파주시 탄현면 평화로574번길 9 (탄현면)</addr>, <addr>경기도 이천시 장호원읍 장터로 45-10 1층</addr>, <addr>충청북도 진천군 진천읍 중앙북4길 26 (진천읍)</addr>, <addr>서울특별시 동대문구 답십리로 252 1층 (장안동, 세현빌딩)</addr>, <addr>서울특별시 도봉구 도당로13길 16 (방학동)</addr>, <addr>서울특별시 구로구 신도림로 16 주상가동 209호 (신도림동, 대림2차)</addr>]\n",
      "전화번호 [<telno>041-363-1190</telno>, <telno>052-268-5666</telno>, <telno>055-261-9990</telno>, <telno>031-535-2363</telno>, <telno>031-957-1191</telno>, <telno>031-642-6628</telno>, <telno>043-535-6261</telno>, <telno>02-2245-6384</telno>, <telno>6081-5255</telno>, <telno>02-2679-3553</telno>]\n",
      "병원명 [<yadmnm>조은약국</yadmnm>, <yadmnm>삼산현대약국</yadmnm>, <yadmnm>참조은약국</yadmnm>, <yadmnm>일동한미약국</yadmnm>, <yadmnm>정다운약국</yadmnm>, <yadmnm>생명약국</yadmnm>, <yadmnm>새천년약국</yadmnm>, <yadmnm>국제약국</yadmnm>, <yadmnm>햇빛약국</yadmnm>, <yadmnm>대림약국</yadmnm>]\n",
      "종별코드명 [<sggucdnm>당진시</sggucdnm>, <sggucdnm>울산남구</sggucdnm>, <sggucdnm>창원성산구</sggucdnm>, <sggucdnm>포천시</sggucdnm>, <sggucdnm>파주시</sggucdnm>, <sggucdnm>이천시</sggucdnm>, <sggucdnm>진천군</sggucdnm>, <sggucdnm>동대문구</sggucdnm>, <sggucdnm>도봉구</sggucdnm>, <sggucdnm>구로구</sggucdnm>]\n",
      "시도명 []\n",
      "주소 [<addr>충청남도 당진시 신평면 신평길 24-14 (신평면)</addr>, <addr>울산광역시 남구 삼산중로 69 (달동)</addr>, <addr>경상남도 창원시 성산구 용지로133번길 3 (중앙동)</addr>, <addr>경기도 포천시 일동면 화동로 1076-1 1076</addr>, <addr>경기도 파주시 탄현면 평화로574번길 9 (탄현면)</addr>, <addr>경기도 이천시 장호원읍 장터로 45-10 1층</addr>, <addr>충청북도 진천군 진천읍 중앙북4길 26 (진천읍)</addr>, <addr>서울특별시 동대문구 답십리로 252 1층 (장안동, 세현빌딩)</addr>, <addr>서울특별시 도봉구 도당로13길 16 (방학동)</addr>, <addr>서울특별시 구로구 신도림로 16 주상가동 209호 (신도림동, 대림2차)</addr>]\n",
      "전화번호 [<telno>041-363-1190</telno>, <telno>052-268-5666</telno>, <telno>055-261-9990</telno>, <telno>031-535-2363</telno>, <telno>031-957-1191</telno>, <telno>031-642-6628</telno>, <telno>043-535-6261</telno>, <telno>02-2245-6384</telno>, <telno>6081-5255</telno>, <telno>02-2679-3553</telno>]\n"
     ]
    }
   ],
   "source": [
    "# 약국 정보 리스트\n",
    "\n",
    "list_drugs = ['병원명','종별코드명','시도명','주소','전화번호']\n",
    "\n",
    "i = 0\n",
    "for i in list_drugs:\n",
    "    url = api.format(list_drugs, key=apikey)\n",
    "    req = requests.get(url)\n",
    "    re = req.text\n",
    "    soup = BeautifulSoup(re, 'html.parser')\n",
    "    \n",
    "    # 병원명\n",
    "    yadmnm = soup.find_all('yadmnm')\n",
    "    \n",
    "    # 종별코드명\n",
    "    sggucdnm = soup.find_all('sggucdnm')\n",
    "    \n",
    "    # 시도병\n",
    "    sidocdmn = soup.find_all('sidocdmn')\n",
    "    \n",
    "    # 주소\n",
    "    addr = soup.find_all('addr')\n",
    "    \n",
    "    # 전화번호\n",
    "    telno = soup.find_all('telno')\n",
    "    \n",
    "    print(\"병원명\", yadmnm)\n",
    "    print(\"종별코드명\", sggucdnm)\n",
    "    print(\"시도명\", sidocdmn)\n",
    "    print(\"주소\", addr)\n",
    "    print(\"전화번호\", telno)\n",
    "    \n",
    "    "
   ]
  },
  {
   "cell_type": "code",
   "execution_count": 18,
   "id": "7b81732d",
   "metadata": {},
   "outputs": [],
   "source": [
    "from bs4 import BeautifulSoup as bs\n",
    "from pprint import pprint\n",
    "import requests"
   ]
  },
  {
   "cell_type": "code",
   "execution_count": 19,
   "id": "68f44988",
   "metadata": {},
   "outputs": [
    {
     "name": "stdout",
     "output_type": "stream",
     "text": [
      "<Response [200]>\n"
     ]
    }
   ],
   "source": [
    "# https://search.naver.com/search.naver?\n",
    "html = requests.get(\"https://search.naver.com/search.naver?query=날씨\")\n",
    "print(html)"
   ]
  },
  {
   "cell_type": "code",
   "execution_count": 29,
   "id": "f5dae741",
   "metadata": {},
   "outputs": [],
   "source": [
    "# print(html.text) 결과 너무 길다"
   ]
  },
  {
   "cell_type": "code",
   "execution_count": 30,
   "id": "d8130952",
   "metadata": {},
   "outputs": [],
   "source": [
    "soup = bs(html.text,'html.parser')\n",
    "# soup 결과너무 길다"
   ]
  },
  {
   "cell_type": "code",
   "execution_count": 31,
   "id": "88e8d9eb",
   "metadata": {},
   "outputs": [],
   "source": [
    "# https://weather.naver.com/today\n",
    "\n",
    "html = requests.get('https://weather.naver.com/today/')\n",
    "soup = bs(html.text, 'html.parser')\n",
    "# print(soup) 너무 길다"
   ]
  },
  {
   "cell_type": "code",
   "execution_count": 22,
   "id": "9c667363",
   "metadata": {},
   "outputs": [
    {
     "name": "stdout",
     "output_type": "stream",
     "text": [
      "<ul class=\"today_chart_list\">\n",
      "<li class=\"item_today level4_2\">\n",
      "<a class=\"item_inner\" href=\"/air/02390589\" onclick=\"nclk_v2(this, 'wtk.pm10cd', '', '')\">\n",
      "<div class=\"ttl_area\">\n",
      "<strong class=\"ttl\">미세먼지</strong>\n",
      "<em class=\"level_text\">보통</em>\n",
      "</div>\n",
      "</a>\n",
      "</li><li class=\"item_today level4_2\">\n",
      "<a class=\"item_inner\" href=\"/air/02390589\" onclick=\"nclk_v2(this, 'wtk.pm25cd', '', '')\">\n",
      "<div class=\"ttl_area\">\n",
      "<strong class=\"ttl\">초미세먼지</strong>\n",
      "<em class=\"level_text\">보통</em>\n",
      "</div>\n",
      "</a>\n",
      "</li><li class=\"item_today level5_1\">\n",
      "<a class=\"item_inner\" href=\"#lifeIndex\" onclick=\"nclk_v2(this, 'wtk.uvictcd', '', '')\">\n",
      "<div class=\"ttl_area\">\n",
      "<strong class=\"ttl\">자외선</strong>\n",
      "<em class=\"level_text\">낮음</em>\n",
      "</div>\n",
      "</a>\n",
      "</li></ul>\n"
     ]
    }
   ],
   "source": [
    "dustdata_one = soup.find('ul',{'class':'today_chart_list'})\n",
    "print(dustdata_one)"
   ]
  },
  {
   "cell_type": "code",
   "execution_count": 23,
   "id": "6430e008",
   "metadata": {},
   "outputs": [
    {
     "name": "stdout",
     "output_type": "stream",
     "text": [
      "[<div class=\"ttl_area\">\n",
      "<strong class=\"ttl\">미세먼지</strong>\n",
      "<em class=\"level_text\">보통</em>\n",
      "</div>, <div class=\"ttl_area\">\n",
      "<strong class=\"ttl\">초미세먼지</strong>\n",
      "<em class=\"level_text\">보통</em>\n",
      "</div>, <div class=\"ttl_area\">\n",
      "<strong class=\"ttl\">자외선</strong>\n",
      "<em class=\"level_text\">낮음</em>\n",
      "</div>]\n"
     ]
    }
   ],
   "source": [
    "dustdata_all = dustdata_one.findAll('div')\n",
    "print(dustdata_all)"
   ]
  },
  {
   "cell_type": "code",
   "execution_count": 24,
   "id": "ab49b465",
   "metadata": {},
   "outputs": [
    {
     "data": {
      "text/plain": [
       "<div class=\"ttl_area\">\n",
       "<strong class=\"ttl\">미세먼지</strong>\n",
       "<em class=\"level_text\">보통</em>\n",
       "</div>"
      ]
     },
     "execution_count": 24,
     "metadata": {},
     "output_type": "execute_result"
    }
   ],
   "source": [
    "dustdata_all[0]"
   ]
  },
  {
   "cell_type": "code",
   "execution_count": 25,
   "id": "d443ca49",
   "metadata": {},
   "outputs": [
    {
     "data": {
      "text/plain": [
       "<div class=\"ttl_area\">\n",
       "<strong class=\"ttl\">초미세먼지</strong>\n",
       "<em class=\"level_text\">보통</em>\n",
       "</div>"
      ]
     },
     "execution_count": 25,
     "metadata": {},
     "output_type": "execute_result"
    }
   ],
   "source": [
    "dustdata_all[1]"
   ]
  },
  {
   "cell_type": "code",
   "execution_count": 26,
   "id": "d9324947",
   "metadata": {},
   "outputs": [
    {
     "data": {
      "text/plain": [
       "<em class=\"level_text\">보통</em>"
      ]
     },
     "execution_count": 26,
     "metadata": {},
     "output_type": "execute_result"
    }
   ],
   "source": [
    "dustdata_all[0].find('em',{'class':'level_text'})"
   ]
  },
  {
   "cell_type": "code",
   "execution_count": 27,
   "id": "6148538f",
   "metadata": {},
   "outputs": [
    {
     "data": {
      "text/plain": [
       "'보통'"
      ]
     },
     "execution_count": 27,
     "metadata": {},
     "output_type": "execute_result"
    }
   ],
   "source": [
    "dustdata_all[0].find('em',{'class':'level_text'}).text"
   ]
  },
  {
   "cell_type": "code",
   "execution_count": 28,
   "id": "9741dcc4",
   "metadata": {},
   "outputs": [],
   "source": [
    "find_dust_code = dustdata_all[0].find('em',{'class':'level_text'})"
   ]
  },
  {
   "cell_type": "code",
   "execution_count": null,
   "id": "70dafe6c",
   "metadata": {},
   "outputs": [],
   "source": []
  },
  {
   "cell_type": "markdown",
   "id": "69ca7215",
   "metadata": {},
   "source": [
    "안에 어떤 level이나 어떤 class로 되어있는지 확인하고,\n",
    "행, 열(axis)을 활용해서 불러올 줄 알아야함.\n",
    "그리고 원하는 값을 도출할 수 있어야함."
   ]
  }
 ],
 "metadata": {
  "kernelspec": {
   "display_name": "Python 3 (ipykernel)",
   "language": "python",
   "name": "python3"
  },
  "language_info": {
   "codemirror_mode": {
    "name": "ipython",
    "version": 3
   },
   "file_extension": ".py",
   "mimetype": "text/x-python",
   "name": "python",
   "nbconvert_exporter": "python",
   "pygments_lexer": "ipython3",
   "version": "3.9.7"
  }
 },
 "nbformat": 4,
 "nbformat_minor": 5
}
