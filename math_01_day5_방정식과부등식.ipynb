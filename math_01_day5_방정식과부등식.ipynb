{
 "cells": [
  {
   "cell_type": "code",
   "execution_count": 2,
   "id": "e4681687",
   "metadata": {
    "scrolled": true
   },
   "outputs": [
    {
     "name": "stdout",
     "output_type": "stream",
     "text": [
      "Requirement already satisfied: sympy in c:\\users\\jhjh3\\anaconda3\\lib\\site-packages (1.9)\n",
      "Requirement already satisfied: mpmath>=0.19 in c:\\users\\jhjh3\\anaconda3\\lib\\site-packages (from sympy) (1.2.1)\n"
     ]
    }
   ],
   "source": [
    "!pip install sympy "
   ]
  },
  {
   "cell_type": "code",
   "execution_count": 3,
   "id": "c39558e1",
   "metadata": {
    "scrolled": true
   },
   "outputs": [],
   "source": [
    "from sympy import Symbol, solve"
   ]
  },
  {
   "cell_type": "code",
   "execution_count": 4,
   "id": "5ffd029e",
   "metadata": {},
   "outputs": [],
   "source": [
    "x = Symbol('x')"
   ]
  },
  {
   "cell_type": "code",
   "execution_count": 5,
   "id": "7b5ce1b0",
   "metadata": {},
   "outputs": [
    {
     "data": {
      "text/latex": [
       "$\\displaystyle x$"
      ],
      "text/plain": [
       "x"
      ]
     },
     "execution_count": 5,
     "metadata": {},
     "output_type": "execute_result"
    }
   ],
   "source": [
    "x"
   ]
  },
  {
   "cell_type": "code",
   "execution_count": 6,
   "id": "1439ff7a",
   "metadata": {
    "scrolled": true
   },
   "outputs": [
    {
     "data": {
      "text/plain": [
       "[3]"
      ]
     },
     "execution_count": 6,
     "metadata": {},
     "output_type": "execute_result"
    }
   ],
   "source": [
    "equation = 2*x-6\n",
    "solve(equation)"
   ]
  },
  {
   "cell_type": "code",
   "execution_count": 7,
   "id": "a2d2279d",
   "metadata": {},
   "outputs": [
    {
     "data": {
      "text/plain": [
       "[6]"
      ]
     },
     "execution_count": 7,
     "metadata": {},
     "output_type": "execute_result"
    }
   ],
   "source": [
    "k = Symbol('k')\n",
    "equation_2 = k-2-4\n",
    "solve(equation_2)"
   ]
  },
  {
   "cell_type": "code",
   "execution_count": 8,
   "id": "167f8b73",
   "metadata": {},
   "outputs": [
    {
     "name": "stdout",
     "output_type": "stream",
     "text": [
      "x\n",
      "y\n"
     ]
    }
   ],
   "source": [
    "#방정식과 부등식\n",
    "\n",
    "x= Symbol('x')\n",
    "y= Symbol('y')\n",
    "print(x)\n",
    "print(y)"
   ]
  },
  {
   "cell_type": "code",
   "execution_count": 9,
   "id": "e4e76b80",
   "metadata": {},
   "outputs": [],
   "source": [
    "equation_3 = 3*x+y-2\n",
    "equation_4 = x-2*y-3"
   ]
  },
  {
   "cell_type": "code",
   "execution_count": 10,
   "id": "c530eb82",
   "metadata": {},
   "outputs": [
    {
     "data": {
      "text/plain": [
       "[{x: 1, y: -1}]"
      ]
     },
     "execution_count": 10,
     "metadata": {},
     "output_type": "execute_result"
    }
   ],
   "source": [
    "solve((equation_3, equation_4), dict=True)"
   ]
  },
  {
   "cell_type": "markdown",
   "id": "cdc5a6b3",
   "metadata": {},
   "source": [
    "------\n",
    "\n",
    "### 기초수학\n",
    "\n",
    "##### 책참고 \n",
    "\n",
    "[인공지능을 위한 수학](http://www.yes24.com/Product/Goods/66913718)\n",
    "\n",
    "[혼자 공부하는 파이썬](http://www.yes24.com/Product/Goods/103153224)  (혼공파)\n",
    "\n",
    "[선형대수와 통계학으로 배우는 머신러닝 with 파이썬](http://www.yes24.com/Product/Goods/97032765) \n",
    "\n",
    "\n",
    "공부할게 많네?ㅎ?ㅎ?ㅎ?\n",
    "----"
   ]
  }
 ],
 "metadata": {
  "kernelspec": {
   "display_name": "Python 3 (ipykernel)",
   "language": "python",
   "name": "python3"
  },
  "language_info": {
   "codemirror_mode": {
    "name": "ipython",
    "version": 3
   },
   "file_extension": ".py",
   "mimetype": "text/x-python",
   "name": "python",
   "nbconvert_exporter": "python",
   "pygments_lexer": "ipython3",
   "version": "3.9.7"
  }
 },
 "nbformat": 4,
 "nbformat_minor": 5
}
