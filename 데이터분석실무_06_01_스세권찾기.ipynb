{
 "cells": [
  {
   "cell_type": "code",
   "execution_count": 1,
   "id": "60e77747",
   "metadata": {},
   "outputs": [],
   "source": [
    "from selenium import webdriver\n",
    "from selenium.webdriver.chrome.service import Service\n",
    "from bs4 import BeautifulSoup\n",
    "from selenium.webdriver.common.by import By\n",
    "\n",
    "import pandas as pd\n",
    "import numpy as np\n",
    "import time"
   ]
  },
  {
   "cell_type": "code",
   "execution_count": 2,
   "id": "48c29a51",
   "metadata": {},
   "outputs": [],
   "source": [
    "# url = 'https://www.starbucks.co.kr/store/store_map.do'\n",
    "# driver.get(url)"
   ]
  },
  {
   "cell_type": "code",
   "execution_count": 3,
   "id": "f881956c",
   "metadata": {},
   "outputs": [],
   "source": [
    "ser = Service('C:/Users/jhjh3/class/datasalon-master/02_data_class/chromedriver/chromedriver.exe')\n",
    "driver = webdriver.Chrome(service=ser)"
   ]
  },
  {
   "cell_type": "code",
   "execution_count": 4,
   "id": "b1c32329",
   "metadata": {},
   "outputs": [],
   "source": [
    "url = 'https://www.starbucks.co.kr/'\n",
    "driver.get(url)"
   ]
  },
  {
   "cell_type": "code",
   "execution_count": 6,
   "id": "3e601ae2",
   "metadata": {},
   "outputs": [],
   "source": [
    "seoul_btn = '#container > div > form > fieldset > div > section > article.find_store_cont > article > article:nth-child(4) > div.loca_step1 > div.loca_step1_cont > ul > li:nth-child(1) > a'\n",
    "driver.find_element(By.CSS_SELECTOR, seoul_btn).click()"
   ]
  },
  {
   "cell_type": "code",
   "execution_count": 7,
   "id": "f689a6ee",
   "metadata": {},
   "outputs": [],
   "source": [
    "all_btn = '#mCSB_2_container > ul > li:nth-child(1) > a'\n",
    "driver.find_element(By.CSS_SELECTOR, all_btn).click()\n",
    "time.sleep(3)"
   ]
  },
  {
   "cell_type": "code",
   "execution_count": 8,
   "id": "305fe779",
   "metadata": {},
   "outputs": [],
   "source": [
    "songpa_btn = '#mCSB_2_container > ul > li:nth-child(19) > a'\n",
    "driver.find_element(By.CSS_SELECTOR, songpa_btn).click()\n",
    "time.sleep(3)"
   ]
  },
  {
   "cell_type": "code",
   "execution_count": 9,
   "id": "844ea823",
   "metadata": {},
   "outputs": [],
   "source": [
    "html = driver.page_source\n",
    "soup = BeautifulSoup(html, 'html.parser')"
   ]
  },
  {
   "cell_type": "code",
   "execution_count": 10,
   "id": "05e4bfb4",
   "metadata": {},
   "outputs": [
    {
     "data": {
      "text/plain": [
       "34"
      ]
     },
     "execution_count": 10,
     "metadata": {},
     "output_type": "execute_result"
    }
   ],
   "source": [
    "starbucks_soup_list = soup.select('ul.quickSearchResultBoxSidoGugun > li.quickResultLstCon')\n",
    "len(starbucks_soup_list)"
   ]
  },
  {
   "cell_type": "code",
   "execution_count": 11,
   "id": "4d6acac3",
   "metadata": {
    "scrolled": true
   },
   "outputs": [
    {
     "data": {
      "text/plain": [
       "<li class=\"quickResultLstCon\" data-code=\"3776\" data-hlytag=\"null\" data-index=\"0\" data-lat=\"37.499829\" data-long=\"127.147672\" data-name=\"송파마천사거리DT\" data-storecd=\"1694\" style=\"background:#fff\"> <strong data-my_siren_order_store_yn=\"N\" data-name=\"송파마천사거리DT\" data-store=\"1694\" data-yn=\"N\">송파마천사거리DT  </strong> <p class=\"result_details\">서울특별시 송파구 거마로 78 (마천동)<br/>1522-3232</p> <i class=\"pin_generalDT\">리저브 매장 2번</i></li>"
      ]
     },
     "execution_count": 11,
     "metadata": {},
     "output_type": "execute_result"
    }
   ],
   "source": [
    "starbucks_soup_list[0]"
   ]
  },
  {
   "cell_type": "code",
   "execution_count": 12,
   "id": "fe5ae2af",
   "metadata": {},
   "outputs": [
    {
     "data": {
      "text/plain": [
       "' 송파마천사거리DT   서울특별시 송파구 거마로 78 (마천동)1522-3232 리저브 매장 2번'"
      ]
     },
     "execution_count": 12,
     "metadata": {},
     "output_type": "execute_result"
    }
   ],
   "source": [
    "starbucks_soup_list[0].text"
   ]
  },
  {
   "cell_type": "code",
   "execution_count": 13,
   "id": "653b096a",
   "metadata": {},
   "outputs": [
    {
     "data": {
      "text/plain": [
       "<li class=\"quickResultLstCon\" data-code=\"3776\" data-hlytag=\"null\" data-index=\"0\" data-lat=\"37.499829\" data-long=\"127.147672\" data-name=\"송파마천사거리DT\" data-storecd=\"1694\" style=\"background:#fff\"> <strong data-my_siren_order_store_yn=\"N\" data-name=\"송파마천사거리DT\" data-store=\"1694\" data-yn=\"N\">송파마천사거리DT  </strong> <p class=\"result_details\">서울특별시 송파구 거마로 78 (마천동)<br/>1522-3232</p> <i class=\"pin_generalDT\">리저브 매장 2번</i></li>"
      ]
     },
     "execution_count": 13,
     "metadata": {},
     "output_type": "execute_result"
    }
   ],
   "source": [
    "starbucks_store = starbucks_soup_list[0]\n",
    "starbucks_store"
   ]
  },
  {
   "cell_type": "code",
   "execution_count": 14,
   "id": "8e5ba5e2",
   "metadata": {},
   "outputs": [
    {
     "data": {
      "text/plain": [
       "'1522-3232'"
      ]
     },
     "execution_count": 14,
     "metadata": {},
     "output_type": "execute_result"
    }
   ],
   "source": [
    "name = starbucks_store.select('strong')[0].text.strip()\n",
    "# name\n",
    "lat = starbucks_store['data-lat'].strip()\n",
    "long = starbucks_store['data-long'].strip()\n",
    "starbucks_store.select('i')[0].text.strip()\n",
    "store_type = starbucks_store.select('i')[0]['class'][0][4:]\n",
    "adress = str(starbucks_store.select('p')[0]).split('<br/>')[0].split('>')[1]\n",
    "tel = str(starbucks_store.select('p')[0]).split('<br/>')[1].split('<')[0]\n",
    "# adress = starbucks_store.select('p')[0].text[:-9]\n",
    "# tel = starbucks_store.select('p')[0].text[-9:-1]\n",
    "tel\n",
    "# type(store_type)"
   ]
  },
  {
   "cell_type": "code",
   "execution_count": 15,
   "id": "37757ff0",
   "metadata": {},
   "outputs": [
    {
     "data": {
      "text/plain": [
       "[['송파마천사거리DT',\n",
       "  '37.499829',\n",
       "  '127.147672',\n",
       "  'generalDT',\n",
       "  '서울특별시 송파구 거마로 78 (마천동)',\n",
       "  '1522-3232'],\n",
       " ['송파KT',\n",
       "  '37.5139991',\n",
       "  '127.1063026',\n",
       "  'general',\n",
       "  '서울특별시 송파구 잠실로 209 (신천동), 오피스빌딩 1층 2~4호',\n",
       "  '1522-3232'],\n",
       " ['몽촌토성역',\n",
       "  '37.516913',\n",
       "  '127.113127',\n",
       "  'general',\n",
       "  '서울특별시 송파구 위례성대로 6 (방이동)',\n",
       "  '1522-3232'],\n",
       " ['송파NC',\n",
       "  '37.4778761',\n",
       "  '127.12567478',\n",
       "  'general',\n",
       "  '서울특별시 송파구 충민로 66 (문정동)  가든파이브라이프 패션관1층',\n",
       "  '1522-3232'],\n",
       " ['가든파이브',\n",
       "  '37.4782316',\n",
       "  '127.11937030000001',\n",
       "  'general',\n",
       "  '서울특별시 송파구 충민로 10 (문정동) 가든파이브툴',\n",
       "  '1522-3232'],\n",
       " ['가락시장역',\n",
       "  '37.494299',\n",
       "  '127.121354',\n",
       "  'general',\n",
       "  '서울특별시 송파구 중대로 121, 롯데캐슬 파인힐 1층 (가락동)',\n",
       "  '1522-3232'],\n",
       " ['석촌역',\n",
       "  '37.5042626',\n",
       "  '127.10610769999994',\n",
       "  'general',\n",
       "  '서울특별시 송파구 백제고분로 358, 1층 (석촌동)',\n",
       "  '1522-3232'],\n",
       " ['가락본동',\n",
       "  '37.494895',\n",
       "  '127.118785',\n",
       "  'general',\n",
       "  '서울특별시 송파구 송파대로30길 13 (가락동)',\n",
       "  '1522-3232'],\n",
       " ['올림픽아파트',\n",
       "  '37.515315',\n",
       "  '127.133237',\n",
       "  'general',\n",
       "  '서울특별시 송파구 양재대로 1222 (방이동)',\n",
       "  '1522-3232'],\n",
       " ['아시아선수촌',\n",
       "  '37.510590',\n",
       "  '127.079047',\n",
       "  'general',\n",
       "  '서울특별시 송파구 백제고분로 69 (잠실동)',\n",
       "  '1522-3232'],\n",
       " ['갤러리아팰리스',\n",
       "  '37.51108365',\n",
       "  '127.0938059',\n",
       "  'general',\n",
       "  '서울특별시 송파구 올림픽로 212, 갤러리아 팰리스 (잠실동)',\n",
       "  '1522-3232'],\n",
       " ['잠실역',\n",
       "  '37.515272',\n",
       "  '127.099231',\n",
       "  'general',\n",
       "  '서울특별시 송파구 송파대로 562 (신천동, 웰리스타워,삼성웰리스아파트) 1층,2층',\n",
       "  '1522-3232'],\n",
       " ['잠실새내역',\n",
       "  '37.511679',\n",
       "  '127.081062',\n",
       "  'general',\n",
       "  '서울특별시 송파구 올림픽로 96 (잠실동)',\n",
       "  '1522-3232'],\n",
       " ['잠실푸르지오월드',\n",
       "  '37.517649',\n",
       "  '127.103426',\n",
       "  'general',\n",
       "  '서울특별시 송파구 올림픽로35가길 9, 잠실푸르지오월드마크 1층 (신천동)',\n",
       "  '1522-3232'],\n",
       " ['석촌호수',\n",
       "  '37.509581',\n",
       "  '127.104993',\n",
       "  'general',\n",
       "  '서울특별시 송파구 석촌호수로 262 (송파동)',\n",
       "  '1522-3232'],\n",
       " ['방이역',\n",
       "  '37.508666',\n",
       "  '127.126569',\n",
       "  'general',\n",
       "  '서울특별시 송파구 마천로 53, 1~2층 (오금동)',\n",
       "  '1522-3232'],\n",
       " ['올림픽공원남문',\n",
       "  '37.5133',\n",
       "  '127.123113',\n",
       "  'general',\n",
       "  '서울특별시 송파구 위례성대로 102 (방이동)',\n",
       "  '1522-3232'],\n",
       " ['올림픽훼미리',\n",
       "  '37.491626',\n",
       "  '127.116308',\n",
       "  'general',\n",
       "  '서울특별시 송파구 중대로 68 (문정동)',\n",
       "  '1522-3232'],\n",
       " ['문정로데오',\n",
       "  '37.491905',\n",
       "  '127.1262696',\n",
       "  'general',\n",
       "  '서울특별시 송파구 동남로 141 (가락동)',\n",
       "  '1522-3232'],\n",
       " ['석촌서호',\n",
       "  '37.5063929',\n",
       "  '127.0964684',\n",
       "  'general',\n",
       "  '서울특별시 송파구 석촌호수로 176 (삼전동)',\n",
       "  '1522-3232'],\n",
       " ['송파사거리',\n",
       "  '37.5022788',\n",
       "  '127.1103904',\n",
       "  'general',\n",
       "  '서울특별시 송파구 송파대로 386 (송파동)',\n",
       "  '1522-3232'],\n",
       " ['송파아이파크',\n",
       "  '37.479892',\n",
       "  '127.122379',\n",
       "  'general',\n",
       "  '서울특별시 송파구 법원로 55 (문정동)',\n",
       "  '1522-3232'],\n",
       " ['올림픽평화의문',\n",
       "  '37.5156426',\n",
       "  '127.11648190000005',\n",
       "  'general',\n",
       "  '서울특별시 송파구 위례성대로 38 (방이동) 해태그린피아빌라트',\n",
       "  '1522-3232'],\n",
       " ['송파구청',\n",
       "  '37.514573',\n",
       "  '127.107404',\n",
       "  'general',\n",
       "  '서울특별시 송파구 오금로 87 (방이동)',\n",
       "  '1522-3232'],\n",
       " ['송파방이DT',\n",
       "  '37.506564',\n",
       "  '127.120495',\n",
       "  'generalDT',\n",
       "  '서울특별시 송파구 오금로 241 (방이동)',\n",
       "  '1522-3232'],\n",
       " ['송파위례',\n",
       "  '37.478264',\n",
       "  '127.144067',\n",
       "  'general',\n",
       "  '서울특별시 송파구 위례광장로 230 (장지동, 위례2차아이파크)',\n",
       "  '1522-3232'],\n",
       " ['잠실대교남단R',\n",
       "  '37.515511',\n",
       "  '127.099006',\n",
       "  'reserve',\n",
       "  '서울특별시 송파구 송파대로 570 타워 730 1층',\n",
       "  '1522-3232'],\n",
       " ['문정역',\n",
       "  '37.484813',\n",
       "  '127.122237',\n",
       "  'general',\n",
       "  '서울특별시 송파구 송파대로 167 (문정동)테라타워 B동 137호~139호,204호',\n",
       "  '1522-3232'],\n",
       " ['문정하비오',\n",
       "  '37.481925',\n",
       "  '127.123446',\n",
       "  'general',\n",
       "  '서울특별시 송파구 송파대로 111 (문정동, 파크하비오) 204동 104호~107호',\n",
       "  '1522-3232'],\n",
       " ['송파개롱역',\n",
       "  '37.496956',\n",
       "  '127.13652',\n",
       "  'general',\n",
       "  '서울특별시 송파구 오금로 420 (가락동)',\n",
       "  '1522-3232'],\n",
       " ['문정법원로R',\n",
       "  '37.487447',\n",
       "  '127.119164',\n",
       "  'reserve',\n",
       "  '서울특별시 송파구 송파대로 201 (문정동)',\n",
       "  '1522-3232'],\n",
       " ['잠실시그마타워',\n",
       "  '37.514567',\n",
       "  '127.102493',\n",
       "  'general',\n",
       "  '서울특별시 송파구 올림픽로 289 (신천동)',\n",
       "  '1522-3232'],\n",
       " ['송파헬리오시티',\n",
       "  '37.4978563',\n",
       "  '127.1031325',\n",
       "  'general',\n",
       "  '서울특별시 송파구 송파대로 345 (가락동, 헬리오시티)',\n",
       "  '1522-3232'],\n",
       " ['송파나루역DT',\n",
       "  '37.510793',\n",
       "  '127.1102658',\n",
       "  'generalDT',\n",
       "  '서울특별시 송파구 오금로 142 (송파동)',\n",
       "  '1522-3232']]"
      ]
     },
     "execution_count": 15,
     "metadata": {},
     "output_type": "execute_result"
    }
   ],
   "source": [
    "colums = ['매장명', '위도', '경도', '매장타입', '주소', '전화번호']\n",
    "starbucks_list = []\n",
    "\n",
    "for starbucks_store in starbucks_soup_list:  \n",
    "    name = starbucks_store.select('strong')[0].text.strip()\n",
    "    lat = starbucks_store['data-lat'].strip()\n",
    "    long = starbucks_store['data-long'].strip()\n",
    "    store_type = starbucks_store.select('i')[0]['class'][0][4:]\n",
    "    adress = str(starbucks_store.select('p')[0]).split('<br/>')[0].split('>')[1]\n",
    "    tel = str(starbucks_store.select('p')[0]).split('<br/>')[1].split('<')[0]\n",
    "\n",
    "    mylist = [name, lat, long, store_type, adress, tel]\n",
    "    \n",
    "    starbucks_list.append(mylist)\n",
    "    \n",
    "starbucks_list"
   ]
  },
  {
   "cell_type": "code",
   "execution_count": 16,
   "id": "7063f558",
   "metadata": {},
   "outputs": [
    {
     "name": "stdout",
     "output_type": "stream",
     "text": [
      "<class 'pandas.core.frame.DataFrame'>\n",
      "RangeIndex: 34 entries, 0 to 33\n",
      "Data columns (total 6 columns):\n",
      " #   Column  Non-Null Count  Dtype \n",
      "---  ------  --------------  ----- \n",
      " 0   매장명     34 non-null     object\n",
      " 1   위도      34 non-null     object\n",
      " 2   경도      34 non-null     object\n",
      " 3   매장타입    34 non-null     object\n",
      " 4   주소      34 non-null     object\n",
      " 5   전화번호    34 non-null     object\n",
      "dtypes: object(6)\n",
      "memory usage: 1.7+ KB\n"
     ]
    }
   ],
   "source": [
    "columns = ['매장명', '위도', '경도', '매장타입', '주소', '전화번호']\n",
    "\n",
    "seoul_starbucks_df = pd.DataFrame(starbucks_list, \n",
    "                                  columns = columns)\n",
    "seoul_starbucks_df.head()\n",
    "seoul_starbucks_df.info()"
   ]
  },
  {
   "cell_type": "code",
   "execution_count": 19,
   "id": "9e8a9093",
   "metadata": {},
   "outputs": [],
   "source": [
    "seoul_starbucks_df.to_excel('./seoul_starbucks_list_class.xlsx', index = False)"
   ]
  },
  {
   "cell_type": "markdown",
   "id": "011f284b",
   "metadata": {},
   "source": [
    "06_02에 이어서,"
   ]
  }
 ],
 "metadata": {
  "kernelspec": {
   "display_name": "Python 3 (ipykernel)",
   "language": "python",
   "name": "python3"
  },
  "language_info": {
   "codemirror_mode": {
    "name": "ipython",
    "version": 3
   },
   "file_extension": ".py",
   "mimetype": "text/x-python",
   "name": "python",
   "nbconvert_exporter": "python",
   "pygments_lexer": "ipython3",
   "version": "3.9.7"
  }
 },
 "nbformat": 4,
 "nbformat_minor": 5
}
